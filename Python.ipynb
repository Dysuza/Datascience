{
  "nbformat": 4,
  "nbformat_minor": 0,
  "metadata": {
    "colab": {
      "provenance": [],
      "authorship_tag": "ABX9TyPJg1Z6ZO9jM9Wc2h3Om/IO",
      "include_colab_link": true
    },
    "kernelspec": {
      "name": "python3",
      "display_name": "Python 3"
    },
    "language_info": {
      "name": "python"
    }
  },
  "cells": [
    {
      "cell_type": "markdown",
      "metadata": {
        "id": "view-in-github",
        "colab_type": "text"
      },
      "source": [
        "<a href=\"https://colab.research.google.com/github/Dysuza/Datascience/blob/main/Python.ipynb\" target=\"_parent\"><img src=\"https://colab.research.google.com/assets/colab-badge.svg\" alt=\"Open In Colab\"/></a>"
      ]
    },
    {
      "cell_type": "code",
      "execution_count": null,
      "metadata": {
        "colab": {
          "base_uri": "https://localhost:8080/"
        },
        "id": "rBbHLOTXRAYl",
        "outputId": "0698dcef-ed9b-49db-8459-4998e8cf9cea"
      },
      "outputs": [
        {
          "output_type": "stream",
          "name": "stdout",
          "text": [
            "hello world\n"
          ]
        }
      ],
      "source": [
        "print(\"hello world\")"
      ]
    },
    {
      "cell_type": "code",
      "source": [
        "A=\"adith biju\"\n",
        "B=\"age 10\"\n",
        "C = A + B\n",
        "print(C)\n"
      ],
      "metadata": {
        "colab": {
          "base_uri": "https://localhost:8080/"
        },
        "id": "JMvxLgqZRL-O",
        "outputId": "2dd542e1-b25d-4df6-f557-b6a40269a16d"
      },
      "execution_count": null,
      "outputs": [
        {
          "output_type": "stream",
          "name": "stdout",
          "text": [
            "adith bijuage 10\n"
          ]
        }
      ]
    },
    {
      "cell_type": "code",
      "source": [
        "A = input(\"enter your name\")\n",
        "B= input(\"enter your age\")\n",
        "C= A + B\n",
        "print(C)"
      ],
      "metadata": {
        "colab": {
          "base_uri": "https://localhost:8080/"
        },
        "id": "eKNauMN9RdeT",
        "outputId": "9cbab60f-467b-4c65-a32b-db0185ffad35"
      },
      "execution_count": null,
      "outputs": [
        {
          "output_type": "stream",
          "name": "stdout",
          "text": [
            "enter your nameAdith\n",
            "enter your age10\n",
            "Adith10\n"
          ]
        }
      ]
    },
    {
      "cell_type": "code",
      "source": [
        "name= input(\"enter the name0\")\n",
        "print( name )"
      ],
      "metadata": {
        "colab": {
          "base_uri": "https://localhost:8080/"
        },
        "id": "yPRm-W6XUlH1",
        "outputId": "295dcea9-c7d8-48c4-f1ba-f1db8895c995"
      },
      "execution_count": null,
      "outputs": [
        {
          "output_type": "stream",
          "name": "stdout",
          "text": [
            "enter the name0adith\n",
            "adith\n"
          ]
        }
      ]
    },
    {
      "cell_type": "code",
      "source": [
        "print(type(name))"
      ],
      "metadata": {
        "colab": {
          "base_uri": "https://localhost:8080/"
        },
        "id": "U_TvGD9vVD61",
        "outputId": "5812c65e-6a70-4e37-b0a4-66bc31a2afda"
      },
      "execution_count": null,
      "outputs": [
        {
          "output_type": "stream",
          "name": "stdout",
          "text": [
            "<class 'str'>\n"
          ]
        }
      ]
    },
    {
      "cell_type": "code",
      "source": [
        "# Heading"
      ],
      "metadata": {
        "id": "Xbjbw2cNVpCt"
      },
      "execution_count": null,
      "outputs": []
    },
    {
      "cell_type": "markdown",
      "source": [
        "- blahhh\n",
        "# Heading1\n",
        "## Heading2\n",
        "**bold**\n",
        "*bold*\n",
        "***bold***\n",
        "```\n",
        "print(\"Hello world\")\n",
        "```\n",
        "[Google](https://www.google.com)\n"
      ],
      "metadata": {
        "id": "6eCrOSDDqnBX"
      }
    },
    {
      "cell_type": "code",
      "source": [
        "x=10\n",
        "y=10.55\n",
        "z=1+2j\n",
        "print(type(x))\n",
        "print(type(y))\n",
        "print(type(z))"
      ],
      "metadata": {
        "id": "Ls9UAFPGqa6e",
        "colab": {
          "base_uri": "https://localhost:8080/"
        },
        "outputId": "6f0e95a8-35b2-454f-be9c-9f758bb20204"
      },
      "execution_count": null,
      "outputs": [
        {
          "output_type": "stream",
          "name": "stdout",
          "text": [
            "<class 'int'>\n",
            "<class 'float'>\n",
            "<class 'complex'>\n"
          ]
        }
      ]
    },
    {
      "cell_type": "code",
      "source": [
        "x= complex(1,2)\n",
        "x"
      ],
      "metadata": {
        "colab": {
          "base_uri": "https://localhost:8080/"
        },
        "id": "E8mDpqqJUOu-",
        "outputId": "32c7d0ff-0081-4d8c-af13-e6f62bb58b31"
      },
      "execution_count": null,
      "outputs": [
        {
          "output_type": "execute_result",
          "data": {
            "text/plain": [
              "(1+2j)"
            ]
          },
          "metadata": {},
          "execution_count": 8
        }
      ]
    },
    {
      "cell_type": "code",
      "source": [
        "type(x)"
      ],
      "metadata": {
        "colab": {
          "base_uri": "https://localhost:8080/"
        },
        "id": "vj80fKHFU9NF",
        "outputId": "f2f9eca7-e674-45ff-f080-5d70a7a097a9"
      },
      "execution_count": null,
      "outputs": [
        {
          "output_type": "execute_result",
          "data": {
            "text/plain": [
              "complex"
            ]
          },
          "metadata": {},
          "execution_count": 9
        }
      ]
    },
    {
      "cell_type": "code",
      "source": [
        "var1= float(input(\"enter the number:\"))\n",
        "var2= 23.133\n",
        "print(var1)\n",
        "print(var2)"
      ],
      "metadata": {
        "colab": {
          "base_uri": "https://localhost:8080/"
        },
        "id": "ZutI-wrGVLwe",
        "outputId": "2b24cbd0-24a0-4264-92d3-a388a2cc33a4"
      },
      "execution_count": null,
      "outputs": [
        {
          "output_type": "stream",
          "name": "stdout",
          "text": [
            "enter the number:12\n",
            "12.0\n",
            "23.133\n"
          ]
        }
      ]
    },
    {
      "cell_type": "code",
      "source": [
        "name = \"ally the Allien\"\n",
        "name"
      ],
      "metadata": {
        "colab": {
          "base_uri": "https://localhost:8080/",
          "height": 35
        },
        "id": "Ll8RVcsfWO2y",
        "outputId": "aa166892-8158-4e78-d993-62cd4e0508fa"
      },
      "execution_count": null,
      "outputs": [
        {
          "output_type": "execute_result",
          "data": {
            "text/plain": [
              "'ally the Allien'"
            ],
            "application/vnd.google.colaboratory.intrinsic+json": {
              "type": "string"
            }
          },
          "metadata": {},
          "execution_count": 11
        }
      ]
    },
    {
      "cell_type": "code",
      "source": [
        "greeting=\"welcome to the Earth !!!!\"\n",
        "message = name + \" , \" + greeting\n",
        "message"
      ],
      "metadata": {
        "colab": {
          "base_uri": "https://localhost:8080/",
          "height": 35
        },
        "id": "8GabdD12WgGe",
        "outputId": "95daec17-31db-4d1f-8fa8-8ad8e211b3c1"
      },
      "execution_count": null,
      "outputs": [
        {
          "output_type": "execute_result",
          "data": {
            "text/plain": [
              "'ally the Allien , welcome to the Earth !!!!'"
            ],
            "application/vnd.google.colaboratory.intrinsic+json": {
              "type": "string"
            }
          },
          "metadata": {},
          "execution_count": 12
        }
      ]
    },
    {
      "cell_type": "code",
      "source": [
        "x=123\n",
        "y=-123\n",
        "z=4\n",
        "print(type(x))\n",
        "print(type(y))\n",
        "print(type(z))"
      ],
      "metadata": {
        "colab": {
          "base_uri": "https://localhost:8080/"
        },
        "id": "fkyvqSSyW_LV",
        "outputId": "ea21a5ff-975d-4389-8144-040d3f52c113"
      },
      "execution_count": null,
      "outputs": [
        {
          "output_type": "stream",
          "name": "stdout",
          "text": [
            "<class 'int'>\n",
            "<class 'int'>\n",
            "<class 'int'>\n"
          ]
        }
      ]
    },
    {
      "cell_type": "code",
      "source": [
        "print(\"blahh\"*7)"
      ],
      "metadata": {
        "colab": {
          "base_uri": "https://localhost:8080/"
        },
        "id": "6iVKz_1PX_kW",
        "outputId": "3e7c137f-79de-4c69-e992-842bc5df6f29"
      },
      "execution_count": null,
      "outputs": [
        {
          "output_type": "stream",
          "name": "stdout",
          "text": [
            "blahhblahhblahhblahhblahhblahhblahh\n"
          ]
        }
      ]
    },
    {
      "cell_type": "code",
      "source": [
        "print(\"blahh\\n\"*7)"
      ],
      "metadata": {
        "colab": {
          "base_uri": "https://localhost:8080/"
        },
        "id": "Ra42vOpgYNBm",
        "outputId": "5c6d8412-be80-4b8c-89ea-4cd390e94111"
      },
      "execution_count": null,
      "outputs": [
        {
          "output_type": "stream",
          "name": "stdout",
          "text": [
            "blahh\n",
            "blahh\n",
            "blahh\n",
            "blahh\n",
            "blahh\n",
            "blahh\n",
            "blahh\n",
            "\n"
          ]
        }
      ]
    },
    {
      "cell_type": "code",
      "source": [
        "forename = input(\"What is your name?\")\n",
        "print(\"Hello\", forename)"
      ],
      "metadata": {
        "colab": {
          "base_uri": "https://localhost:8080/"
        },
        "id": "8QdA4TU1YSIm",
        "outputId": "a39f7240-a181-4ef2-ee5c-f6375fe8c9f4"
      },
      "execution_count": null,
      "outputs": [
        {
          "output_type": "stream",
          "name": "stdout",
          "text": [
            "What is your name?adith\n",
            "Hello adith\n"
          ]
        }
      ]
    },
    {
      "cell_type": "code",
      "source": [
        "s=\"python\"\n",
        "print(s[0])\n",
        "print(s[-3])\n",
        "print(s[1])\n",
        "print(len(s))\n",
        "s[-len(s)]"
      ],
      "metadata": {
        "colab": {
          "base_uri": "https://localhost:8080/",
          "height": 105
        },
        "id": "2x5PYHMjYnn_",
        "outputId": "929a6138-c927-48b6-967e-a168806095e8"
      },
      "execution_count": null,
      "outputs": [
        {
          "output_type": "stream",
          "name": "stdout",
          "text": [
            "p\n",
            "h\n",
            "y\n",
            "6\n"
          ]
        },
        {
          "output_type": "execute_result",
          "data": {
            "text/plain": [
              "'p'"
            ],
            "application/vnd.google.colaboratory.intrinsic+json": {
              "type": "string"
            }
          },
          "metadata": {},
          "execution_count": 17
        }
      ]
    },
    {
      "cell_type": "code",
      "source": [
        "s=\"python\"\n",
        "s[0:4]\n",
        "s[:3]\n",
        "s[-5:-2]\n",
        "s[0:6:2]"
      ],
      "metadata": {
        "colab": {
          "base_uri": "https://localhost:8080/",
          "height": 35
        },
        "id": "2f4Q5PQVZcRX",
        "outputId": "a64bb82e-0d3c-4ec7-9845-71a25f33d508"
      },
      "execution_count": null,
      "outputs": [
        {
          "output_type": "execute_result",
          "data": {
            "text/plain": [
              "'pto'"
            ],
            "application/vnd.google.colaboratory.intrinsic+json": {
              "type": "string"
            }
          },
          "metadata": {},
          "execution_count": 18
        }
      ]
    },
    {
      "cell_type": "code",
      "source": [
        "s=\"python\"\n",
        "s.capitalize()"
      ],
      "metadata": {
        "colab": {
          "base_uri": "https://localhost:8080/",
          "height": 35
        },
        "id": "nKyCAzklaLY2",
        "outputId": "dc2eb273-df3a-47be-84f6-c8d1a0875a66"
      },
      "execution_count": null,
      "outputs": [
        {
          "output_type": "execute_result",
          "data": {
            "text/plain": [
              "'Python'"
            ],
            "application/vnd.google.colaboratory.intrinsic+json": {
              "type": "string"
            }
          },
          "metadata": {},
          "execution_count": 19
        }
      ]
    },
    {
      "cell_type": "code",
      "source": [
        "s.upper()"
      ],
      "metadata": {
        "colab": {
          "base_uri": "https://localhost:8080/",
          "height": 35
        },
        "id": "9dWYHFnaa6tu",
        "outputId": "9297030f-72bb-41cb-975c-8b9f106e5575"
      },
      "execution_count": null,
      "outputs": [
        {
          "output_type": "execute_result",
          "data": {
            "text/plain": [
              "'PYTHON'"
            ],
            "application/vnd.google.colaboratory.intrinsic+json": {
              "type": "string"
            }
          },
          "metadata": {},
          "execution_count": 20
        }
      ]
    },
    {
      "cell_type": "code",
      "source": [
        "s_c=s.capitalize()\n",
        "s_c\n",
        "s_c"
      ],
      "metadata": {
        "colab": {
          "base_uri": "https://localhost:8080/",
          "height": 35
        },
        "id": "Yo0UGxBPbFq1",
        "outputId": "a4194179-413f-4118-d121-e01d75a18dca"
      },
      "execution_count": null,
      "outputs": [
        {
          "output_type": "execute_result",
          "data": {
            "text/plain": [
              "'Python'"
            ],
            "application/vnd.google.colaboratory.intrinsic+json": {
              "type": "string"
            }
          },
          "metadata": {},
          "execution_count": 21
        }
      ]
    },
    {
      "cell_type": "code",
      "source": [
        "s_c=s_c.swapcase()\n",
        "s_c"
      ],
      "metadata": {
        "colab": {
          "base_uri": "https://localhost:8080/",
          "height": 35
        },
        "id": "FsktTCKbbR8N",
        "outputId": "bcd03a2f-6726-4459-9c38-cac7c8553ea5"
      },
      "execution_count": null,
      "outputs": [
        {
          "output_type": "execute_result",
          "data": {
            "text/plain": [
              "'pYTHON'"
            ],
            "application/vnd.google.colaboratory.intrinsic+json": {
              "type": "string"
            }
          },
          "metadata": {},
          "execution_count": 22
        }
      ]
    },
    {
      "cell_type": "code",
      "source": [
        "#Boolean\n",
        "X= True\n",
        "Y= False\n",
        "print(type(X))\n",
        "print(type(Y))\n"
      ],
      "metadata": {
        "colab": {
          "base_uri": "https://localhost:8080/"
        },
        "id": "6de6ml18bYWh",
        "outputId": "dc34d586-019c-4eb0-f798-5f3d6c0522de"
      },
      "execution_count": null,
      "outputs": [
        {
          "output_type": "stream",
          "name": "stdout",
          "text": [
            "<class 'bool'>\n",
            "<class 'bool'>\n"
          ]
        }
      ]
    },
    {
      "cell_type": "code",
      "source": [
        "x= 123\n",
        "bool(x)"
      ],
      "metadata": {
        "colab": {
          "base_uri": "https://localhost:8080/"
        },
        "id": "PdMQLt0Wb_vY",
        "outputId": "7758e2b6-4f2a-4413-d01c-b2d94d162ec1"
      },
      "execution_count": null,
      "outputs": [
        {
          "output_type": "execute_result",
          "data": {
            "text/plain": [
              "True"
            ]
          },
          "metadata": {},
          "execution_count": 24
        }
      ]
    },
    {
      "cell_type": "code",
      "source": [
        "float(\"4.5\")\n"
      ],
      "metadata": {
        "colab": {
          "base_uri": "https://localhost:8080/"
        },
        "id": "U8cV-VXEcWbv",
        "outputId": "931a148b-6251-4652-a5ad-98566320b5c7"
      },
      "execution_count": null,
      "outputs": [
        {
          "output_type": "execute_result",
          "data": {
            "text/plain": [
              "4.5"
            ]
          },
          "metadata": {},
          "execution_count": 25
        }
      ]
    },
    {
      "cell_type": "code",
      "source": [
        "int(\"25\")\n"
      ],
      "metadata": {
        "colab": {
          "base_uri": "https://localhost:8080/"
        },
        "id": "t4styDsycl4y",
        "outputId": "cbcd47a3-678e-4b3b-e6a0-1ed1fbf4a49b"
      },
      "execution_count": null,
      "outputs": [
        {
          "output_type": "execute_result",
          "data": {
            "text/plain": [
              "25"
            ]
          },
          "metadata": {},
          "execution_count": 26
        }
      ]
    },
    {
      "cell_type": "code",
      "source": [
        "int(5.625)"
      ],
      "metadata": {
        "colab": {
          "base_uri": "https://localhost:8080/"
        },
        "id": "0s8y3DeAcsKK",
        "outputId": "4d8be66a-6890-44d2-e34c-aa3ba26450ae"
      },
      "execution_count": null,
      "outputs": [
        {
          "output_type": "execute_result",
          "data": {
            "text/plain": [
              "5"
            ]
          },
          "metadata": {},
          "execution_count": 27
        }
      ]
    },
    {
      "cell_type": "code",
      "source": [
        "float(6)\n"
      ],
      "metadata": {
        "colab": {
          "base_uri": "https://localhost:8080/"
        },
        "id": "1JeCknnGctSS",
        "outputId": "7ca9eb9c-cd73-4d18-b873-2937ca453b38"
      },
      "execution_count": null,
      "outputs": [
        {
          "output_type": "execute_result",
          "data": {
            "text/plain": [
              "6.0"
            ]
          },
          "metadata": {},
          "execution_count": 28
        }
      ]
    },
    {
      "cell_type": "code",
      "source": [
        "int(true)\n"
      ],
      "metadata": {
        "colab": {
          "base_uri": "https://localhost:8080/",
          "height": 141
        },
        "id": "ReCYlykPdAhW",
        "outputId": "35c1c2c7-2cf4-492d-f14f-cd04c6cd3a9a"
      },
      "execution_count": null,
      "outputs": [
        {
          "output_type": "error",
          "ename": "NameError",
          "evalue": "name 'true' is not defined",
          "traceback": [
            "\u001b[0;31m---------------------------------------------------------------------------\u001b[0m",
            "\u001b[0;31mNameError\u001b[0m                                 Traceback (most recent call last)",
            "\u001b[0;32m<ipython-input-30-5c4ec0d352c2>\u001b[0m in \u001b[0;36m<cell line: 1>\u001b[0;34m()\u001b[0m\n\u001b[0;32m----> 1\u001b[0;31m \u001b[0mint\u001b[0m\u001b[0;34m(\u001b[0m\u001b[0mtrue\u001b[0m\u001b[0;34m)\u001b[0m\u001b[0;34m\u001b[0m\u001b[0;34m\u001b[0m\u001b[0m\n\u001b[0m",
            "\u001b[0;31mNameError\u001b[0m: name 'true' is not defined"
          ]
        }
      ]
    },
    {
      "cell_type": "code",
      "source": [
        "float(false)\n"
      ],
      "metadata": {
        "colab": {
          "base_uri": "https://localhost:8080/",
          "height": 141
        },
        "id": "m7JM0JObdDC-",
        "outputId": "99eec421-38d3-4b61-ed9e-44b9d0ccc5c7"
      },
      "execution_count": null,
      "outputs": [
        {
          "output_type": "error",
          "ename": "NameError",
          "evalue": "name 'false' is not defined",
          "traceback": [
            "\u001b[0;31m---------------------------------------------------------------------------\u001b[0m",
            "\u001b[0;31mNameError\u001b[0m                                 Traceback (most recent call last)",
            "\u001b[0;32m<ipython-input-31-7693e9914d53>\u001b[0m in \u001b[0;36m<cell line: 1>\u001b[0;34m()\u001b[0m\n\u001b[0;32m----> 1\u001b[0;31m \u001b[0mfloat\u001b[0m\u001b[0;34m(\u001b[0m\u001b[0mfalse\u001b[0m\u001b[0;34m)\u001b[0m\u001b[0;34m\u001b[0m\u001b[0;34m\u001b[0m\u001b[0m\n\u001b[0m",
            "\u001b[0;31mNameError\u001b[0m: name 'false' is not defined"
          ]
        }
      ]
    },
    {
      "cell_type": "code",
      "source": [
        "str(true)"
      ],
      "metadata": {
        "colab": {
          "base_uri": "https://localhost:8080/",
          "height": 141
        },
        "id": "HHEYm2QIdI2t",
        "outputId": "c2d03d9b-442f-4b09-9a8b-14b5ccd02a70"
      },
      "execution_count": null,
      "outputs": [
        {
          "output_type": "error",
          "ename": "NameError",
          "evalue": "name 'true' is not defined",
          "traceback": [
            "\u001b[0;31m---------------------------------------------------------------------------\u001b[0m",
            "\u001b[0;31mNameError\u001b[0m                                 Traceback (most recent call last)",
            "\u001b[0;32m<ipython-input-32-0bd3ca74295a>\u001b[0m in \u001b[0;36m<cell line: 1>\u001b[0;34m()\u001b[0m\n\u001b[0;32m----> 1\u001b[0;31m \u001b[0mstr\u001b[0m\u001b[0;34m(\u001b[0m\u001b[0mtrue\u001b[0m\u001b[0;34m)\u001b[0m\u001b[0;34m\u001b[0m\u001b[0;34m\u001b[0m\u001b[0m\n\u001b[0m",
            "\u001b[0;31mNameError\u001b[0m: name 'true' is not defined"
          ]
        }
      ]
    },
    {
      "cell_type": "code",
      "source": [
        "\n",
        "bool(0)\n"
      ],
      "metadata": {
        "colab": {
          "base_uri": "https://localhost:8080/"
        },
        "id": "uyAG4aHbdK6O",
        "outputId": "2b15b8c8-1ed5-4330-a9a9-1f9af562fb00"
      },
      "execution_count": null,
      "outputs": [
        {
          "output_type": "execute_result",
          "data": {
            "text/plain": [
              "False"
            ]
          },
          "metadata": {},
          "execution_count": 33
        }
      ]
    },
    {
      "cell_type": "code",
      "source": [
        "bool(\"hello world\")\n"
      ],
      "metadata": {
        "colab": {
          "base_uri": "https://localhost:8080/"
        },
        "id": "X240pBqjdN6u",
        "outputId": "5f6ea262-3c00-4a83-d56c-4fbf756fd529"
      },
      "execution_count": null,
      "outputs": [
        {
          "output_type": "execute_result",
          "data": {
            "text/plain": [
              "True"
            ]
          },
          "metadata": {},
          "execution_count": 34
        }
      ]
    },
    {
      "cell_type": "code",
      "source": [
        "bool(223.5)"
      ],
      "metadata": {
        "colab": {
          "base_uri": "https://localhost:8080/"
        },
        "id": "Zzhlw8OndP52",
        "outputId": "99ce8e74-4312-4dfd-f391-4cbd15c22561"
      },
      "execution_count": null,
      "outputs": [
        {
          "output_type": "execute_result",
          "data": {
            "text/plain": [
              "True"
            ]
          },
          "metadata": {},
          "execution_count": 35
        }
      ]
    },
    {
      "cell_type": "code",
      "source": [
        "2+4"
      ],
      "metadata": {
        "colab": {
          "base_uri": "https://localhost:8080/"
        },
        "id": "KDculSfNfx8w",
        "outputId": "4dadb2a5-f87b-44b0-e14f-405997ce9a28"
      },
      "execution_count": null,
      "outputs": [
        {
          "output_type": "execute_result",
          "data": {
            "text/plain": [
              "6"
            ]
          },
          "metadata": {},
          "execution_count": 36
        }
      ]
    },
    {
      "cell_type": "code",
      "source": [
        "\n",
        "10%3"
      ],
      "metadata": {
        "colab": {
          "base_uri": "https://localhost:8080/"
        },
        "id": "cpRw6ptwdQzV",
        "outputId": "4f323441-b51e-4928-c255-ed3c7d47457a"
      },
      "execution_count": null,
      "outputs": [
        {
          "output_type": "execute_result",
          "data": {
            "text/plain": [
              "1"
            ]
          },
          "metadata": {},
          "execution_count": 37
        }
      ]
    },
    {
      "cell_type": "code",
      "source": [
        "10/3"
      ],
      "metadata": {
        "colab": {
          "base_uri": "https://localhost:8080/"
        },
        "id": "2vYXFtbWfjS_",
        "outputId": "e6f48a7c-788b-44c6-8e87-a8572c019d0c"
      },
      "execution_count": null,
      "outputs": [
        {
          "output_type": "execute_result",
          "data": {
            "text/plain": [
              "3.3333333333333335"
            ]
          },
          "metadata": {},
          "execution_count": 38
        }
      ]
    },
    {
      "cell_type": "code",
      "source": [
        "10//3"
      ],
      "metadata": {
        "colab": {
          "base_uri": "https://localhost:8080/"
        },
        "id": "05FVx5qifrne",
        "outputId": "b356c16c-d0ac-48f5-cd70-c59392781565"
      },
      "execution_count": null,
      "outputs": [
        {
          "output_type": "execute_result",
          "data": {
            "text/plain": [
              "3"
            ]
          },
          "metadata": {},
          "execution_count": 39
        }
      ]
    },
    {
      "cell_type": "code",
      "source": [
        "A=  10\n",
        "A+=5\n",
        "A\n",
        "#"
      ],
      "metadata": {
        "colab": {
          "base_uri": "https://localhost:8080/"
        },
        "id": "-p6pYkyiftP3",
        "outputId": "311b7fa7-18aa-43ad-cf03-2f837fe3d740"
      },
      "execution_count": null,
      "outputs": [
        {
          "output_type": "execute_result",
          "data": {
            "text/plain": [
              "15"
            ]
          },
          "metadata": {},
          "execution_count": 40
        }
      ]
    },
    {
      "cell_type": "code",
      "source": [
        "B=10\n",
        "B\n",
        "A+B"
      ],
      "metadata": {
        "colab": {
          "base_uri": "https://localhost:8080/"
        },
        "id": "oMezweA8gO__",
        "outputId": "36dbc80f-7d22-4169-e800-f87774a8a6f7"
      },
      "execution_count": null,
      "outputs": [
        {
          "output_type": "execute_result",
          "data": {
            "text/plain": [
              "25"
            ]
          },
          "metadata": {},
          "execution_count": 41
        }
      ]
    },
    {
      "cell_type": "code",
      "source": [],
      "metadata": {
        "id": "z0RvFDlYgd5n"
      },
      "execution_count": null,
      "outputs": []
    },
    {
      "cell_type": "markdown",
      "source": [
        "#List, Tuples#\n"
      ],
      "metadata": {
        "id": "rhC5b_brhM9e"
      }
    },
    {
      "cell_type": "code",
      "source": [
        "to_buy = [\"books\",\"Eraser\",\"pen\",\"sharpner\"]\n",
        "to_buy"
      ],
      "metadata": {
        "colab": {
          "base_uri": "https://localhost:8080/"
        },
        "id": "WumIaQvPhZUX",
        "outputId": "16b80ffe-281f-47f9-b46b-630e1e1157fd"
      },
      "execution_count": null,
      "outputs": [
        {
          "output_type": "execute_result",
          "data": {
            "text/plain": [
              "['books', 'Eraser', 'pen', 'sharpner']"
            ]
          },
          "metadata": {},
          "execution_count": 42
        }
      ]
    },
    {
      "cell_type": "code",
      "source": [
        "\n",
        "\n",
        "#updating the list\n",
        "to_buy.append(\"scale\")\n",
        "to_buy"
      ],
      "metadata": {
        "colab": {
          "base_uri": "https://localhost:8080/"
        },
        "id": "_UyuuJEOhrCe",
        "outputId": "6897dfe2-8a5b-4dd4-de68-0667f56d3344"
      },
      "execution_count": null,
      "outputs": [
        {
          "output_type": "execute_result",
          "data": {
            "text/plain": [
              "['books', 'Eraser', 'pen', 'sharpner', 'scale']"
            ]
          },
          "metadata": {},
          "execution_count": 43
        }
      ]
    },
    {
      "cell_type": "code",
      "source": [
        "#removing the list\n",
        "to_buy.remove(\"scale\")\n",
        "to_buy"
      ],
      "metadata": {
        "colab": {
          "base_uri": "https://localhost:8080/"
        },
        "id": "gryluJosh0Yn",
        "outputId": "0f25fa92-cae1-4c82-8d65-a00f61512c8c"
      },
      "execution_count": null,
      "outputs": [
        {
          "output_type": "execute_result",
          "data": {
            "text/plain": [
              "['books', 'Eraser', 'pen', 'sharpner']"
            ]
          },
          "metadata": {},
          "execution_count": 44
        }
      ]
    },
    {
      "cell_type": "code",
      "source": [
        "#inserting the list\n",
        "to_buy.insert(0,\"scale\")\n",
        "to_buy"
      ],
      "metadata": {
        "colab": {
          "base_uri": "https://localhost:8080/"
        },
        "id": "lsFvebBXibAf",
        "outputId": "09ae53d5-15ca-4b21-f2f0-c6e97494f702"
      },
      "execution_count": null,
      "outputs": [
        {
          "output_type": "execute_result",
          "data": {
            "text/plain": [
              "['scale', 'books', 'Eraser', 'pen', 'sharpner']"
            ]
          },
          "metadata": {},
          "execution_count": 45
        }
      ]
    },
    {
      "cell_type": "code",
      "source": [
        "to_buy.pop()\n"
      ],
      "metadata": {
        "colab": {
          "base_uri": "https://localhost:8080/",
          "height": 35
        },
        "id": "PumfB47ci1ef",
        "outputId": "942c8996-87b2-460b-a848-d31908c61682"
      },
      "execution_count": null,
      "outputs": [
        {
          "output_type": "execute_result",
          "data": {
            "text/plain": [
              "'sharpner'"
            ],
            "application/vnd.google.colaboratory.intrinsic+json": {
              "type": "string"
            }
          },
          "metadata": {},
          "execution_count": 46
        }
      ]
    },
    {
      "cell_type": "code",
      "source": [
        "to_buy"
      ],
      "metadata": {
        "colab": {
          "base_uri": "https://localhost:8080/"
        },
        "id": "32AyTS_zjIju",
        "outputId": "d4a16a49-6953-42fc-f3b1-78eb61148a14"
      },
      "execution_count": null,
      "outputs": [
        {
          "output_type": "execute_result",
          "data": {
            "text/plain": [
              "['scale', 'books', 'Eraser', 'pen']"
            ]
          },
          "metadata": {},
          "execution_count": 47
        }
      ]
    },
    {
      "cell_type": "code",
      "source": [
        "items=(\"books\",\"Eraser\",\"pen\",\"sharpner\")\n",
        "items"
      ],
      "metadata": {
        "colab": {
          "base_uri": "https://localhost:8080/"
        },
        "id": "RkunUT2bjzS3",
        "outputId": "10af4c3f-d074-46b2-942c-aab7ace2c1ed"
      },
      "execution_count": null,
      "outputs": [
        {
          "output_type": "execute_result",
          "data": {
            "text/plain": [
              "('books', 'Eraser', 'pen', 'sharpner')"
            ]
          },
          "metadata": {},
          "execution_count": 48
        }
      ]
    },
    {
      "cell_type": "code",
      "source": [
        "items.append(\"chocolate\")"
      ],
      "metadata": {
        "colab": {
          "base_uri": "https://localhost:8080/",
          "height": 141
        },
        "id": "zDsMS-5pj-w_",
        "outputId": "035ad1ae-8b58-4cdb-c04d-0d59bb7155ac"
      },
      "execution_count": null,
      "outputs": [
        {
          "output_type": "error",
          "ename": "AttributeError",
          "evalue": "'tuple' object has no attribute 'append'",
          "traceback": [
            "\u001b[0;31m---------------------------------------------------------------------------\u001b[0m",
            "\u001b[0;31mAttributeError\u001b[0m                            Traceback (most recent call last)",
            "\u001b[0;32m<ipython-input-49-347a43fa445e>\u001b[0m in \u001b[0;36m<cell line: 1>\u001b[0;34m()\u001b[0m\n\u001b[0;32m----> 1\u001b[0;31m \u001b[0mitems\u001b[0m\u001b[0;34m.\u001b[0m\u001b[0mappend\u001b[0m\u001b[0;34m(\u001b[0m\u001b[0;34m\"chocolate\"\u001b[0m\u001b[0;34m)\u001b[0m\u001b[0;34m\u001b[0m\u001b[0;34m\u001b[0m\u001b[0m\n\u001b[0m",
            "\u001b[0;31mAttributeError\u001b[0m: 'tuple' object has no attribute 'append'"
          ]
        }
      ]
    },
    {
      "cell_type": "code",
      "source": [
        "# defining a set\n",
        "ab = {1,1,1,1,\"a\",\"a\",\"b\",\"c\"}\n",
        "ab"
      ],
      "metadata": {
        "colab": {
          "base_uri": "https://localhost:8080/"
        },
        "id": "XXtrZXZ6kFNu",
        "outputId": "e935dd31-0048-40bb-81de-1d5337cd12a6"
      },
      "execution_count": null,
      "outputs": [
        {
          "output_type": "execute_result",
          "data": {
            "text/plain": [
              "{1, 'a', 'b', 'c'}"
            ]
          },
          "metadata": {},
          "execution_count": 50
        }
      ]
    },
    {
      "cell_type": "code",
      "source": [
        "#relational operators\n",
        "a=5\n",
        "b=3"
      ],
      "metadata": {
        "id": "4TDq0kUZlB6m"
      },
      "execution_count": null,
      "outputs": []
    },
    {
      "cell_type": "code",
      "source": [
        "a>b"
      ],
      "metadata": {
        "colab": {
          "base_uri": "https://localhost:8080/"
        },
        "id": "PtgLutVglSdP",
        "outputId": "1868846e-ad50-46b1-88c1-415b141a8536"
      },
      "execution_count": null,
      "outputs": [
        {
          "output_type": "execute_result",
          "data": {
            "text/plain": [
              "True"
            ]
          },
          "metadata": {},
          "execution_count": 52
        }
      ]
    },
    {
      "cell_type": "code",
      "source": [
        "a<b"
      ],
      "metadata": {
        "colab": {
          "base_uri": "https://localhost:8080/"
        },
        "id": "NF825VOdlZyf",
        "outputId": "f38cdfb4-b6a9-41aa-ee77-2779a190b276"
      },
      "execution_count": null,
      "outputs": [
        {
          "output_type": "execute_result",
          "data": {
            "text/plain": [
              "False"
            ]
          },
          "metadata": {},
          "execution_count": 53
        }
      ]
    },
    {
      "cell_type": "code",
      "source": [
        "a>=b"
      ],
      "metadata": {
        "colab": {
          "base_uri": "https://localhost:8080/"
        },
        "id": "f8aEHjbMle3v",
        "outputId": "4817481e-5a3f-489b-ccbc-d1cf852c0587"
      },
      "execution_count": null,
      "outputs": [
        {
          "output_type": "execute_result",
          "data": {
            "text/plain": [
              "True"
            ]
          },
          "metadata": {},
          "execution_count": 54
        }
      ]
    },
    {
      "cell_type": "code",
      "source": [
        "a==b"
      ],
      "metadata": {
        "colab": {
          "base_uri": "https://localhost:8080/"
        },
        "id": "4MHkDVxolksW",
        "outputId": "91c692d0-3e2f-43dc-bf09-cfac5ede0d56"
      },
      "execution_count": null,
      "outputs": [
        {
          "output_type": "execute_result",
          "data": {
            "text/plain": [
              "False"
            ]
          },
          "metadata": {},
          "execution_count": 55
        }
      ]
    },
    {
      "cell_type": "code",
      "source": [
        "a!=b"
      ],
      "metadata": {
        "colab": {
          "base_uri": "https://localhost:8080/"
        },
        "id": "cvgrvVmolmbW",
        "outputId": "bb5ea2cb-01d2-49a1-b9fc-20815b1f7dfc"
      },
      "execution_count": null,
      "outputs": [
        {
          "output_type": "execute_result",
          "data": {
            "text/plain": [
              "True"
            ]
          },
          "metadata": {},
          "execution_count": 56
        }
      ]
    },
    {
      "cell_type": "code",
      "source": [
        "a==5 and b<4"
      ],
      "metadata": {
        "colab": {
          "base_uri": "https://localhost:8080/"
        },
        "id": "8I4rWIsOln4A",
        "outputId": "732cbdf1-d7b5-4872-c6a6-966a8387f6f6"
      },
      "execution_count": null,
      "outputs": [
        {
          "output_type": "execute_result",
          "data": {
            "text/plain": [
              "True"
            ]
          },
          "metadata": {},
          "execution_count": 57
        }
      ]
    },
    {
      "cell_type": "code",
      "source": [
        "a is 5"
      ],
      "metadata": {
        "colab": {
          "base_uri": "https://localhost:8080/"
        },
        "id": "s6vuVp3elsgB",
        "outputId": "c4c5dc5d-573b-4d0d-c232-1218980b8b74"
      },
      "execution_count": null,
      "outputs": [
        {
          "output_type": "stream",
          "name": "stderr",
          "text": [
            "<>:1: SyntaxWarning: \"is\" with a literal. Did you mean \"==\"?\n",
            "<>:1: SyntaxWarning: \"is\" with a literal. Did you mean \"==\"?\n",
            "<ipython-input-58-80e6b7447efe>:1: SyntaxWarning: \"is\" with a literal. Did you mean \"==\"?\n",
            "  a is 5\n"
          ]
        },
        {
          "output_type": "execute_result",
          "data": {
            "text/plain": [
              "True"
            ]
          },
          "metadata": {},
          "execution_count": 58
        }
      ]
    },
    {
      "cell_type": "code",
      "source": [
        "a is not b"
      ],
      "metadata": {
        "colab": {
          "base_uri": "https://localhost:8080/"
        },
        "id": "5AcEsJBMl2Ji",
        "outputId": "91c59abe-e455-4fe7-b104-500b87c78c3b"
      },
      "execution_count": null,
      "outputs": [
        {
          "output_type": "execute_result",
          "data": {
            "text/plain": [
              "True"
            ]
          },
          "metadata": {},
          "execution_count": 59
        }
      ]
    },
    {
      "cell_type": "code",
      "source": [
        "A=10\n",
        "B=15\n",
        "if A>B:\n",
        "  print(\"A is greater than B\")\n",
        "elif B>A:\n",
        "  print(\"B is greater than A\")\n",
        "else:\n",
        "  pass\n",
        "  print(\"B is greater than A\")"
      ],
      "metadata": {
        "colab": {
          "base_uri": "https://localhost:8080/"
        },
        "id": "94MLpaOzl74g",
        "outputId": "36987b38-e265-4a01-accd-845dfa71ed3e"
      },
      "execution_count": null,
      "outputs": [
        {
          "output_type": "stream",
          "name": "stdout",
          "text": [
            "B is greater than A\n"
          ]
        }
      ]
    },
    {
      "cell_type": "code",
      "source": [
        "rate = int(input(\"Enter the amount:\"))\n",
        "is_emi_available = True\n",
        "if rate <= 20000:\n",
        "    print(\"I will buy the TV\")\n",
        "elif is_emi_available:\n",
        "    print(\"I will buy the TV\")\n",
        "else:\n",
        "    print(\"I will not buy it\")"
      ],
      "metadata": {
        "colab": {
          "base_uri": "https://localhost:8080/",
          "height": 228
        },
        "id": "jbjku9b-wCNr",
        "outputId": "f922e86e-504e-4e9b-c225-0571e4c312d6"
      },
      "execution_count": null,
      "outputs": [
        {
          "name": "stdout",
          "output_type": "stream",
          "text": [
            "Enter the amount:\n"
          ]
        },
        {
          "output_type": "error",
          "ename": "ValueError",
          "evalue": "invalid literal for int() with base 10: ''",
          "traceback": [
            "\u001b[0;31m---------------------------------------------------------------------------\u001b[0m",
            "\u001b[0;31mValueError\u001b[0m                                Traceback (most recent call last)",
            "\u001b[0;32m<ipython-input-61-a36d9ab12b2f>\u001b[0m in \u001b[0;36m<cell line: 1>\u001b[0;34m()\u001b[0m\n\u001b[0;32m----> 1\u001b[0;31m \u001b[0mrate\u001b[0m \u001b[0;34m=\u001b[0m \u001b[0mint\u001b[0m\u001b[0;34m(\u001b[0m\u001b[0minput\u001b[0m\u001b[0;34m(\u001b[0m\u001b[0;34m\"Enter the amount:\"\u001b[0m\u001b[0;34m)\u001b[0m\u001b[0;34m)\u001b[0m\u001b[0;34m\u001b[0m\u001b[0;34m\u001b[0m\u001b[0m\n\u001b[0m\u001b[1;32m      2\u001b[0m \u001b[0mis_emi_available\u001b[0m \u001b[0;34m=\u001b[0m \u001b[0;32mTrue\u001b[0m\u001b[0;34m\u001b[0m\u001b[0;34m\u001b[0m\u001b[0m\n\u001b[1;32m      3\u001b[0m \u001b[0;32mif\u001b[0m \u001b[0mrate\u001b[0m \u001b[0;34m<=\u001b[0m \u001b[0;36m20000\u001b[0m\u001b[0;34m:\u001b[0m\u001b[0;34m\u001b[0m\u001b[0;34m\u001b[0m\u001b[0m\n\u001b[1;32m      4\u001b[0m     \u001b[0mprint\u001b[0m\u001b[0;34m(\u001b[0m\u001b[0;34m\"I will buy the TV\"\u001b[0m\u001b[0;34m)\u001b[0m\u001b[0;34m\u001b[0m\u001b[0;34m\u001b[0m\u001b[0m\n\u001b[1;32m      5\u001b[0m \u001b[0;32melif\u001b[0m \u001b[0mis_emi_available\u001b[0m\u001b[0;34m:\u001b[0m\u001b[0;34m\u001b[0m\u001b[0;34m\u001b[0m\u001b[0m\n",
            "\u001b[0;31mValueError\u001b[0m: invalid literal for int() with base 10: ''"
          ]
        }
      ]
    },
    {
      "cell_type": "code",
      "source": [
        "rate = int(input(\"Enter the amount:\"))\n",
        "emi_amount = 50000\n",
        "if rate <= 20000:\n",
        "    print(\"I will buy the TV\")\n",
        "elif rate < emi_amount:\n",
        "    print(\"I will buy the TV\")\n",
        "else:\n",
        "    print(\"I will not buy it\")"
      ],
      "metadata": {
        "id": "hUI7YUCywf-b"
      },
      "execution_count": null,
      "outputs": []
    },
    {
      "cell_type": "code",
      "source": [
        "current_temp = int(input(\"Enter the temperature:\"))\n",
        "if current_temp < 20:\n",
        "    print(\"I will take the umbrella\")\n",
        "elif current_temp > 20:\n",
        "    print(\"I will not go\")\n",
        "else:\n",
        "    print(\"I will not take the umbrella\")"
      ],
      "metadata": {
        "id": "9rUm4nwcylW_"
      },
      "execution_count": null,
      "outputs": []
    },
    {
      "cell_type": "code",
      "source": [
        "A = int(input(\"Enter the amount A:\"))\n",
        "B = int(input(\"Enter the amount B:\"))\n",
        "C = int(input(\"Enter the amount C:\"))\n",
        "if A > B:\n",
        "  if A > C:\n",
        "    print(\"A is biggest\")\n",
        "elif B > C:\n",
        "  if B > A:\n",
        "    print(\"B is biggest\")\n",
        "else:\n",
        "  print(\"C is biggest\")"
      ],
      "metadata": {
        "id": "K5RYGpxDzUfj"
      },
      "execution_count": null,
      "outputs": []
    },
    {
      "cell_type": "code",
      "source": [
        "A = int(input(\"Enter the amount A:\"))\n",
        "B = int(input(\"Enter the amount B:\"))\n",
        "C = int(input(\"Enter the amount C:\"))\n",
        "if A > B and A > C:\n",
        "    print(\"A is biggest\")\n",
        "elif B > C and B > A:\n",
        "    print(\"B is biggest\")\n",
        "else:\n",
        "  print(\"C is biggest\")"
      ],
      "metadata": {
        "id": "cqNcOkMI138E"
      },
      "execution_count": null,
      "outputs": []
    },
    {
      "cell_type": "code",
      "source": [
        "# Odd even checker\n",
        "A = int(input(\"Enter the number\"))\n",
        "if A % 2 == 0:\n",
        "  print(\"A is Even\")\n",
        "else:\n",
        "  print(\"A is odd\")\n"
      ],
      "metadata": {
        "id": "Xm6pRuRb2P4M"
      },
      "execution_count": null,
      "outputs": []
    },
    {
      "cell_type": "code",
      "source": [
        "print(\"first line \\nsecond line\")\n",
        "print(\"\\t space here\")\n",
        "print(\"no space\")"
      ],
      "metadata": {
        "id": "mGQVMQ943lm0"
      },
      "execution_count": null,
      "outputs": []
    },
    {
      "cell_type": "markdown",
      "source": [
        "# Calculator App#\n",
        "- Accept two values from user\n",
        "- accept a choice from user 1=add,2 = subtract, 3= mul, 4 = divide\n",
        "-perform operatio and show output"
      ],
      "metadata": {
        "id": "WfDkiA4X4gbQ"
      }
    },
    {
      "cell_type": "code",
      "source": [
        "\n",
        "A = int(input(\"Enter the first number A\"))\n",
        "B = int(input(\"Enter the second number B\"))\n",
        "print(\"enter : 1.+ \\n 2.- \\n 3.* \\n 4./\")\n",
        "choice = int(input(\"choose: \"))\n",
        "\n",
        "if choice == 1:\n",
        "  print(A+B)\n",
        "elif choice == 2:\n",
        "  print(A-B)\n",
        "elif choice == 3:\n",
        "  print(A*B)\n",
        "elif choice == 4:\n",
        "  print(A/B)\n",
        "else:\n",
        "  print(\"Error\")"
      ],
      "metadata": {
        "colab": {
          "base_uri": "https://localhost:8080/",
          "height": 228
        },
        "id": "aDzKDP_J5JNJ",
        "outputId": "3a6a3c72-4e89-4591-bcfa-99c13b4ce40e"
      },
      "execution_count": null,
      "outputs": [
        {
          "name": "stdout",
          "output_type": "stream",
          "text": [
            "Enter the first number A\n"
          ]
        },
        {
          "output_type": "error",
          "ename": "ValueError",
          "evalue": "invalid literal for int() with base 10: ''",
          "traceback": [
            "\u001b[0;31m---------------------------------------------------------------------------\u001b[0m",
            "\u001b[0;31mValueError\u001b[0m                                Traceback (most recent call last)",
            "\u001b[0;32m<ipython-input-62-c355d31b141d>\u001b[0m in \u001b[0;36m<cell line: 1>\u001b[0;34m()\u001b[0m\n\u001b[0;32m----> 1\u001b[0;31m \u001b[0mA\u001b[0m \u001b[0;34m=\u001b[0m \u001b[0mint\u001b[0m\u001b[0;34m(\u001b[0m\u001b[0minput\u001b[0m\u001b[0;34m(\u001b[0m\u001b[0;34m\"Enter the first number A\"\u001b[0m\u001b[0;34m)\u001b[0m\u001b[0;34m)\u001b[0m\u001b[0;34m\u001b[0m\u001b[0;34m\u001b[0m\u001b[0m\n\u001b[0m\u001b[1;32m      2\u001b[0m \u001b[0mB\u001b[0m \u001b[0;34m=\u001b[0m \u001b[0mint\u001b[0m\u001b[0;34m(\u001b[0m\u001b[0minput\u001b[0m\u001b[0;34m(\u001b[0m\u001b[0;34m\"Enter the second number B\"\u001b[0m\u001b[0;34m)\u001b[0m\u001b[0;34m)\u001b[0m\u001b[0;34m\u001b[0m\u001b[0;34m\u001b[0m\u001b[0m\n\u001b[1;32m      3\u001b[0m \u001b[0mprint\u001b[0m\u001b[0;34m(\u001b[0m\u001b[0;34m\"enter : 1.+ \\n 2.- \\n 3.* \\n 4./\"\u001b[0m\u001b[0;34m)\u001b[0m\u001b[0;34m\u001b[0m\u001b[0;34m\u001b[0m\u001b[0m\n\u001b[1;32m      4\u001b[0m \u001b[0mchoice\u001b[0m \u001b[0;34m=\u001b[0m \u001b[0mint\u001b[0m\u001b[0;34m(\u001b[0m\u001b[0minput\u001b[0m\u001b[0;34m(\u001b[0m\u001b[0;34m\"choose: \"\u001b[0m\u001b[0;34m)\u001b[0m\u001b[0;34m)\u001b[0m\u001b[0;34m\u001b[0m\u001b[0;34m\u001b[0m\u001b[0m\n\u001b[1;32m      5\u001b[0m \u001b[0;34m\u001b[0m\u001b[0m\n",
            "\u001b[0;31mValueError\u001b[0m: invalid literal for int() with base 10: ''"
          ]
        }
      ]
    },
    {
      "cell_type": "code",
      "source": [
        "num = [1,2,3,4,5]\n",
        "for i in num:\n",
        "  print(i)"
      ],
      "metadata": {
        "id": "eTmO6k3773AK"
      },
      "execution_count": null,
      "outputs": []
    },
    {
      "cell_type": "code",
      "source": [
        "range(5)"
      ],
      "metadata": {
        "id": "ZwSYWhiOxxCi"
      },
      "execution_count": null,
      "outputs": []
    },
    {
      "cell_type": "code",
      "source": [
        "for i in range(5):\n",
        "  print(i)"
      ],
      "metadata": {
        "id": "ljVWkkD6yIZC"
      },
      "execution_count": null,
      "outputs": []
    },
    {
      "cell_type": "code",
      "source": [
        "\n",
        "for i in range(1,6):\n",
        "  print(i)"
      ],
      "metadata": {
        "colab": {
          "base_uri": "https://localhost:8080/"
        },
        "id": "nmiMAw_IyREx",
        "outputId": "50b44d48-5958-4d43-b8c8-00a44f8c5a16"
      },
      "execution_count": null,
      "outputs": [
        {
          "output_type": "stream",
          "name": "stdout",
          "text": [
            "1\n",
            "2\n",
            "3\n",
            "4\n",
            "5\n"
          ]
        }
      ]
    },
    {
      "cell_type": "code",
      "source": [
        "for i in range(1,11,2):\n",
        "  print(i)"
      ],
      "metadata": {
        "colab": {
          "base_uri": "https://localhost:8080/"
        },
        "id": "KHN8si5Hyo-g",
        "outputId": "4ae587d8-1c89-4467-b19c-598ab7df3395"
      },
      "execution_count": null,
      "outputs": [
        {
          "output_type": "stream",
          "name": "stdout",
          "text": [
            "1\n",
            "3\n",
            "5\n",
            "7\n",
            "9\n"
          ]
        }
      ]
    },
    {
      "cell_type": "code",
      "source": [
        "A = int (input(\"enter the input\"))\n",
        "for i in range(1,A):\n",
        "\n",
        "  print(i)"
      ],
      "metadata": {
        "colab": {
          "base_uri": "https://localhost:8080/"
        },
        "id": "Pv5isS6_y4FJ",
        "outputId": "94aa57e5-f56d-479c-d1fa-b219717c0127"
      },
      "execution_count": null,
      "outputs": [
        {
          "output_type": "stream",
          "name": "stdout",
          "text": [
            "enter the input20\n",
            "1\n",
            "2\n",
            "3\n",
            "4\n",
            "5\n",
            "6\n",
            "7\n",
            "8\n",
            "9\n",
            "10\n",
            "11\n",
            "12\n",
            "13\n",
            "14\n",
            "15\n",
            "16\n",
            "17\n",
            "18\n",
            "19\n"
          ]
        }
      ]
    },
    {
      "cell_type": "code",
      "source": [
        "name = \"hari\"\n",
        "for letter in name:\n",
        "  print(letter)"
      ],
      "metadata": {
        "colab": {
          "base_uri": "https://localhost:8080/"
        },
        "id": "JhDTzvlIzSzQ",
        "outputId": "574c5edd-a3a9-4e5b-b4ea-948e53f26d80"
      },
      "execution_count": null,
      "outputs": [
        {
          "output_type": "stream",
          "name": "stdout",
          "text": [
            "h\n",
            "a\n",
            "r\n",
            "i\n"
          ]
        }
      ]
    },
    {
      "cell_type": "code",
      "source": [
        "lista = [1,2,3,4,5,6]\n",
        "name = \"hari\"\n",
        "print(len(lista))\n",
        "print(len(name))"
      ],
      "metadata": {
        "colab": {
          "base_uri": "https://localhost:8080/"
        },
        "id": "B1JkY8o404T3",
        "outputId": "c1d52ec5-9d74-414b-a697-f16b8a111a09"
      },
      "execution_count": null,
      "outputs": [
        {
          "output_type": "stream",
          "name": "stdout",
          "text": [
            "6\n",
            "4\n"
          ]
        }
      ]
    },
    {
      "cell_type": "code",
      "source": [
        "num = [1,2,3,4,5]\n",
        "#for i in num:\n",
        "#  print(i)\n",
        "for i in range(0,len(num),2):\n",
        "  print(i,num[i])"
      ],
      "metadata": {
        "colab": {
          "base_uri": "https://localhost:8080/"
        },
        "id": "PqCA4CJE1UwL",
        "outputId": "a5bbbaa9-5e67-453f-bca8-2691b62b370b"
      },
      "execution_count": null,
      "outputs": [
        {
          "output_type": "stream",
          "name": "stdout",
          "text": [
            "0 1\n",
            "2 3\n",
            "4 5\n"
          ]
        }
      ]
    },
    {
      "cell_type": "code",
      "source": [
        "## take input\n",
        "# print sum of even number\n",
        "\n",
        "\n",
        "A = int(input(\"Enter the number\"))\n",
        "result = 0\n",
        "for i in range(0,A+1,2):\n",
        "  result += i\n",
        "  print(result)\n",
        "print(\"The sum of even numbers from 0 to provided nymber is =\", result)"
      ],
      "metadata": {
        "colab": {
          "base_uri": "https://localhost:8080/"
        },
        "id": "Z4ZE0TbL2UOp",
        "outputId": "baf4da5c-e736-4bf2-9752-7f92fc072d81"
      },
      "execution_count": null,
      "outputs": [
        {
          "output_type": "stream",
          "name": "stdout",
          "text": [
            "Enter the number10\n",
            "0\n",
            "2\n",
            "6\n",
            "12\n",
            "20\n",
            "30\n",
            "The sum of even numbers from 0 to provided nymber is = 30\n"
          ]
        }
      ]
    },
    {
      "cell_type": "code",
      "source": [
        "A = 10\n",
        "while A > 0:\n",
        "  print(A)\n",
        "  A = A-1"
      ],
      "metadata": {
        "colab": {
          "base_uri": "https://localhost:8080/"
        },
        "id": "jYJh9hfP4OaX",
        "outputId": "024c92f4-179e-417c-dd2c-58fa592db8af"
      },
      "execution_count": null,
      "outputs": [
        {
          "output_type": "stream",
          "name": "stdout",
          "text": [
            "10\n",
            "9\n",
            "8\n",
            "7\n",
            "6\n",
            "5\n",
            "4\n",
            "3\n",
            "2\n",
            "1\n"
          ]
        }
      ]
    },
    {
      "cell_type": "code",
      "source": [
        "for i in range(10,-1,-1):\n",
        "  print(i)"
      ],
      "metadata": {
        "colab": {
          "base_uri": "https://localhost:8080/"
        },
        "id": "9JEkUIt88GHv",
        "outputId": "7960c0ed-a96d-41dc-edc7-3ff8921acac7"
      },
      "execution_count": null,
      "outputs": [
        {
          "output_type": "stream",
          "name": "stdout",
          "text": [
            "10\n",
            "9\n",
            "8\n",
            "7\n",
            "6\n",
            "5\n",
            "4\n",
            "3\n",
            "2\n",
            "1\n",
            "0\n"
          ]
        }
      ]
    },
    {
      "cell_type": "code",
      "source": [
        "A = [52,35,88,47,33,49]\n",
        "result = 0\n",
        "for i in range(len(A)):\n",
        "  result += A[i]\n",
        "print(result)\n",
        "print(result/len(A))\n"
      ],
      "metadata": {
        "colab": {
          "base_uri": "https://localhost:8080/"
        },
        "id": "Z9WDxQJJ85eu",
        "outputId": "0058109b-b7dc-4759-ef39-acaef4c90e78"
      },
      "execution_count": null,
      "outputs": [
        {
          "output_type": "stream",
          "name": "stdout",
          "text": [
            "304\n",
            "50.666666666666664\n"
          ]
        }
      ]
    },
    {
      "cell_type": "code",
      "source": [
        "a = [52,35,88,47,33,49]\n",
        "result = 0\n",
        "for A in a:\n",
        "  result += A\n",
        "print(result , result/len(a))\n"
      ],
      "metadata": {
        "colab": {
          "base_uri": "https://localhost:8080/"
        },
        "id": "nl3oCF6r94df",
        "outputId": "bd114cb2-a88d-44d8-f203-168882e2b19c"
      },
      "execution_count": null,
      "outputs": [
        {
          "output_type": "stream",
          "name": "stdout",
          "text": [
            "304 50.666666666666664\n"
          ]
        }
      ]
    },
    {
      "cell_type": "code",
      "source": [
        "a = [52,35,88,47,33,49]\n",
        "result = 0\n",
        "for A in a:\n",
        "  result += A\n",
        "  print(result , result/len(a))\n",
        "# for nta akath run akkya process okka kaanikkum\n",
        "# fornta porathananki ans mathram"
      ],
      "metadata": {
        "colab": {
          "base_uri": "https://localhost:8080/"
        },
        "id": "fSzLVs7j_S0Y",
        "outputId": "e63bb9bf-03c4-426c-b649-f9b589318b74"
      },
      "execution_count": null,
      "outputs": [
        {
          "output_type": "stream",
          "name": "stdout",
          "text": [
            "52 8.666666666666666\n",
            "87 14.5\n",
            "175 29.166666666666668\n",
            "222 37.0\n",
            "255 42.5\n",
            "304 50.666666666666664\n"
          ]
        }
      ]
    },
    {
      "cell_type": "code",
      "source": [
        "a = [52,35,88,47,33,49]\n",
        "largest = 0\n",
        "for number in a:\n",
        "  if largest < number:\n",
        "    largest = number\n",
        "    print(largest)"
      ],
      "metadata": {
        "colab": {
          "base_uri": "https://localhost:8080/"
        },
        "id": "SwnpayKR_9Ko",
        "outputId": "682de814-2b11-4de6-faf5-a5315e2d61e7"
      },
      "execution_count": null,
      "outputs": [
        {
          "output_type": "stream",
          "name": "stdout",
          "text": [
            "52\n",
            "88\n"
          ]
        }
      ]
    },
    {
      "cell_type": "code",
      "source": [
        "a = [52,35,88,47,33,49]\n",
        "smallest = 99999999\n",
        "for number in a:\n",
        "  if smallest > number:\n",
        "      smallest = number\n",
        "print(smallest)"
      ],
      "metadata": {
        "colab": {
          "base_uri": "https://localhost:8080/"
        },
        "id": "Dv-ZAe90BGX3",
        "outputId": "ce435653-b976-4266-c0a1-934245a8b23b"
      },
      "execution_count": null,
      "outputs": [
        {
          "output_type": "stream",
          "name": "stdout",
          "text": [
            "33\n"
          ]
        }
      ]
    },
    {
      "cell_type": "code",
      "source": [
        "print(\"Type exit to stop\")\n",
        "a = input(\"Type here:\")\n",
        "while a!= \"exit\":\n",
        "  a = input(\"Type again:\")\n",
        "  a = a.lower()"
      ],
      "metadata": {
        "colab": {
          "base_uri": "https://localhost:8080/"
        },
        "id": "aOpSknARBhF-",
        "outputId": "3c196c6c-4f1a-46e4-fb9b-c986db3f606a"
      },
      "execution_count": null,
      "outputs": [
        {
          "name": "stdout",
          "output_type": "stream",
          "text": [
            "Type exit to stop\n",
            "Type here:exit\n"
          ]
        }
      ]
    },
    {
      "cell_type": "code",
      "source": [
        "a = input(\"enter your password\")\n",
        "a\n"
      ],
      "metadata": {
        "colab": {
          "base_uri": "https://localhost:8080/",
          "height": 53
        },
        "id": "XI-Mcl5nEtkR",
        "outputId": "0b394440-3668-4b9e-df90-d0f6f49e52cd"
      },
      "execution_count": null,
      "outputs": [
        {
          "name": "stdout",
          "output_type": "stream",
          "text": [
            "enter your passwordAdith\n"
          ]
        },
        {
          "output_type": "execute_result",
          "data": {
            "text/plain": [
              "'Adith'"
            ],
            "application/vnd.google.colaboratory.intrinsic+json": {
              "type": "string"
            }
          },
          "metadata": {},
          "execution_count": 82
        }
      ]
    },
    {
      "cell_type": "code",
      "source": [
        "b = input(\"enter the password\")\n",
        "while b!= a:\n",
        "  print(\"incorrect password\")\n",
        "  b = input(\"try again\")\n",
        "print(\"Access granted\")\n"
      ],
      "metadata": {
        "id": "qJyWVxl5Fad_",
        "colab": {
          "base_uri": "https://localhost:8080/"
        },
        "outputId": "229e7759-7912-4f37-a99c-7116b66cc8a8"
      },
      "execution_count": null,
      "outputs": [
        {
          "output_type": "stream",
          "name": "stdout",
          "text": [
            "enter the passwordAdith\n",
            "Access granted\n"
          ]
        }
      ]
    },
    {
      "cell_type": "code",
      "source": [
        "for i in range(1,4):\n",
        "  if i%5 == 0:\n",
        "    break\n",
        "  print(i)"
      ],
      "metadata": {
        "colab": {
          "base_uri": "https://localhost:8080/"
        },
        "id": "4s3aiE8RMqkN",
        "outputId": "9013829f-0b63-42fa-c626-761df68cda44"
      },
      "execution_count": null,
      "outputs": [
        {
          "output_type": "stream",
          "name": "stdout",
          "text": [
            "1\n",
            "2\n",
            "3\n"
          ]
        }
      ]
    },
    {
      "cell_type": "code",
      "source": [
        "A = int(input(\"Enter the first number A\"))\n",
        "\n",
        "print(\"enter : 1.+ \\n 2.- \\n 3.* \\n 4./ \\n.exit\")\n",
        "choice = int(input(\"choose:\"))\n",
        "B = int(input(\"Enter the second number B\"))\n",
        "while True:\n",
        "\n",
        "  if choice == 1:\n",
        "    print(A+B)\n",
        "  elif choice == 2:\n",
        "    print(A-B)\n",
        "  elif choice == 3:\n",
        "    print(A*B)\n",
        "  elif choice == 4:\n",
        "    print(A/B)\n",
        "  elif choice == 5:\n",
        "    print(\"exiting.....20\")\n",
        "    break\n",
        "  else:\n",
        "    print(\"Error\")\n",
        "  choice = int(input(\"choose\"))\n",
        "A = int(input(\"Enter the first number A\"))\n",
        "B = int(input(\"Enter the second number B\"))\n",
        "choice = int(input(\"choose:\"))"
      ],
      "metadata": {
        "colab": {
          "base_uri": "https://localhost:8080/"
        },
        "id": "55Z6Dh1_OZVx",
        "outputId": "d4a59448-fd21-4706-d029-fcbe3c801c18"
      },
      "execution_count": null,
      "outputs": [
        {
          "name": "stdout",
          "output_type": "stream",
          "text": [
            "Enter the first number A10\n",
            "enter : 1.+ \n",
            " 2.- \n",
            " 3.* \n",
            " 4./ \n",
            ".exit\n",
            "choose:1\n",
            "Enter the second number B20\n",
            "30\n",
            "choose5\n",
            "exiting.....20\n",
            "Enter the first number A10\n",
            "Enter the second number B20\n",
            "choose:2\n"
          ]
        }
      ]
    },
    {
      "cell_type": "code",
      "source": [
        "# continue\n",
        "for i in range(13):\n",
        "  if i%3 == 0:\n",
        "    print(\"multiple of 3 skipping\")\n",
        "    continue\n",
        "  print(i)"
      ],
      "metadata": {
        "colab": {
          "base_uri": "https://localhost:8080/"
        },
        "id": "yd51HJtkP9b0",
        "outputId": "2d504c86-cc24-4417-c8c2-c5f4506b214b"
      },
      "execution_count": null,
      "outputs": [
        {
          "output_type": "stream",
          "name": "stdout",
          "text": [
            "multiple of 3 skipping\n",
            "1\n",
            "2\n",
            "multiple of 3 skipping\n",
            "4\n",
            "5\n",
            "multiple of 3 skipping\n",
            "7\n",
            "8\n",
            "multiple of 3 skipping\n",
            "10\n",
            "11\n",
            "multiple of 3 skipping\n"
          ]
        }
      ]
    },
    {
      "cell_type": "code",
      "source": [
        " def hello(name):\n",
        "  print(\"hello\",adi)"
      ],
      "metadata": {
        "id": "S7026qZ0Sv5R"
      },
      "execution_count": null,
      "outputs": []
    },
    {
      "cell_type": "code",
      "source": [
        "hello"
      ],
      "metadata": {
        "colab": {
          "base_uri": "https://localhost:8080/",
          "height": 104
        },
        "id": "F4aaKmf2WZ-z",
        "outputId": "b8a13d99-15ba-4c67-c900-b2d03939e5c7"
      },
      "execution_count": null,
      "outputs": [
        {
          "output_type": "execute_result",
          "data": {
            "text/plain": [
              "<function __main__.hello(name)>"
            ],
            "text/html": [
              "<div style=\"max-width:800px; border: 1px solid var(--colab-border-color);\"><style>\n",
              "      pre.function-repr-contents {\n",
              "        overflow-x: auto;\n",
              "        padding: 8px 12px;\n",
              "        max-height: 500px;\n",
              "      }\n",
              "\n",
              "      pre.function-repr-contents.function-repr-contents-collapsed {\n",
              "        cursor: pointer;\n",
              "        max-height: 100px;\n",
              "      }\n",
              "    </style>\n",
              "    <pre style=\"white-space: initial; background:\n",
              "         var(--colab-secondary-surface-color); padding: 8px 12px;\n",
              "         border-bottom: 1px solid var(--colab-border-color);\"><b>hello</b><br/>def hello(name)</pre><pre class=\"function-repr-contents function-repr-contents-collapsed\" style=\"\"><a class=\"filepath\" style=\"display:none\" href=\"#\">/content/&lt;ipython-input-97-4abfcc0fa50c&gt;</a>&lt;no docstring&gt;</pre></div>"
            ]
          },
          "metadata": {},
          "execution_count": 98
        }
      ]
    },
    {
      "cell_type": "code",
      "source": [
        "def add(n1,n2):\n",
        "  result = n1+n2\n",
        "  print(result)\n",
        "  # print(n1+n2)"
      ],
      "metadata": {
        "id": "uLXRQVk9WdzF"
      },
      "execution_count": null,
      "outputs": []
    },
    {
      "cell_type": "code",
      "source": [
        "num1 = 20\n",
        "num2 = 20\n",
        "add(num1,num2)"
      ],
      "metadata": {
        "colab": {
          "base_uri": "https://localhost:8080/"
        },
        "id": "iEXJaBHsWp5D",
        "outputId": "2e692be3-c98d-401a-a822-a49138b3d4ed"
      },
      "execution_count": null,
      "outputs": [
        {
          "output_type": "stream",
          "name": "stdout",
          "text": [
            "40\n"
          ]
        }
      ]
    },
    {
      "cell_type": "code",
      "source": [
        "def return_sum(n1,n2):\n",
        "  result = n1+n2\n",
        "  return result"
      ],
      "metadata": {
        "id": "mfjNR4iWWzqT"
      },
      "execution_count": null,
      "outputs": []
    },
    {
      "cell_type": "code",
      "source": [
        "a = return_sum(10,20)"
      ],
      "metadata": {
        "id": "hZdn1f7xXdCi"
      },
      "execution_count": null,
      "outputs": []
    },
    {
      "cell_type": "code",
      "source": [
        "def odd_even(N):\n",
        "  if N%2==0:\n",
        "    print(\"even\")\n",
        "\n",
        "  else:\n",
        "      print(\"odd\")\n",
        "\n",
        "odd_even(123)"
      ],
      "metadata": {
        "colab": {
          "base_uri": "https://localhost:8080/"
        },
        "id": "gYo4YqZHXlx6",
        "outputId": "70430b09-c2e2-4243-ea4c-a91a1abba7c1"
      },
      "execution_count": null,
      "outputs": [
        {
          "output_type": "stream",
          "name": "stdout",
          "text": [
            "odd\n"
          ]
        }
      ]
    },
    {
      "cell_type": "code",
      "source": [
        "def odd_even_return(N):\n",
        "  if N%2==0:\n",
        "    return(\"even\")\n",
        "  return(\"odd\")\n",
        "\n",
        "output = odd_even_return(9)\n",
        "\n",
        "print(output)"
      ],
      "metadata": {
        "colab": {
          "base_uri": "https://localhost:8080/"
        },
        "id": "qovl9pguYm60",
        "outputId": "da0f1e5e-f63e-468a-a72b-51f7fa16b3e8"
      },
      "execution_count": null,
      "outputs": [
        {
          "output_type": "stream",
          "name": "stdout",
          "text": [
            "odd\n"
          ]
        }
      ]
    },
    {
      "cell_type": "code",
      "source": [
        "def small_and_large(list_a):\n",
        "  small = min(list_a)\n",
        "  large = max(list_a)\n",
        "  return small,large\n",
        "out = small_and_large([1,23,434,667,-11])\n",
        "print(out[0],out[1])"
      ],
      "metadata": {
        "colab": {
          "base_uri": "https://localhost:8080/"
        },
        "id": "SpYrdfZQZkHD",
        "outputId": "c78bd316-1385-4d72-9f71-680e11aa43c5"
      },
      "execution_count": null,
      "outputs": [
        {
          "output_type": "stream",
          "name": "stdout",
          "text": [
            "-11 667\n"
          ]
        }
      ]
    },
    {
      "cell_type": "code",
      "source": [
        "def addi(X,Y):\n",
        "  print(X+Y)\n",
        "def subt(X,Y):\n",
        "  print(X-Y)\n",
        "def mult(X,Y):\n",
        "  print(X*Y)\n",
        "def divi(X,Y):\n",
        "  print(X/Y)\n",
        "\n",
        "A = int(input(\"Enter the first number A\"))\n",
        "B = int(input(\"Enter the second number B\"))\n",
        "print(\"enter : 1.+ \\n 2.- \\n 3.* \\n 4./ \\n.exit\")\n",
        "choice = int(input(\"choose:\"))\n",
        "\n",
        "while True:\n",
        "\n",
        "  if choice == 1:\n",
        "    addi(A,B)\n",
        "  elif choice == 2:\n",
        "    subt(A,B)\n",
        "  elif choice == 3:\n",
        "    mult(A,B)\n",
        "  elif choice == 4:\n",
        "    divi(A,B)\n",
        "  elif choice == 5:\n",
        "    print(\"exiting.....20\")\n",
        "    break\n",
        "  else:\n",
        "    print(\"Error\")\n"
      ],
      "metadata": {
        "colab": {
          "base_uri": "https://localhost:8080/",
          "height": 1000
        },
        "id": "wfWmj1qXceRq",
        "outputId": "f7878f8f-082d-4566-b844-66ae43995c50"
      },
      "execution_count": null,
      "outputs": [
        {
          "output_type": "stream",
          "name": "stdout",
          "text": [
            "\u001b[1;30;43mStreaming output truncated to the last 5000 lines.\u001b[0m\n",
            "-10\n",
            "-10\n",
            "-10\n",
            "-10\n",
            "-10\n",
            "-10\n",
            "-10\n",
            "-10\n",
            "-10\n",
            "-10\n",
            "-10\n",
            "-10\n",
            "-10\n",
            "-10\n",
            "-10\n",
            "-10\n",
            "-10\n",
            "-10\n",
            "-10\n",
            "-10\n",
            "-10\n",
            "-10\n",
            "-10\n",
            "-10\n",
            "-10\n",
            "-10\n",
            "-10\n",
            "-10\n",
            "-10\n",
            "-10\n",
            "-10\n",
            "-10\n",
            "-10\n",
            "-10\n",
            "-10\n",
            "-10\n",
            "-10\n",
            "-10\n",
            "-10\n",
            "-10\n",
            "-10\n",
            "-10\n",
            "-10\n",
            "-10\n",
            "-10\n",
            "-10\n",
            "-10\n",
            "-10\n",
            "-10\n",
            "-10\n",
            "-10\n",
            "-10\n",
            "-10\n",
            "-10\n",
            "-10\n",
            "-10\n",
            "-10\n",
            "-10\n",
            "-10\n",
            "-10\n",
            "-10\n",
            "-10\n",
            "-10\n",
            "-10\n",
            "-10\n",
            "-10\n",
            "-10\n",
            "-10\n",
            "-10\n",
            "-10\n",
            "-10\n",
            "-10\n",
            "-10\n",
            "-10\n",
            "-10\n",
            "-10\n",
            "-10\n",
            "-10\n",
            "-10\n",
            "-10\n",
            "-10\n",
            "-10\n",
            "-10\n",
            "-10\n",
            "-10\n",
            "-10\n",
            "-10\n",
            "-10\n",
            "-10\n",
            "-10\n",
            "-10\n",
            "-10\n",
            "-10\n",
            "-10\n",
            "-10\n",
            "-10\n",
            "-10\n",
            "-10\n",
            "-10\n",
            "-10\n",
            "-10\n",
            "-10\n",
            "-10\n",
            "-10\n",
            "-10\n",
            "-10\n",
            "-10\n",
            "-10\n",
            "-10\n",
            "-10\n",
            "-10\n",
            "-10\n",
            "-10\n",
            "-10\n",
            "-10\n",
            "-10\n",
            "-10\n",
            "-10\n",
            "-10\n",
            "-10\n",
            "-10\n",
            "-10\n",
            "-10\n",
            "-10\n",
            "-10\n",
            "-10\n",
            "-10\n",
            "-10\n",
            "-10\n",
            "-10\n",
            "-10\n",
            "-10\n",
            "-10\n",
            "-10\n",
            "-10\n",
            "-10\n",
            "-10\n",
            "-10\n",
            "-10\n",
            "-10\n",
            "-10\n",
            "-10\n",
            "-10\n",
            "-10\n",
            "-10\n",
            "-10\n",
            "-10\n",
            "-10\n",
            "-10\n",
            "-10\n",
            "-10\n",
            "-10\n",
            "-10\n",
            "-10\n",
            "-10\n",
            "-10\n",
            "-10\n",
            "-10\n",
            "-10\n",
            "-10\n",
            "-10\n",
            "-10\n",
            "-10\n",
            "-10\n",
            "-10\n",
            "-10\n",
            "-10\n",
            "-10\n",
            "-10\n",
            "-10\n",
            "-10\n",
            "-10\n",
            "-10\n",
            "-10\n",
            "-10\n",
            "-10\n",
            "-10\n",
            "-10\n",
            "-10\n",
            "-10\n",
            "-10\n",
            "-10\n",
            "-10\n",
            "-10\n",
            "-10\n",
            "-10\n",
            "-10\n",
            "-10\n",
            "-10\n",
            "-10\n",
            "-10\n",
            "-10\n",
            "-10\n",
            "-10\n",
            "-10\n",
            "-10\n",
            "-10\n",
            "-10\n",
            "-10\n",
            "-10\n",
            "-10\n",
            "-10\n",
            "-10\n",
            "-10\n",
            "-10\n",
            "-10\n",
            "-10\n",
            "-10\n",
            "-10\n",
            "-10\n",
            "-10\n",
            "-10\n",
            "-10\n",
            "-10\n",
            "-10\n",
            "-10\n",
            "-10\n",
            "-10\n",
            "-10\n",
            "-10\n",
            "-10\n",
            "-10\n",
            "-10\n",
            "-10\n",
            "-10\n",
            "-10\n",
            "-10\n",
            "-10\n",
            "-10\n",
            "-10\n",
            "-10\n",
            "-10\n",
            "-10\n",
            "-10\n",
            "-10\n",
            "-10\n",
            "-10\n",
            "-10\n",
            "-10\n",
            "-10\n",
            "-10\n",
            "-10\n",
            "-10\n",
            "-10\n",
            "-10\n",
            "-10\n",
            "-10\n",
            "-10\n",
            "-10\n",
            "-10\n",
            "-10\n",
            "-10\n",
            "-10\n",
            "-10\n",
            "-10\n",
            "-10\n",
            "-10\n",
            "-10\n",
            "-10\n",
            "-10\n",
            "-10\n",
            "-10\n",
            "-10\n",
            "-10\n",
            "-10\n",
            "-10\n",
            "-10\n",
            "-10\n",
            "-10\n",
            "-10\n",
            "-10\n",
            "-10\n",
            "-10\n",
            "-10\n",
            "-10\n",
            "-10\n",
            "-10\n",
            "-10\n",
            "-10\n",
            "-10\n",
            "-10\n",
            "-10\n",
            "-10\n",
            "-10\n",
            "-10\n",
            "-10\n",
            "-10\n",
            "-10\n",
            "-10\n",
            "-10\n",
            "-10\n",
            "-10\n",
            "-10\n",
            "-10\n",
            "-10\n",
            "-10\n",
            "-10\n",
            "-10\n",
            "-10\n",
            "-10\n",
            "-10\n",
            "-10\n",
            "-10\n",
            "-10\n",
            "-10\n",
            "-10\n",
            "-10\n",
            "-10\n",
            "-10\n",
            "-10\n",
            "-10\n",
            "-10\n",
            "-10\n",
            "-10\n",
            "-10\n",
            "-10\n",
            "-10\n",
            "-10\n",
            "-10\n",
            "-10\n",
            "-10\n",
            "-10\n",
            "-10\n",
            "-10\n",
            "-10\n",
            "-10\n",
            "-10\n",
            "-10\n",
            "-10\n",
            "-10\n",
            "-10\n",
            "-10\n",
            "-10\n",
            "-10\n",
            "-10\n",
            "-10\n",
            "-10\n",
            "-10\n",
            "-10\n",
            "-10\n",
            "-10\n",
            "-10\n",
            "-10\n",
            "-10\n",
            "-10\n",
            "-10\n",
            "-10\n",
            "-10\n",
            "-10\n",
            "-10\n",
            "-10\n",
            "-10\n",
            "-10\n",
            "-10\n",
            "-10\n",
            "-10\n",
            "-10\n",
            "-10\n",
            "-10\n",
            "-10\n",
            "-10\n",
            "-10\n",
            "-10\n",
            "-10\n",
            "-10\n",
            "-10\n",
            "-10\n",
            "-10\n",
            "-10\n",
            "-10\n",
            "-10\n",
            "-10\n",
            "-10\n",
            "-10\n",
            "-10\n",
            "-10\n",
            "-10\n",
            "-10\n",
            "-10\n",
            "-10\n",
            "-10\n",
            "-10\n",
            "-10\n",
            "-10\n",
            "-10\n",
            "-10\n",
            "-10\n",
            "-10\n",
            "-10\n",
            "-10\n",
            "-10\n",
            "-10\n",
            "-10\n",
            "-10\n",
            "-10\n",
            "-10\n",
            "-10\n",
            "-10\n",
            "-10\n",
            "-10\n",
            "-10\n",
            "-10\n",
            "-10\n",
            "-10\n",
            "-10\n",
            "-10\n",
            "-10\n",
            "-10\n",
            "-10\n",
            "-10\n",
            "-10\n",
            "-10\n",
            "-10\n",
            "-10\n",
            "-10\n",
            "-10\n",
            "-10\n",
            "-10\n",
            "-10\n",
            "-10\n",
            "-10\n",
            "-10\n",
            "-10\n",
            "-10\n",
            "-10\n",
            "-10\n",
            "-10\n",
            "-10\n",
            "-10\n",
            "-10\n",
            "-10\n",
            "-10\n",
            "-10\n",
            "-10\n",
            "-10\n",
            "-10\n",
            "-10\n",
            "-10\n",
            "-10\n",
            "-10\n",
            "-10\n",
            "-10\n",
            "-10\n",
            "-10\n",
            "-10\n",
            "-10\n",
            "-10\n",
            "-10\n",
            "-10\n",
            "-10\n",
            "-10\n",
            "-10\n",
            "-10\n",
            "-10\n",
            "-10\n",
            "-10\n",
            "-10\n",
            "-10\n",
            "-10\n",
            "-10\n",
            "-10\n",
            "-10\n",
            "-10\n",
            "-10\n",
            "-10\n",
            "-10\n",
            "-10\n",
            "-10\n",
            "-10\n",
            "-10\n",
            "-10\n",
            "-10\n",
            "-10\n",
            "-10\n",
            "-10\n",
            "-10\n",
            "-10\n",
            "-10\n",
            "-10\n",
            "-10\n",
            "-10\n",
            "-10\n",
            "-10\n",
            "-10\n",
            "-10\n",
            "-10\n",
            "-10\n",
            "-10\n",
            "-10\n",
            "-10\n",
            "-10\n",
            "-10\n",
            "-10\n",
            "-10\n",
            "-10\n",
            "-10\n",
            "-10\n",
            "-10\n",
            "-10\n",
            "-10\n",
            "-10\n",
            "-10\n",
            "-10\n",
            "-10\n",
            "-10\n",
            "-10\n",
            "-10\n",
            "-10\n",
            "-10\n",
            "-10\n",
            "-10\n",
            "-10\n",
            "-10\n",
            "-10\n",
            "-10\n",
            "-10\n",
            "-10\n",
            "-10\n",
            "-10\n",
            "-10\n",
            "-10\n",
            "-10\n",
            "-10\n",
            "-10\n",
            "-10\n",
            "-10\n",
            "-10\n",
            "-10\n",
            "-10\n",
            "-10\n",
            "-10\n",
            "-10\n",
            "-10\n",
            "-10\n",
            "-10\n",
            "-10\n",
            "-10\n",
            "-10\n",
            "-10\n",
            "-10\n",
            "-10\n",
            "-10\n",
            "-10\n",
            "-10\n",
            "-10\n",
            "-10\n",
            "-10\n",
            "-10\n",
            "-10\n",
            "-10\n",
            "-10\n",
            "-10\n",
            "-10\n",
            "-10\n",
            "-10\n",
            "-10\n",
            "-10\n",
            "-10\n",
            "-10\n",
            "-10\n",
            "-10\n",
            "-10\n",
            "-10\n",
            "-10\n",
            "-10\n",
            "-10\n",
            "-10\n",
            "-10\n",
            "-10\n",
            "-10\n",
            "-10\n",
            "-10\n",
            "-10\n",
            "-10\n",
            "-10\n",
            "-10\n",
            "-10\n",
            "-10\n",
            "-10\n",
            "-10\n",
            "-10\n",
            "-10\n",
            "-10\n",
            "-10\n",
            "-10\n",
            "-10\n",
            "-10\n",
            "-10\n",
            "-10\n",
            "-10\n",
            "-10\n",
            "-10\n",
            "-10\n",
            "-10\n",
            "-10\n",
            "-10\n",
            "-10\n",
            "-10\n",
            "-10\n",
            "-10\n",
            "-10\n",
            "-10\n",
            "-10\n",
            "-10\n",
            "-10\n",
            "-10\n",
            "-10\n",
            "-10\n",
            "-10\n",
            "-10\n",
            "-10\n",
            "-10\n",
            "-10\n",
            "-10\n",
            "-10\n",
            "-10\n",
            "-10\n",
            "-10\n",
            "-10\n",
            "-10\n",
            "-10\n",
            "-10\n",
            "-10\n",
            "-10\n",
            "-10\n",
            "-10\n",
            "-10\n",
            "-10\n",
            "-10\n",
            "-10\n",
            "-10\n",
            "-10\n",
            "-10\n",
            "-10\n",
            "-10\n",
            "-10\n",
            "-10\n",
            "-10\n",
            "-10\n",
            "-10\n",
            "-10\n",
            "-10\n",
            "-10\n",
            "-10\n",
            "-10\n",
            "-10\n",
            "-10\n",
            "-10\n",
            "-10\n",
            "-10\n",
            "-10\n",
            "-10\n",
            "-10\n",
            "-10\n",
            "-10\n",
            "-10\n",
            "-10\n",
            "-10\n",
            "-10\n",
            "-10\n",
            "-10\n",
            "-10\n",
            "-10\n",
            "-10\n",
            "-10\n",
            "-10\n",
            "-10\n",
            "-10\n",
            "-10\n",
            "-10\n",
            "-10\n",
            "-10\n",
            "-10\n",
            "-10\n",
            "-10\n",
            "-10\n",
            "-10\n",
            "-10\n",
            "-10\n",
            "-10\n",
            "-10\n",
            "-10\n",
            "-10\n",
            "-10\n",
            "-10\n",
            "-10\n",
            "-10\n",
            "-10\n",
            "-10\n",
            "-10\n",
            "-10\n",
            "-10\n",
            "-10\n",
            "-10\n",
            "-10\n",
            "-10\n",
            "-10\n",
            "-10\n",
            "-10\n",
            "-10\n",
            "-10\n",
            "-10\n",
            "-10\n",
            "-10\n",
            "-10\n",
            "-10\n",
            "-10\n",
            "-10\n",
            "-10\n",
            "-10\n",
            "-10\n",
            "-10\n",
            "-10\n",
            "-10\n",
            "-10\n",
            "-10\n",
            "-10\n",
            "-10\n",
            "-10\n",
            "-10\n",
            "-10\n",
            "-10\n",
            "-10\n",
            "-10\n",
            "-10\n",
            "-10\n",
            "-10\n",
            "-10\n",
            "-10\n",
            "-10\n",
            "-10\n",
            "-10\n",
            "-10\n",
            "-10\n",
            "-10\n",
            "-10\n",
            "-10\n",
            "-10\n",
            "-10\n",
            "-10\n",
            "-10\n",
            "-10\n",
            "-10\n",
            "-10\n",
            "-10\n",
            "-10\n",
            "-10\n",
            "-10\n",
            "-10\n",
            "-10\n",
            "-10\n",
            "-10\n",
            "-10\n",
            "-10\n",
            "-10\n",
            "-10\n",
            "-10\n",
            "-10\n",
            "-10\n",
            "-10\n",
            "-10\n",
            "-10\n",
            "-10\n",
            "-10\n",
            "-10\n",
            "-10\n",
            "-10\n",
            "-10\n",
            "-10\n",
            "-10\n",
            "-10\n",
            "-10\n",
            "-10\n",
            "-10\n",
            "-10\n",
            "-10\n",
            "-10\n",
            "-10\n",
            "-10\n",
            "-10\n",
            "-10\n",
            "-10\n",
            "-10\n",
            "-10\n",
            "-10\n",
            "-10\n",
            "-10\n",
            "-10\n",
            "-10\n",
            "-10\n",
            "-10\n",
            "-10\n",
            "-10\n",
            "-10\n",
            "-10\n",
            "-10\n",
            "-10\n",
            "-10\n",
            "-10\n",
            "-10\n",
            "-10\n",
            "-10\n",
            "-10\n",
            "-10\n",
            "-10\n",
            "-10\n",
            "-10\n",
            "-10\n",
            "-10\n",
            "-10\n",
            "-10\n",
            "-10\n",
            "-10\n",
            "-10\n",
            "-10\n",
            "-10\n",
            "-10\n",
            "-10\n",
            "-10\n",
            "-10\n",
            "-10\n",
            "-10\n",
            "-10\n",
            "-10\n",
            "-10\n",
            "-10\n",
            "-10\n",
            "-10\n",
            "-10\n",
            "-10\n",
            "-10\n",
            "-10\n",
            "-10\n",
            "-10\n",
            "-10\n",
            "-10\n",
            "-10\n",
            "-10\n",
            "-10\n",
            "-10\n",
            "-10\n",
            "-10\n",
            "-10\n",
            "-10\n",
            "-10\n",
            "-10\n",
            "-10\n",
            "-10\n",
            "-10\n",
            "-10\n",
            "-10\n",
            "-10\n",
            "-10\n",
            "-10\n",
            "-10\n",
            "-10\n",
            "-10\n",
            "-10\n",
            "-10\n",
            "-10\n",
            "-10\n",
            "-10\n",
            "-10\n",
            "-10\n",
            "-10\n",
            "-10\n",
            "-10\n",
            "-10\n",
            "-10\n",
            "-10\n",
            "-10\n",
            "-10\n",
            "-10\n",
            "-10\n",
            "-10\n",
            "-10\n",
            "-10\n",
            "-10\n",
            "-10\n",
            "-10\n",
            "-10\n",
            "-10\n",
            "-10\n",
            "-10\n",
            "-10\n",
            "-10\n",
            "-10\n",
            "-10\n",
            "-10\n",
            "-10\n",
            "-10\n",
            "-10\n",
            "-10\n",
            "-10\n",
            "-10\n",
            "-10\n",
            "-10\n",
            "-10\n",
            "-10\n",
            "-10\n",
            "-10\n",
            "-10\n",
            "-10\n",
            "-10\n",
            "-10\n",
            "-10\n",
            "-10\n",
            "-10\n",
            "-10\n",
            "-10\n",
            "-10\n",
            "-10\n",
            "-10\n",
            "-10\n",
            "-10\n",
            "-10\n",
            "-10\n",
            "-10\n",
            "-10\n",
            "-10\n",
            "-10\n",
            "-10\n",
            "-10\n",
            "-10\n",
            "-10\n",
            "-10\n",
            "-10\n",
            "-10\n",
            "-10\n",
            "-10\n",
            "-10\n",
            "-10\n",
            "-10\n",
            "-10\n",
            "-10\n",
            "-10\n",
            "-10\n",
            "-10\n",
            "-10\n",
            "-10\n",
            "-10\n",
            "-10\n",
            "-10\n",
            "-10\n",
            "-10\n",
            "-10\n",
            "-10\n",
            "-10\n",
            "-10\n",
            "-10\n",
            "-10\n",
            "-10\n",
            "-10\n",
            "-10\n",
            "-10\n",
            "-10\n",
            "-10\n",
            "-10\n",
            "-10\n",
            "-10\n",
            "-10\n",
            "-10\n",
            "-10\n",
            "-10\n",
            "-10\n",
            "-10\n",
            "-10\n",
            "-10\n",
            "-10\n",
            "-10\n",
            "-10\n",
            "-10\n",
            "-10\n",
            "-10\n",
            "-10\n",
            "-10\n",
            "-10\n",
            "-10\n",
            "-10\n",
            "-10\n",
            "-10\n",
            "-10\n",
            "-10\n",
            "-10\n",
            "-10\n",
            "-10\n",
            "-10\n",
            "-10\n",
            "-10\n",
            "-10\n",
            "-10\n",
            "-10\n",
            "-10\n",
            "-10\n",
            "-10\n",
            "-10\n",
            "-10\n",
            "-10\n",
            "-10\n",
            "-10\n",
            "-10\n",
            "-10\n",
            "-10\n",
            "-10\n",
            "-10\n",
            "-10\n",
            "-10\n",
            "-10\n",
            "-10\n",
            "-10\n",
            "-10\n",
            "-10\n",
            "-10\n",
            "-10\n",
            "-10\n",
            "-10\n",
            "-10\n",
            "-10\n",
            "-10\n",
            "-10\n",
            "-10\n",
            "-10\n",
            "-10\n",
            "-10\n",
            "-10\n",
            "-10\n",
            "-10\n",
            "-10\n",
            "-10\n",
            "-10\n",
            "-10\n",
            "-10\n",
            "-10\n",
            "-10\n",
            "-10\n",
            "-10\n",
            "-10\n",
            "-10\n",
            "-10\n",
            "-10\n",
            "-10\n",
            "-10\n",
            "-10\n",
            "-10\n",
            "-10\n",
            "-10\n",
            "-10\n",
            "-10\n",
            "-10\n",
            "-10\n",
            "-10\n",
            "-10\n",
            "-10\n",
            "-10\n",
            "-10\n",
            "-10\n",
            "-10\n",
            "-10\n",
            "-10\n",
            "-10\n",
            "-10\n",
            "-10\n",
            "-10\n",
            "-10\n",
            "-10\n",
            "-10\n",
            "-10\n",
            "-10\n",
            "-10\n",
            "-10\n",
            "-10\n",
            "-10\n",
            "-10\n",
            "-10\n",
            "-10\n",
            "-10\n",
            "-10\n",
            "-10\n",
            "-10\n",
            "-10\n",
            "-10\n",
            "-10\n",
            "-10\n",
            "-10\n",
            "-10\n",
            "-10\n",
            "-10\n",
            "-10\n",
            "-10\n",
            "-10\n",
            "-10\n",
            "-10\n",
            "-10\n",
            "-10\n",
            "-10\n",
            "-10\n",
            "-10\n",
            "-10\n",
            "-10\n",
            "-10\n",
            "-10\n",
            "-10\n",
            "-10\n",
            "-10\n",
            "-10\n",
            "-10\n",
            "-10\n",
            "-10\n",
            "-10\n",
            "-10\n",
            "-10\n",
            "-10\n",
            "-10\n",
            "-10\n",
            "-10\n",
            "-10\n",
            "-10\n",
            "-10\n",
            "-10\n",
            "-10\n",
            "-10\n",
            "-10\n",
            "-10\n",
            "-10\n",
            "-10\n",
            "-10\n",
            "-10\n",
            "-10\n",
            "-10\n",
            "-10\n",
            "-10\n",
            "-10\n",
            "-10\n",
            "-10\n",
            "-10\n",
            "-10\n",
            "-10\n",
            "-10\n",
            "-10\n",
            "-10\n",
            "-10\n",
            "-10\n",
            "-10\n",
            "-10\n",
            "-10\n",
            "-10\n",
            "-10\n",
            "-10\n",
            "-10\n",
            "-10\n",
            "-10\n",
            "-10\n",
            "-10\n",
            "-10\n",
            "-10\n",
            "-10\n",
            "-10\n",
            "-10\n",
            "-10\n",
            "-10\n",
            "-10\n",
            "-10\n",
            "-10\n",
            "-10\n",
            "-10\n",
            "-10\n",
            "-10\n",
            "-10\n",
            "-10\n",
            "-10\n",
            "-10\n",
            "-10\n",
            "-10\n",
            "-10\n",
            "-10\n",
            "-10\n",
            "-10\n",
            "-10\n",
            "-10\n",
            "-10\n",
            "-10\n",
            "-10\n",
            "-10\n",
            "-10\n",
            "-10\n",
            "-10\n",
            "-10\n",
            "-10\n",
            "-10\n",
            "-10\n",
            "-10\n",
            "-10\n",
            "-10\n",
            "-10\n",
            "-10\n",
            "-10\n",
            "-10\n",
            "-10\n",
            "-10\n",
            "-10\n",
            "-10\n",
            "-10\n",
            "-10\n",
            "-10\n",
            "-10\n",
            "-10\n",
            "-10\n",
            "-10\n",
            "-10\n",
            "-10\n",
            "-10\n",
            "-10\n",
            "-10\n",
            "-10\n",
            "-10\n",
            "-10\n",
            "-10\n",
            "-10\n",
            "-10\n",
            "-10\n",
            "-10\n",
            "-10\n",
            "-10\n",
            "-10\n",
            "-10\n",
            "-10\n",
            "-10\n",
            "-10\n",
            "-10\n",
            "-10\n",
            "-10\n",
            "-10\n",
            "-10\n",
            "-10\n",
            "-10\n",
            "-10\n",
            "-10\n",
            "-10\n",
            "-10\n",
            "-10\n",
            "-10\n",
            "-10\n",
            "-10\n",
            "-10\n",
            "-10\n",
            "-10\n",
            "-10\n",
            "-10\n",
            "-10\n",
            "-10\n",
            "-10\n",
            "-10\n",
            "-10\n",
            "-10\n",
            "-10\n",
            "-10\n",
            "-10\n",
            "-10\n",
            "-10\n",
            "-10\n",
            "-10\n",
            "-10\n",
            "-10\n",
            "-10\n",
            "-10\n",
            "-10\n",
            "-10\n",
            "-10\n",
            "-10\n",
            "-10\n",
            "-10\n",
            "-10\n",
            "-10\n",
            "-10\n",
            "-10\n",
            "-10\n",
            "-10\n",
            "-10\n",
            "-10\n",
            "-10\n",
            "-10\n",
            "-10\n",
            "-10\n",
            "-10\n",
            "-10\n",
            "-10\n",
            "-10\n",
            "-10\n",
            "-10\n",
            "-10\n",
            "-10\n",
            "-10\n",
            "-10\n",
            "-10\n",
            "-10\n",
            "-10\n",
            "-10\n",
            "-10\n",
            "-10\n",
            "-10\n",
            "-10\n",
            "-10\n",
            "-10\n",
            "-10\n",
            "-10\n",
            "-10\n",
            "-10\n",
            "-10\n",
            "-10\n",
            "-10\n",
            "-10\n",
            "-10\n",
            "-10\n",
            "-10\n",
            "-10\n",
            "-10\n",
            "-10\n",
            "-10\n",
            "-10\n",
            "-10\n",
            "-10\n",
            "-10\n",
            "-10\n",
            "-10\n",
            "-10\n",
            "-10\n",
            "-10\n",
            "-10\n",
            "-10\n",
            "-10\n",
            "-10\n",
            "-10\n",
            "-10\n",
            "-10\n",
            "-10\n",
            "-10\n",
            "-10\n",
            "-10\n",
            "-10\n",
            "-10\n",
            "-10\n",
            "-10\n",
            "-10\n",
            "-10\n",
            "-10\n",
            "-10\n",
            "-10\n",
            "-10\n",
            "-10\n",
            "-10\n",
            "-10\n",
            "-10\n",
            "-10\n",
            "-10\n",
            "-10\n",
            "-10\n",
            "-10\n",
            "-10\n",
            "-10\n",
            "-10\n",
            "-10\n",
            "-10\n",
            "-10\n",
            "-10\n",
            "-10\n",
            "-10\n",
            "-10\n",
            "-10\n",
            "-10\n",
            "-10\n",
            "-10\n",
            "-10\n",
            "-10\n",
            "-10\n",
            "-10\n",
            "-10\n",
            "-10\n",
            "-10\n",
            "-10\n",
            "-10\n",
            "-10\n",
            "-10\n",
            "-10\n",
            "-10\n",
            "-10\n",
            "-10\n",
            "-10\n",
            "-10\n",
            "-10\n",
            "-10\n",
            "-10\n",
            "-10\n",
            "-10\n",
            "-10\n",
            "-10\n",
            "-10\n",
            "-10\n",
            "-10\n",
            "-10\n",
            "-10\n",
            "-10\n",
            "-10\n",
            "-10\n",
            "-10\n",
            "-10\n",
            "-10\n",
            "-10\n",
            "-10\n",
            "-10\n",
            "-10\n",
            "-10\n",
            "-10\n",
            "-10\n",
            "-10\n",
            "-10\n",
            "-10\n",
            "-10\n",
            "-10\n",
            "-10\n",
            "-10\n",
            "-10\n",
            "-10\n",
            "-10\n",
            "-10\n",
            "-10\n",
            "-10\n",
            "-10\n",
            "-10\n",
            "-10\n",
            "-10\n",
            "-10\n",
            "-10\n",
            "-10\n",
            "-10\n",
            "-10\n",
            "-10\n",
            "-10\n",
            "-10\n",
            "-10\n",
            "-10\n",
            "-10\n",
            "-10\n",
            "-10\n",
            "-10\n",
            "-10\n",
            "-10\n",
            "-10\n",
            "-10\n",
            "-10\n",
            "-10\n",
            "-10\n",
            "-10\n",
            "-10\n",
            "-10\n",
            "-10\n",
            "-10\n",
            "-10\n",
            "-10\n",
            "-10\n",
            "-10\n",
            "-10\n",
            "-10\n",
            "-10\n",
            "-10\n",
            "-10\n",
            "-10\n",
            "-10\n",
            "-10\n",
            "-10\n",
            "-10\n",
            "-10\n",
            "-10\n",
            "-10\n",
            "-10\n",
            "-10\n",
            "-10\n",
            "-10\n",
            "-10\n",
            "-10\n",
            "-10\n",
            "-10\n",
            "-10\n",
            "-10\n",
            "-10\n",
            "-10\n",
            "-10\n",
            "-10\n",
            "-10\n",
            "-10\n",
            "-10\n",
            "-10\n",
            "-10\n",
            "-10\n",
            "-10\n",
            "-10\n",
            "-10\n",
            "-10\n",
            "-10\n",
            "-10\n",
            "-10\n",
            "-10\n",
            "-10\n",
            "-10\n",
            "-10\n",
            "-10\n",
            "-10\n",
            "-10\n",
            "-10\n",
            "-10\n",
            "-10\n",
            "-10\n",
            "-10\n",
            "-10\n",
            "-10\n",
            "-10\n",
            "-10\n",
            "-10\n",
            "-10\n",
            "-10\n",
            "-10\n",
            "-10\n",
            "-10\n",
            "-10\n",
            "-10\n",
            "-10\n",
            "-10\n",
            "-10\n",
            "-10\n",
            "-10\n",
            "-10\n",
            "-10\n",
            "-10\n",
            "-10\n",
            "-10\n",
            "-10\n",
            "-10\n",
            "-10\n",
            "-10\n",
            "-10\n",
            "-10\n",
            "-10\n",
            "-10\n",
            "-10\n",
            "-10\n",
            "-10\n",
            "-10\n",
            "-10\n",
            "-10\n",
            "-10\n",
            "-10\n",
            "-10\n",
            "-10\n",
            "-10\n",
            "-10\n",
            "-10\n",
            "-10\n",
            "-10\n",
            "-10\n",
            "-10\n",
            "-10\n",
            "-10\n",
            "-10\n",
            "-10\n",
            "-10\n",
            "-10\n",
            "-10\n",
            "-10\n",
            "-10\n",
            "-10\n",
            "-10\n",
            "-10\n",
            "-10\n",
            "-10\n",
            "-10\n",
            "-10\n",
            "-10\n",
            "-10\n",
            "-10\n",
            "-10\n",
            "-10\n",
            "-10\n",
            "-10\n",
            "-10\n",
            "-10\n",
            "-10\n",
            "-10\n",
            "-10\n",
            "-10\n",
            "-10\n",
            "-10\n",
            "-10\n",
            "-10\n",
            "-10\n",
            "-10\n",
            "-10\n",
            "-10\n",
            "-10\n",
            "-10\n",
            "-10\n",
            "-10\n",
            "-10\n",
            "-10\n",
            "-10\n",
            "-10\n",
            "-10\n",
            "-10\n",
            "-10\n",
            "-10\n",
            "-10\n",
            "-10\n",
            "-10\n",
            "-10\n",
            "-10\n",
            "-10\n",
            "-10\n",
            "-10\n",
            "-10\n",
            "-10\n",
            "-10\n",
            "-10\n",
            "-10\n",
            "-10\n",
            "-10\n",
            "-10\n",
            "-10\n",
            "-10\n",
            "-10\n",
            "-10\n",
            "-10\n",
            "-10\n",
            "-10\n",
            "-10\n",
            "-10\n",
            "-10\n",
            "-10\n",
            "-10\n",
            "-10\n",
            "-10\n",
            "-10\n",
            "-10\n",
            "-10\n",
            "-10\n",
            "-10\n",
            "-10\n",
            "-10\n",
            "-10\n",
            "-10\n",
            "-10\n",
            "-10\n",
            "-10\n",
            "-10\n",
            "-10\n",
            "-10\n",
            "-10\n",
            "-10\n",
            "-10\n",
            "-10\n",
            "-10\n",
            "-10\n",
            "-10\n",
            "-10\n",
            "-10\n",
            "-10\n",
            "-10\n",
            "-10\n",
            "-10\n",
            "-10\n",
            "-10\n",
            "-10\n",
            "-10\n",
            "-10\n",
            "-10\n",
            "-10\n",
            "-10\n",
            "-10\n",
            "-10\n",
            "-10\n",
            "-10\n",
            "-10\n",
            "-10\n",
            "-10\n",
            "-10\n",
            "-10\n",
            "-10\n",
            "-10\n",
            "-10\n",
            "-10\n",
            "-10\n",
            "-10\n",
            "-10\n",
            "-10\n",
            "-10\n",
            "-10\n",
            "-10\n",
            "-10\n",
            "-10\n",
            "-10\n",
            "-10\n",
            "-10\n",
            "-10\n",
            "-10\n",
            "-10\n",
            "-10\n",
            "-10\n",
            "-10\n",
            "-10\n",
            "-10\n",
            "-10\n",
            "-10\n",
            "-10\n",
            "-10\n",
            "-10\n",
            "-10\n",
            "-10\n",
            "-10\n",
            "-10\n",
            "-10\n",
            "-10\n",
            "-10\n",
            "-10\n",
            "-10\n",
            "-10\n",
            "-10\n",
            "-10\n",
            "-10\n",
            "-10\n",
            "-10\n",
            "-10\n",
            "-10\n",
            "-10\n",
            "-10\n",
            "-10\n",
            "-10\n",
            "-10\n",
            "-10\n",
            "-10\n",
            "-10\n",
            "-10\n",
            "-10\n",
            "-10\n",
            "-10\n",
            "-10\n",
            "-10\n",
            "-10\n",
            "-10\n",
            "-10\n",
            "-10\n",
            "-10\n",
            "-10\n",
            "-10\n",
            "-10\n",
            "-10\n",
            "-10\n",
            "-10\n",
            "-10\n",
            "-10\n",
            "-10\n",
            "-10\n",
            "-10\n",
            "-10\n",
            "-10\n",
            "-10\n",
            "-10\n",
            "-10\n",
            "-10\n",
            "-10\n",
            "-10\n",
            "-10\n",
            "-10\n",
            "-10\n",
            "-10\n",
            "-10\n",
            "-10\n",
            "-10\n",
            "-10\n",
            "-10\n",
            "-10\n",
            "-10\n",
            "-10\n",
            "-10\n",
            "-10\n",
            "-10\n",
            "-10\n",
            "-10\n",
            "-10\n",
            "-10\n",
            "-10\n",
            "-10\n",
            "-10\n",
            "-10\n",
            "-10\n",
            "-10\n",
            "-10\n",
            "-10\n",
            "-10\n",
            "-10\n",
            "-10\n",
            "-10\n",
            "-10\n",
            "-10\n",
            "-10\n",
            "-10\n",
            "-10\n",
            "-10\n",
            "-10\n",
            "-10\n",
            "-10\n",
            "-10\n",
            "-10\n",
            "-10\n",
            "-10\n",
            "-10\n",
            "-10\n",
            "-10\n",
            "-10\n",
            "-10\n",
            "-10\n",
            "-10\n",
            "-10\n",
            "-10\n",
            "-10\n",
            "-10\n",
            "-10\n",
            "-10\n",
            "-10\n",
            "-10\n",
            "-10\n",
            "-10\n",
            "-10\n",
            "-10\n",
            "-10\n",
            "-10\n",
            "-10\n",
            "-10\n",
            "-10\n",
            "-10\n",
            "-10\n",
            "-10\n",
            "-10\n",
            "-10\n",
            "-10\n",
            "-10\n",
            "-10\n",
            "-10\n",
            "-10\n",
            "-10\n",
            "-10\n",
            "-10\n",
            "-10\n",
            "-10\n",
            "-10\n",
            "-10\n",
            "-10\n",
            "-10\n",
            "-10\n",
            "-10\n",
            "-10\n",
            "-10\n",
            "-10\n",
            "-10\n",
            "-10\n",
            "-10\n",
            "-10\n",
            "-10\n",
            "-10\n",
            "-10\n",
            "-10\n",
            "-10\n",
            "-10\n",
            "-10\n",
            "-10\n",
            "-10\n",
            "-10\n",
            "-10\n",
            "-10\n",
            "-10\n",
            "-10\n",
            "-10\n",
            "-10\n",
            "-10\n",
            "-10\n",
            "-10\n",
            "-10\n",
            "-10\n",
            "-10\n",
            "-10\n",
            "-10\n",
            "-10\n",
            "-10\n",
            "-10\n",
            "-10\n",
            "-10\n",
            "-10\n",
            "-10\n",
            "-10\n",
            "-10\n",
            "-10\n",
            "-10\n",
            "-10\n",
            "-10\n",
            "-10\n",
            "-10\n",
            "-10\n",
            "-10\n",
            "-10\n",
            "-10\n",
            "-10\n",
            "-10\n",
            "-10\n",
            "-10\n",
            "-10\n",
            "-10\n",
            "-10\n",
            "-10\n",
            "-10\n",
            "-10\n",
            "-10\n",
            "-10\n",
            "-10\n",
            "-10\n",
            "-10\n",
            "-10\n",
            "-10\n",
            "-10\n",
            "-10\n",
            "-10\n",
            "-10\n",
            "-10\n",
            "-10\n",
            "-10\n",
            "-10\n",
            "-10\n",
            "-10\n",
            "-10\n",
            "-10\n",
            "-10\n",
            "-10\n",
            "-10\n",
            "-10\n",
            "-10\n",
            "-10\n",
            "-10\n",
            "-10\n",
            "-10\n",
            "-10\n",
            "-10\n",
            "-10\n",
            "-10\n",
            "-10\n",
            "-10\n",
            "-10\n",
            "-10\n",
            "-10\n",
            "-10\n",
            "-10\n",
            "-10\n",
            "-10\n",
            "-10\n",
            "-10\n",
            "-10\n",
            "-10\n",
            "-10\n",
            "-10\n",
            "-10\n",
            "-10\n",
            "-10\n",
            "-10\n",
            "-10\n",
            "-10\n",
            "-10\n",
            "-10\n",
            "-10\n",
            "-10\n",
            "-10\n",
            "-10\n",
            "-10\n",
            "-10\n",
            "-10\n",
            "-10\n",
            "-10\n",
            "-10\n",
            "-10\n",
            "-10\n",
            "-10\n",
            "-10\n",
            "-10\n",
            "-10\n",
            "-10\n",
            "-10\n",
            "-10\n",
            "-10\n",
            "-10\n",
            "-10\n",
            "-10\n",
            "-10\n",
            "-10\n",
            "-10\n",
            "-10\n",
            "-10\n",
            "-10\n",
            "-10\n",
            "-10\n",
            "-10\n",
            "-10\n",
            "-10\n",
            "-10\n",
            "-10\n",
            "-10\n",
            "-10\n",
            "-10\n",
            "-10\n",
            "-10\n",
            "-10\n",
            "-10\n",
            "-10\n",
            "-10\n",
            "-10\n",
            "-10\n",
            "-10\n",
            "-10\n",
            "-10\n",
            "-10\n",
            "-10\n",
            "-10\n",
            "-10\n",
            "-10\n",
            "-10\n",
            "-10\n",
            "-10\n",
            "-10\n",
            "-10\n",
            "-10\n",
            "-10\n",
            "-10\n",
            "-10\n",
            "-10\n",
            "-10\n",
            "-10\n",
            "-10\n",
            "-10\n",
            "-10\n",
            "-10\n",
            "-10\n",
            "-10\n",
            "-10\n",
            "-10\n",
            "-10\n",
            "-10\n",
            "-10\n",
            "-10\n",
            "-10\n",
            "-10\n",
            "-10\n",
            "-10\n",
            "-10\n",
            "-10\n",
            "-10\n",
            "-10\n",
            "-10\n",
            "-10\n",
            "-10\n",
            "-10\n",
            "-10\n",
            "-10\n",
            "-10\n",
            "-10\n",
            "-10\n",
            "-10\n",
            "-10\n",
            "-10\n",
            "-10\n",
            "-10\n",
            "-10\n",
            "-10\n",
            "-10\n",
            "-10\n",
            "-10\n",
            "-10\n",
            "-10\n",
            "-10\n",
            "-10\n",
            "-10\n",
            "-10\n",
            "-10\n",
            "-10\n",
            "-10\n",
            "-10\n",
            "-10\n",
            "-10\n",
            "-10\n",
            "-10\n",
            "-10\n",
            "-10\n",
            "-10\n",
            "-10\n",
            "-10\n",
            "-10\n",
            "-10\n",
            "-10\n",
            "-10\n",
            "-10\n",
            "-10\n",
            "-10\n",
            "-10\n",
            "-10\n",
            "-10\n",
            "-10\n",
            "-10\n",
            "-10\n",
            "-10\n",
            "-10\n",
            "-10\n",
            "-10\n",
            "-10\n",
            "-10\n",
            "-10\n",
            "-10\n",
            "-10\n",
            "-10\n",
            "-10\n",
            "-10\n",
            "-10\n",
            "-10\n",
            "-10\n",
            "-10\n",
            "-10\n",
            "-10\n",
            "-10\n",
            "-10\n",
            "-10\n",
            "-10\n",
            "-10\n",
            "-10\n",
            "-10\n",
            "-10\n",
            "-10\n",
            "-10\n",
            "-10\n",
            "-10\n",
            "-10\n",
            "-10\n",
            "-10\n",
            "-10\n",
            "-10\n",
            "-10\n",
            "-10\n",
            "-10\n",
            "-10\n",
            "-10\n",
            "-10\n",
            "-10\n",
            "-10\n",
            "-10\n",
            "-10\n",
            "-10\n",
            "-10\n",
            "-10\n",
            "-10\n",
            "-10\n",
            "-10\n",
            "-10\n",
            "-10\n",
            "-10\n",
            "-10\n",
            "-10\n",
            "-10\n",
            "-10\n",
            "-10\n",
            "-10\n",
            "-10\n",
            "-10\n",
            "-10\n",
            "-10\n",
            "-10\n",
            "-10\n",
            "-10\n",
            "-10\n",
            "-10\n",
            "-10\n",
            "-10\n",
            "-10\n",
            "-10\n",
            "-10\n",
            "-10\n",
            "-10\n",
            "-10\n",
            "-10\n",
            "-10\n",
            "-10\n",
            "-10\n",
            "-10\n",
            "-10\n",
            "-10\n",
            "-10\n",
            "-10\n",
            "-10\n",
            "-10\n",
            "-10\n",
            "-10\n",
            "-10\n",
            "-10\n",
            "-10\n",
            "-10\n",
            "-10\n",
            "-10\n",
            "-10\n",
            "-10\n",
            "-10\n",
            "-10\n",
            "-10\n",
            "-10\n",
            "-10\n",
            "-10\n",
            "-10\n",
            "-10\n",
            "-10\n",
            "-10\n",
            "-10\n",
            "-10\n",
            "-10\n",
            "-10\n",
            "-10\n",
            "-10\n",
            "-10\n",
            "-10\n",
            "-10\n",
            "-10\n",
            "-10\n",
            "-10\n",
            "-10\n",
            "-10\n",
            "-10\n",
            "-10\n",
            "-10\n",
            "-10\n",
            "-10\n",
            "-10\n",
            "-10\n",
            "-10\n",
            "-10\n",
            "-10\n",
            "-10\n",
            "-10\n",
            "-10\n",
            "-10\n",
            "-10\n",
            "-10\n",
            "-10\n",
            "-10\n",
            "-10\n",
            "-10\n",
            "-10\n",
            "-10\n",
            "-10\n",
            "-10\n",
            "-10\n",
            "-10\n",
            "-10\n",
            "-10\n",
            "-10\n",
            "-10\n",
            "-10\n",
            "-10\n",
            "-10\n",
            "-10\n",
            "-10\n",
            "-10\n",
            "-10\n",
            "-10\n",
            "-10\n",
            "-10\n",
            "-10\n",
            "-10\n",
            "-10\n",
            "-10\n",
            "-10\n",
            "-10\n",
            "-10\n",
            "-10\n",
            "-10\n",
            "-10\n",
            "-10\n",
            "-10\n",
            "-10\n",
            "-10\n",
            "-10\n",
            "-10\n",
            "-10\n",
            "-10\n",
            "-10\n",
            "-10\n",
            "-10\n",
            "-10\n",
            "-10\n",
            "-10\n",
            "-10\n",
            "-10\n",
            "-10\n",
            "-10\n",
            "-10\n",
            "-10\n",
            "-10\n",
            "-10\n",
            "-10\n",
            "-10\n",
            "-10\n",
            "-10\n",
            "-10\n",
            "-10\n",
            "-10\n",
            "-10\n",
            "-10\n",
            "-10\n",
            "-10\n",
            "-10\n",
            "-10\n",
            "-10\n",
            "-10\n",
            "-10\n",
            "-10\n",
            "-10\n",
            "-10\n",
            "-10\n",
            "-10\n",
            "-10\n",
            "-10\n",
            "-10\n",
            "-10\n",
            "-10\n",
            "-10\n",
            "-10\n",
            "-10\n",
            "-10\n",
            "-10\n",
            "-10\n",
            "-10\n",
            "-10\n",
            "-10\n",
            "-10\n",
            "-10\n",
            "-10\n",
            "-10\n",
            "-10\n",
            "-10\n",
            "-10\n",
            "-10\n",
            "-10\n",
            "-10\n",
            "-10\n",
            "-10\n",
            "-10\n",
            "-10\n",
            "-10\n",
            "-10\n",
            "-10\n",
            "-10\n",
            "-10\n",
            "-10\n",
            "-10\n",
            "-10\n",
            "-10\n",
            "-10\n",
            "-10\n",
            "-10\n",
            "-10\n",
            "-10\n",
            "-10\n",
            "-10\n",
            "-10\n",
            "-10\n",
            "-10\n",
            "-10\n",
            "-10\n",
            "-10\n",
            "-10\n",
            "-10\n",
            "-10\n",
            "-10\n",
            "-10\n",
            "-10\n",
            "-10\n",
            "-10\n",
            "-10\n",
            "-10\n",
            "-10\n",
            "-10\n",
            "-10\n",
            "-10\n",
            "-10\n",
            "-10\n",
            "-10\n",
            "-10\n",
            "-10\n",
            "-10\n",
            "-10\n",
            "-10\n",
            "-10\n",
            "-10\n",
            "-10\n",
            "-10\n",
            "-10\n",
            "-10\n",
            "-10\n",
            "-10\n",
            "-10\n",
            "-10\n",
            "-10\n",
            "-10\n",
            "-10\n",
            "-10\n",
            "-10\n",
            "-10\n",
            "-10\n",
            "-10\n",
            "-10\n",
            "-10\n",
            "-10\n",
            "-10\n",
            "-10\n",
            "-10\n",
            "-10\n",
            "-10\n",
            "-10\n",
            "-10\n",
            "-10\n",
            "-10\n",
            "-10\n",
            "-10\n",
            "-10\n",
            "-10\n",
            "-10\n",
            "-10\n",
            "-10\n",
            "-10\n",
            "-10\n",
            "-10\n",
            "-10\n",
            "-10\n",
            "-10\n",
            "-10\n",
            "-10\n",
            "-10\n",
            "-10\n",
            "-10\n",
            "-10\n",
            "-10\n",
            "-10\n",
            "-10\n",
            "-10\n",
            "-10\n",
            "-10\n",
            "-10\n",
            "-10\n",
            "-10\n",
            "-10\n",
            "-10\n",
            "-10\n",
            "-10\n",
            "-10\n",
            "-10\n",
            "-10\n",
            "-10\n",
            "-10\n",
            "-10\n",
            "-10\n",
            "-10\n",
            "-10\n",
            "-10\n",
            "-10\n",
            "-10\n",
            "-10\n",
            "-10\n",
            "-10\n",
            "-10\n",
            "-10\n",
            "-10\n",
            "-10\n",
            "-10\n",
            "-10\n",
            "-10\n",
            "-10\n",
            "-10\n",
            "-10\n",
            "-10\n",
            "-10\n",
            "-10\n",
            "-10\n",
            "-10\n",
            "-10\n",
            "-10\n",
            "-10\n",
            "-10\n",
            "-10\n",
            "-10\n",
            "-10\n",
            "-10\n",
            "-10\n",
            "-10\n",
            "-10\n",
            "-10\n",
            "-10\n",
            "-10\n",
            "-10\n",
            "-10\n",
            "-10\n",
            "-10\n",
            "-10\n",
            "-10\n",
            "-10\n",
            "-10\n",
            "-10\n",
            "-10\n",
            "-10\n",
            "-10\n",
            "-10\n",
            "-10\n",
            "-10\n",
            "-10\n",
            "-10\n",
            "-10\n",
            "-10\n",
            "-10\n",
            "-10\n",
            "-10\n",
            "-10\n",
            "-10\n",
            "-10\n",
            "-10\n",
            "-10\n",
            "-10\n",
            "-10\n",
            "-10\n",
            "-10\n",
            "-10\n",
            "-10\n",
            "-10\n",
            "-10\n",
            "-10\n",
            "-10\n",
            "-10\n",
            "-10\n",
            "-10\n",
            "-10\n",
            "-10\n",
            "-10\n",
            "-10\n",
            "-10\n",
            "-10\n",
            "-10\n",
            "-10\n",
            "-10\n",
            "-10\n",
            "-10\n",
            "-10\n",
            "-10\n",
            "-10\n",
            "-10\n",
            "-10\n",
            "-10\n",
            "-10\n",
            "-10\n",
            "-10\n",
            "-10\n",
            "-10\n",
            "-10\n",
            "-10\n",
            "-10\n",
            "-10\n",
            "-10\n",
            "-10\n",
            "-10\n",
            "-10\n",
            "-10\n",
            "-10\n",
            "-10\n",
            "-10\n",
            "-10\n",
            "-10\n",
            "-10\n",
            "-10\n",
            "-10\n",
            "-10\n",
            "-10\n",
            "-10\n",
            "-10\n",
            "-10\n",
            "-10\n",
            "-10\n",
            "-10\n",
            "-10\n",
            "-10\n",
            "-10\n",
            "-10\n",
            "-10\n",
            "-10\n",
            "-10\n",
            "-10\n",
            "-10\n",
            "-10\n",
            "-10\n",
            "-10\n",
            "-10\n",
            "-10\n",
            "-10\n",
            "-10\n",
            "-10\n",
            "-10\n",
            "-10\n",
            "-10\n",
            "-10\n",
            "-10\n",
            "-10\n",
            "-10\n",
            "-10\n",
            "-10\n",
            "-10\n",
            "-10\n",
            "-10\n",
            "-10\n",
            "-10\n",
            "-10\n",
            "-10\n",
            "-10\n",
            "-10\n",
            "-10\n",
            "-10\n",
            "-10\n",
            "-10\n",
            "-10\n",
            "-10\n",
            "-10\n",
            "-10\n",
            "-10\n",
            "-10\n",
            "-10\n",
            "-10\n",
            "-10\n",
            "-10\n",
            "-10\n",
            "-10\n",
            "-10\n",
            "-10\n",
            "-10\n",
            "-10\n",
            "-10\n",
            "-10\n",
            "-10\n",
            "-10\n",
            "-10\n",
            "-10\n",
            "-10\n",
            "-10\n",
            "-10\n",
            "-10\n",
            "-10\n",
            "-10\n",
            "-10\n",
            "-10\n",
            "-10\n",
            "-10\n",
            "-10\n",
            "-10\n",
            "-10\n",
            "-10\n",
            "-10\n",
            "-10\n",
            "-10\n",
            "-10\n",
            "-10\n",
            "-10\n",
            "-10\n",
            "-10\n",
            "-10\n",
            "-10\n",
            "-10\n",
            "-10\n",
            "-10\n",
            "-10\n",
            "-10\n",
            "-10\n",
            "-10\n",
            "-10\n",
            "-10\n",
            "-10\n",
            "-10\n",
            "-10\n",
            "-10\n",
            "-10\n",
            "-10\n",
            "-10\n",
            "-10\n",
            "-10\n",
            "-10\n",
            "-10\n",
            "-10\n",
            "-10\n",
            "-10\n",
            "-10\n",
            "-10\n",
            "-10\n",
            "-10\n",
            "-10\n",
            "-10\n",
            "-10\n",
            "-10\n",
            "-10\n",
            "-10\n",
            "-10\n",
            "-10\n",
            "-10\n",
            "-10\n",
            "-10\n",
            "-10\n",
            "-10\n",
            "-10\n",
            "-10\n",
            "-10\n",
            "-10\n",
            "-10\n",
            "-10\n",
            "-10\n",
            "-10\n",
            "-10\n",
            "-10\n",
            "-10\n",
            "-10\n",
            "-10\n",
            "-10\n",
            "-10\n",
            "-10\n",
            "-10\n",
            "-10\n",
            "-10\n",
            "-10\n",
            "-10\n",
            "-10\n",
            "-10\n",
            "-10\n",
            "-10\n",
            "-10\n",
            "-10\n",
            "-10\n",
            "-10\n",
            "-10\n",
            "-10\n",
            "-10\n",
            "-10\n",
            "-10\n",
            "-10\n",
            "-10\n",
            "-10\n",
            "-10\n",
            "-10\n",
            "-10\n",
            "-10\n",
            "-10\n",
            "-10\n",
            "-10\n",
            "-10\n",
            "-10\n",
            "-10\n",
            "-10\n",
            "-10\n",
            "-10\n",
            "-10\n",
            "-10\n",
            "-10\n",
            "-10\n",
            "-10\n",
            "-10\n",
            "-10\n",
            "-10\n",
            "-10\n",
            "-10\n",
            "-10\n",
            "-10\n",
            "-10\n",
            "-10\n",
            "-10\n",
            "-10\n",
            "-10\n",
            "-10\n",
            "-10\n",
            "-10\n",
            "-10\n",
            "-10\n",
            "-10\n",
            "-10\n",
            "-10\n",
            "-10\n",
            "-10\n",
            "-10\n",
            "-10\n",
            "-10\n",
            "-10\n",
            "-10\n",
            "-10\n",
            "-10\n",
            "-10\n",
            "-10\n",
            "-10\n",
            "-10\n",
            "-10\n",
            "-10\n",
            "-10\n",
            "-10\n",
            "-10\n",
            "-10\n",
            "-10\n",
            "-10\n",
            "-10\n",
            "-10\n",
            "-10\n",
            "-10\n",
            "-10\n",
            "-10\n",
            "-10\n",
            "-10\n",
            "-10\n",
            "-10\n",
            "-10\n",
            "-10\n",
            "-10\n",
            "-10\n",
            "-10\n",
            "-10\n",
            "-10\n",
            "-10\n",
            "-10\n",
            "-10\n",
            "-10\n",
            "-10\n",
            "-10\n",
            "-10\n",
            "-10\n",
            "-10\n",
            "-10\n",
            "-10\n",
            "-10\n",
            "-10\n",
            "-10\n",
            "-10\n",
            "-10\n",
            "-10\n",
            "-10\n",
            "-10\n",
            "-10\n",
            "-10\n",
            "-10\n",
            "-10\n",
            "-10\n",
            "-10\n",
            "-10\n",
            "-10\n",
            "-10\n",
            "-10\n",
            "-10\n",
            "-10\n",
            "-10\n",
            "-10\n",
            "-10\n",
            "-10\n",
            "-10\n",
            "-10\n",
            "-10\n",
            "-10\n",
            "-10\n",
            "-10\n",
            "-10\n",
            "-10\n",
            "-10\n",
            "-10\n",
            "-10\n",
            "-10\n",
            "-10\n",
            "-10\n",
            "-10\n",
            "-10\n",
            "-10\n",
            "-10\n",
            "-10\n",
            "-10\n",
            "-10\n",
            "-10\n",
            "-10\n",
            "-10\n",
            "-10\n",
            "-10\n",
            "-10\n",
            "-10\n",
            "-10\n",
            "-10\n",
            "-10\n",
            "-10\n",
            "-10\n",
            "-10\n",
            "-10\n",
            "-10\n",
            "-10\n",
            "-10\n",
            "-10\n",
            "-10\n",
            "-10\n",
            "-10\n",
            "-10\n",
            "-10\n",
            "-10\n",
            "-10\n",
            "-10\n",
            "-10\n",
            "-10\n",
            "-10\n",
            "-10\n",
            "-10\n",
            "-10\n",
            "-10\n",
            "-10\n",
            "-10\n",
            "-10\n",
            "-10\n",
            "-10\n",
            "-10\n",
            "-10\n",
            "-10\n",
            "-10\n",
            "-10\n",
            "-10\n",
            "-10\n",
            "-10\n",
            "-10\n",
            "-10\n",
            "-10\n",
            "-10\n",
            "-10\n",
            "-10\n",
            "-10\n",
            "-10\n",
            "-10\n",
            "-10\n",
            "-10\n",
            "-10\n",
            "-10\n",
            "-10\n",
            "-10\n",
            "-10\n",
            "-10\n",
            "-10\n",
            "-10\n",
            "-10\n",
            "-10\n",
            "-10\n",
            "-10\n",
            "-10\n",
            "-10\n",
            "-10\n",
            "-10\n",
            "-10\n",
            "-10\n",
            "-10\n",
            "-10\n",
            "-10\n",
            "-10\n",
            "-10\n",
            "-10\n",
            "-10\n",
            "-10\n",
            "-10\n",
            "-10\n",
            "-10\n",
            "-10\n",
            "-10\n",
            "-10\n",
            "-10\n",
            "-10\n",
            "-10\n",
            "-10\n",
            "-10\n",
            "-10\n",
            "-10\n",
            "-10\n",
            "-10\n",
            "-10\n",
            "-10\n",
            "-10\n",
            "-10\n",
            "-10\n",
            "-10\n",
            "-10\n",
            "-10\n",
            "-10\n",
            "-10\n",
            "-10\n",
            "-10\n",
            "-10\n",
            "-10\n",
            "-10\n",
            "-10\n",
            "-10\n",
            "-10\n",
            "-10\n",
            "-10\n",
            "-10\n",
            "-10\n",
            "-10\n",
            "-10\n",
            "-10\n",
            "-10\n",
            "-10\n",
            "-10\n",
            "-10\n",
            "-10\n",
            "-10\n",
            "-10\n",
            "-10\n",
            "-10\n",
            "-10\n",
            "-10\n",
            "-10\n",
            "-10\n",
            "-10\n",
            "-10\n",
            "-10\n",
            "-10\n",
            "-10\n",
            "-10\n",
            "-10\n",
            "-10\n",
            "-10\n",
            "-10\n",
            "-10\n",
            "-10\n",
            "-10\n",
            "-10\n",
            "-10\n",
            "-10\n",
            "-10\n",
            "-10\n",
            "-10\n",
            "-10\n",
            "-10\n",
            "-10\n",
            "-10\n",
            "-10\n",
            "-10\n",
            "-10\n",
            "-10\n",
            "-10\n",
            "-10\n",
            "-10\n",
            "-10\n",
            "-10\n",
            "-10\n",
            "-10\n",
            "-10\n",
            "-10\n",
            "-10\n",
            "-10\n",
            "-10\n",
            "-10\n",
            "-10\n",
            "-10\n",
            "-10\n",
            "-10\n",
            "-10\n",
            "-10\n",
            "-10\n",
            "-10\n",
            "-10\n",
            "-10\n",
            "-10\n",
            "-10\n",
            "-10\n",
            "-10\n",
            "-10\n",
            "-10\n",
            "-10\n",
            "-10\n",
            "-10\n",
            "-10\n",
            "-10\n",
            "-10\n",
            "-10\n",
            "-10\n",
            "-10\n",
            "-10\n",
            "-10\n",
            "-10\n",
            "-10\n",
            "-10\n",
            "-10\n",
            "-10\n",
            "-10\n",
            "-10\n",
            "-10\n",
            "-10\n",
            "-10\n",
            "-10\n",
            "-10\n",
            "-10\n",
            "-10\n",
            "-10\n",
            "-10\n",
            "-10\n",
            "-10\n",
            "-10\n",
            "-10\n",
            "-10\n",
            "-10\n",
            "-10\n",
            "-10\n",
            "-10\n",
            "-10\n",
            "-10\n",
            "-10\n",
            "-10\n",
            "-10\n",
            "-10\n",
            "-10\n",
            "-10\n",
            "-10\n",
            "-10\n",
            "-10\n",
            "-10\n",
            "-10\n",
            "-10\n",
            "-10\n",
            "-10\n",
            "-10\n",
            "-10\n",
            "-10\n",
            "-10\n",
            "-10\n",
            "-10\n",
            "-10\n",
            "-10\n",
            "-10\n",
            "-10\n",
            "-10\n",
            "-10\n",
            "-10\n",
            "-10\n",
            "-10\n",
            "-10\n",
            "-10\n",
            "-10\n",
            "-10\n",
            "-10\n",
            "-10\n",
            "-10\n",
            "-10\n",
            "-10\n",
            "-10\n",
            "-10\n",
            "-10\n",
            "-10\n",
            "-10\n",
            "-10\n",
            "-10\n",
            "-10\n",
            "-10\n",
            "-10\n",
            "-10\n",
            "-10\n",
            "-10\n",
            "-10\n",
            "-10\n",
            "-10\n",
            "-10\n",
            "-10\n",
            "-10\n",
            "-10\n",
            "-10\n",
            "-10\n",
            "-10\n",
            "-10\n",
            "-10\n",
            "-10\n",
            "-10\n",
            "-10\n",
            "-10\n",
            "-10\n",
            "-10\n",
            "-10\n",
            "-10\n",
            "-10\n",
            "-10\n",
            "-10\n",
            "-10\n",
            "-10\n",
            "-10\n",
            "-10\n",
            "-10\n",
            "-10\n",
            "-10\n",
            "-10\n",
            "-10\n",
            "-10\n",
            "-10\n",
            "-10\n",
            "-10\n",
            "-10\n",
            "-10\n",
            "-10\n",
            "-10\n",
            "-10\n",
            "-10\n",
            "-10\n",
            "-10\n",
            "-10\n",
            "-10\n",
            "-10\n",
            "-10\n",
            "-10\n",
            "-10\n",
            "-10\n",
            "-10\n",
            "-10\n",
            "-10\n",
            "-10\n",
            "-10\n",
            "-10\n",
            "-10\n",
            "-10\n",
            "-10\n",
            "-10\n",
            "-10\n",
            "-10\n",
            "-10\n",
            "-10\n",
            "-10\n",
            "-10\n",
            "-10\n",
            "-10\n",
            "-10\n",
            "-10\n",
            "-10\n",
            "-10\n",
            "-10\n",
            "-10\n",
            "-10\n",
            "-10\n",
            "-10\n",
            "-10\n",
            "-10\n",
            "-10\n",
            "-10\n",
            "-10\n",
            "-10\n",
            "-10\n",
            "-10\n",
            "-10\n",
            "-10\n",
            "-10\n",
            "-10\n",
            "-10\n",
            "-10\n",
            "-10\n",
            "-10\n",
            "-10\n",
            "-10\n",
            "-10\n",
            "-10\n",
            "-10\n",
            "-10\n",
            "-10\n",
            "-10\n",
            "-10\n",
            "-10\n",
            "-10\n",
            "-10\n",
            "-10\n",
            "-10\n",
            "-10\n",
            "-10\n",
            "-10\n",
            "-10\n",
            "-10\n",
            "-10\n",
            "-10\n",
            "-10\n",
            "-10\n",
            "-10\n",
            "-10\n",
            "-10\n",
            "-10\n",
            "-10\n",
            "-10\n",
            "-10\n",
            "-10\n",
            "-10\n",
            "-10\n",
            "-10\n",
            "-10\n",
            "-10\n",
            "-10\n",
            "-10\n",
            "-10\n",
            "-10\n",
            "-10\n",
            "-10\n",
            "-10\n",
            "-10\n",
            "-10\n",
            "-10\n",
            "-10\n",
            "-10\n",
            "-10\n",
            "-10\n",
            "-10\n",
            "-10\n",
            "-10\n",
            "-10\n",
            "-10\n",
            "-10\n",
            "-10\n",
            "-10\n",
            "-10\n",
            "-10\n",
            "-10\n",
            "-10\n",
            "-10\n",
            "-10\n",
            "-10\n",
            "-10\n",
            "-10\n",
            "-10\n",
            "-10\n",
            "-10\n",
            "-10\n",
            "-10\n",
            "-10\n",
            "-10\n",
            "-10\n",
            "-10\n",
            "-10\n",
            "-10\n",
            "-10\n",
            "-10\n",
            "-10\n",
            "-10\n",
            "-10\n",
            "-10\n",
            "-10\n",
            "-10\n",
            "-10\n",
            "-10\n",
            "-10\n",
            "-10\n",
            "-10\n",
            "-10\n",
            "-10\n",
            "-10\n",
            "-10\n",
            "-10\n",
            "-10\n",
            "-10\n",
            "-10\n",
            "-10\n",
            "-10\n",
            "-10\n",
            "-10\n",
            "-10\n",
            "-10\n",
            "-10\n",
            "-10\n",
            "-10\n",
            "-10\n",
            "-10\n",
            "-10\n",
            "-10\n",
            "-10\n",
            "-10\n",
            "-10\n",
            "-10\n",
            "-10\n",
            "-10\n",
            "-10\n",
            "-10\n",
            "-10\n",
            "-10\n",
            "-10\n",
            "-10\n",
            "-10\n",
            "-10\n",
            "-10\n",
            "-10\n",
            "-10\n",
            "-10\n",
            "-10\n",
            "-10\n",
            "-10\n",
            "-10\n",
            "-10\n",
            "-10\n",
            "-10\n",
            "-10\n",
            "-10\n",
            "-10\n",
            "-10\n",
            "-10\n",
            "-10\n",
            "-10\n",
            "-10\n",
            "-10\n",
            "-10\n",
            "-10\n",
            "-10\n",
            "-10\n",
            "-10\n",
            "-10\n",
            "-10\n",
            "-10\n",
            "-10\n",
            "-10\n",
            "-10\n",
            "-10\n",
            "-10\n",
            "-10\n",
            "-10\n",
            "-10\n",
            "-10\n",
            "-10\n",
            "-10\n",
            "-10\n",
            "-10\n",
            "-10\n",
            "-10\n",
            "-10\n",
            "-10\n",
            "-10\n",
            "-10\n",
            "-10\n",
            "-10\n",
            "-10\n",
            "-10\n",
            "-10\n",
            "-10\n",
            "-10\n",
            "-10\n",
            "-10\n",
            "-10\n",
            "-10\n",
            "-10\n",
            "-10\n",
            "-10\n",
            "-10\n",
            "-10\n",
            "-10\n",
            "-10\n",
            "-10\n",
            "-10\n",
            "-10\n",
            "-10\n",
            "-10\n",
            "-10\n",
            "-10\n",
            "-10\n",
            "-10\n",
            "-10\n",
            "-10\n",
            "-10\n",
            "-10\n",
            "-10\n",
            "-10\n",
            "-10\n",
            "-10\n",
            "-10\n",
            "-10\n",
            "-10\n",
            "-10\n",
            "-10\n",
            "-10\n",
            "-10\n",
            "-10\n",
            "-10\n",
            "-10\n",
            "-10\n",
            "-10\n",
            "-10\n",
            "-10\n",
            "-10\n",
            "-10\n",
            "-10\n",
            "-10\n",
            "-10\n",
            "-10\n",
            "-10\n",
            "-10\n",
            "-10\n",
            "-10\n",
            "-10\n",
            "-10\n",
            "-10\n",
            "-10\n",
            "-10\n",
            "-10\n",
            "-10\n",
            "-10\n",
            "-10\n",
            "-10\n",
            "-10\n",
            "-10\n",
            "-10\n",
            "-10\n",
            "-10\n",
            "-10\n",
            "-10\n",
            "-10\n",
            "-10\n",
            "-10\n",
            "-10\n",
            "-10\n",
            "-10\n",
            "-10\n",
            "-10\n",
            "-10\n",
            "-10\n",
            "-10\n",
            "-10\n",
            "-10\n",
            "-10\n",
            "-10\n",
            "-10\n",
            "-10\n",
            "-10\n",
            "-10\n",
            "-10\n",
            "-10\n",
            "-10\n",
            "-10\n",
            "-10\n",
            "-10\n",
            "-10\n",
            "-10\n",
            "-10\n",
            "-10\n",
            "-10\n",
            "-10\n",
            "-10\n",
            "-10\n",
            "-10\n",
            "-10\n",
            "-10\n",
            "-10\n",
            "-10\n",
            "-10\n",
            "-10\n",
            "-10\n",
            "-10\n",
            "-10\n",
            "-10\n",
            "-10\n",
            "-10\n",
            "-10\n",
            "-10\n",
            "-10\n",
            "-10\n",
            "-10\n",
            "-10\n",
            "-10\n",
            "-10\n",
            "-10\n",
            "-10\n",
            "-10\n",
            "-10\n",
            "-10\n",
            "-10\n",
            "-10\n",
            "-10\n",
            "-10\n",
            "-10\n",
            "-10\n",
            "-10\n",
            "-10\n",
            "-10\n",
            "-10\n",
            "-10\n",
            "-10\n",
            "-10\n",
            "-10\n",
            "-10\n",
            "-10\n",
            "-10\n",
            "-10\n",
            "-10\n",
            "-10\n",
            "-10\n",
            "-10\n",
            "-10\n",
            "-10\n",
            "-10\n",
            "-10\n",
            "-10\n",
            "-10\n",
            "-10\n",
            "-10\n",
            "-10\n",
            "-10\n",
            "-10\n",
            "-10\n",
            "-10\n",
            "-10\n",
            "-10\n",
            "-10\n",
            "-10\n",
            "-10\n",
            "-10\n",
            "-10\n",
            "-10\n",
            "-10\n",
            "-10\n",
            "-10\n",
            "-10\n",
            "-10\n",
            "-10\n",
            "-10\n",
            "-10\n",
            "-10\n",
            "-10\n",
            "-10\n",
            "-10\n",
            "-10\n",
            "-10\n",
            "-10\n",
            "-10\n",
            "-10\n",
            "-10\n",
            "-10\n",
            "-10\n",
            "-10\n",
            "-10\n",
            "-10\n",
            "-10\n",
            "-10\n",
            "-10\n",
            "-10\n",
            "-10\n",
            "-10\n",
            "-10\n",
            "-10\n",
            "-10\n",
            "-10\n",
            "-10\n",
            "-10\n",
            "-10\n",
            "-10\n",
            "-10\n",
            "-10\n",
            "-10\n",
            "-10\n",
            "-10\n",
            "-10\n",
            "-10\n",
            "-10\n",
            "-10\n",
            "-10\n",
            "-10\n",
            "-10\n",
            "-10\n",
            "-10\n",
            "-10\n",
            "-10\n",
            "-10\n",
            "-10\n",
            "-10\n",
            "-10\n",
            "-10\n",
            "-10\n",
            "-10\n",
            "-10\n",
            "-10\n",
            "-10\n",
            "-10\n",
            "-10\n",
            "-10\n",
            "-10\n",
            "-10\n",
            "-10\n",
            "-10\n",
            "-10\n",
            "-10\n",
            "-10\n",
            "-10\n",
            "-10\n",
            "-10\n",
            "-10\n",
            "-10\n",
            "-10\n",
            "-10\n",
            "-10\n",
            "-10\n",
            "-10\n",
            "-10\n",
            "-10\n",
            "-10\n",
            "-10\n",
            "-10\n",
            "-10\n",
            "-10\n",
            "-10\n",
            "-10\n",
            "-10\n",
            "-10\n",
            "-10\n",
            "-10\n",
            "-10\n",
            "-10\n",
            "-10\n",
            "-10\n",
            "-10\n",
            "-10\n",
            "-10\n",
            "-10\n",
            "-10\n",
            "-10\n",
            "-10\n",
            "-10\n",
            "-10\n",
            "-10\n",
            "-10\n",
            "-10\n",
            "-10\n",
            "-10\n",
            "-10\n",
            "-10\n",
            "-10\n",
            "-10\n",
            "-10\n",
            "-10\n",
            "-10\n",
            "-10\n",
            "-10\n",
            "-10\n",
            "-10\n",
            "-10\n",
            "-10\n",
            "-10\n",
            "-10\n",
            "-10\n",
            "-10\n",
            "-10\n",
            "-10\n",
            "-10\n",
            "-10\n",
            "-10\n",
            "-10\n",
            "-10\n",
            "-10\n",
            "-10\n",
            "-10\n",
            "-10\n",
            "-10\n",
            "-10\n",
            "-10\n",
            "-10\n",
            "-10\n",
            "-10\n",
            "-10\n",
            "-10\n",
            "-10\n",
            "-10\n",
            "-10\n",
            "-10\n",
            "-10\n",
            "-10\n",
            "-10\n",
            "-10\n",
            "-10\n",
            "-10\n",
            "-10\n",
            "-10\n",
            "-10\n",
            "-10\n",
            "-10\n",
            "-10\n",
            "-10\n",
            "-10\n",
            "-10\n",
            "-10\n",
            "-10\n",
            "-10\n",
            "-10\n",
            "-10\n",
            "-10\n",
            "-10\n",
            "-10\n",
            "-10\n",
            "-10\n",
            "-10\n",
            "-10\n",
            "-10\n",
            "-10\n",
            "-10\n",
            "-10\n",
            "-10\n",
            "-10\n",
            "-10\n",
            "-10\n",
            "-10\n",
            "-10\n",
            "-10\n",
            "-10\n",
            "-10\n",
            "-10\n",
            "-10\n",
            "-10\n",
            "-10\n",
            "-10\n",
            "-10\n",
            "-10\n",
            "-10\n",
            "-10\n",
            "-10\n",
            "-10\n",
            "-10\n",
            "-10\n",
            "-10\n",
            "-10\n",
            "-10\n",
            "-10\n",
            "-10\n",
            "-10\n",
            "-10\n",
            "-10\n",
            "-10\n",
            "-10\n",
            "-10\n",
            "-10\n",
            "-10\n",
            "-10\n",
            "-10\n",
            "-10\n",
            "-10\n",
            "-10\n",
            "-10\n",
            "-10\n",
            "-10\n",
            "-10\n",
            "-10\n",
            "-10\n",
            "-10\n",
            "-10\n",
            "-10\n",
            "-10\n",
            "-10\n",
            "-10\n",
            "-10\n",
            "-10\n",
            "-10\n",
            "-10\n",
            "-10\n",
            "-10\n",
            "-10\n",
            "-10\n",
            "-10\n",
            "-10\n",
            "-10\n",
            "-10\n",
            "-10\n",
            "-10\n",
            "-10\n",
            "-10\n",
            "-10\n",
            "-10\n",
            "-10\n",
            "-10\n",
            "-10\n",
            "-10\n",
            "-10\n",
            "-10\n",
            "-10\n",
            "-10\n",
            "-10\n",
            "-10\n",
            "-10\n",
            "-10\n",
            "-10\n",
            "-10\n",
            "-10\n",
            "-10\n",
            "-10\n",
            "-10\n",
            "-10\n",
            "-10\n",
            "-10\n",
            "-10\n",
            "-10\n",
            "-10\n",
            "-10\n",
            "-10\n",
            "-10\n",
            "-10\n",
            "-10\n",
            "-10\n",
            "-10\n",
            "-10\n",
            "-10\n",
            "-10\n",
            "-10\n",
            "-10\n",
            "-10\n",
            "-10\n",
            "-10\n",
            "-10\n",
            "-10\n",
            "-10\n",
            "-10\n",
            "-10\n",
            "-10\n",
            "-10\n",
            "-10\n",
            "-10\n",
            "-10\n",
            "-10\n",
            "-10\n",
            "-10\n",
            "-10\n",
            "-10\n",
            "-10\n",
            "-10\n",
            "-10\n",
            "-10\n",
            "-10\n",
            "-10\n",
            "-10\n",
            "-10\n",
            "-10\n",
            "-10\n",
            "-10\n",
            "-10\n",
            "-10\n",
            "-10\n",
            "-10\n",
            "-10\n",
            "-10\n",
            "-10\n",
            "-10\n",
            "-10\n",
            "-10\n",
            "-10\n",
            "-10\n",
            "-10\n",
            "-10\n",
            "-10\n",
            "-10\n",
            "-10\n",
            "-10\n",
            "-10\n",
            "-10\n",
            "-10\n",
            "-10\n",
            "-10\n",
            "-10\n",
            "-10\n",
            "-10\n",
            "-10\n",
            "-10\n",
            "-10\n",
            "-10\n",
            "-10\n",
            "-10\n",
            "-10\n",
            "-10\n",
            "-10\n",
            "-10\n",
            "-10\n",
            "-10\n",
            "-10\n",
            "-10\n",
            "-10\n",
            "-10\n",
            "-10\n",
            "-10\n",
            "-10\n",
            "-10\n",
            "-10\n",
            "-10\n",
            "-10\n",
            "-10\n",
            "-10\n",
            "-10\n",
            "-10\n",
            "-10\n",
            "-10\n",
            "-10\n",
            "-10\n",
            "-10\n",
            "-10\n",
            "-10\n",
            "-10\n",
            "-10\n",
            "-10\n",
            "-10\n",
            "-10\n",
            "-10\n",
            "-10\n",
            "-10\n",
            "-10\n",
            "-10\n",
            "-10\n",
            "-10\n",
            "-10\n",
            "-10\n",
            "-10\n",
            "-10\n",
            "-10\n",
            "-10\n",
            "-10\n",
            "-10\n",
            "-10\n",
            "-10\n",
            "-10\n",
            "-10\n",
            "-10\n",
            "-10\n",
            "-10\n",
            "-10\n",
            "-10\n",
            "-10\n",
            "-10\n",
            "-10\n",
            "-10\n",
            "-10\n",
            "-10\n",
            "-10\n",
            "-10\n",
            "-10\n",
            "-10\n",
            "-10\n",
            "-10\n",
            "-10\n",
            "-10\n",
            "-10\n",
            "-10\n",
            "-10\n",
            "-10\n",
            "-10\n",
            "-10\n",
            "-10\n",
            "-10\n",
            "-10\n",
            "-10\n",
            "-10\n",
            "-10\n",
            "-10\n",
            "-10\n",
            "-10\n",
            "-10\n",
            "-10\n",
            "-10\n",
            "-10\n",
            "-10\n",
            "-10\n",
            "-10\n",
            "-10\n",
            "-10\n",
            "-10\n",
            "-10\n",
            "-10\n",
            "-10\n",
            "-10\n",
            "-10\n",
            "-10\n",
            "-10\n",
            "-10\n",
            "-10\n",
            "-10\n",
            "-10\n",
            "-10\n",
            "-10\n",
            "-10\n",
            "-10\n",
            "-10\n",
            "-10\n",
            "-10\n",
            "-10\n",
            "-10\n",
            "-10\n",
            "-10\n",
            "-10\n",
            "-10\n",
            "-10\n",
            "-10\n",
            "-10\n",
            "-10\n",
            "-10\n",
            "-10\n",
            "-10\n",
            "-10\n",
            "-10\n",
            "-10\n",
            "-10\n",
            "-10\n",
            "-10\n",
            "-10\n",
            "-10\n",
            "-10\n",
            "-10\n",
            "-10\n",
            "-10\n",
            "-10\n",
            "-10\n",
            "-10\n",
            "-10\n",
            "-10\n",
            "-10\n",
            "-10\n",
            "-10\n",
            "-10\n",
            "-10\n",
            "-10\n",
            "-10\n",
            "-10\n",
            "-10\n",
            "-10\n",
            "-10\n",
            "-10\n",
            "-10\n",
            "-10\n",
            "-10\n",
            "-10\n",
            "-10\n",
            "-10\n",
            "-10\n",
            "-10\n",
            "-10\n",
            "-10\n",
            "-10\n",
            "-10\n",
            "-10\n",
            "-10\n",
            "-10\n",
            "-10\n",
            "-10\n",
            "-10\n",
            "-10\n",
            "-10\n",
            "-10\n",
            "-10\n",
            "-10\n",
            "-10\n",
            "-10\n",
            "-10\n",
            "-10\n",
            "-10\n",
            "-10\n",
            "-10\n",
            "-10\n",
            "-10\n",
            "-10\n",
            "-10\n",
            "-10\n",
            "-10\n",
            "-10\n",
            "-10\n",
            "-10\n",
            "-10\n",
            "-10\n",
            "-10\n",
            "-10\n",
            "-10\n",
            "-10\n",
            "-10\n",
            "-10\n",
            "-10\n",
            "-10\n",
            "-10\n",
            "-10\n",
            "-10\n",
            "-10\n",
            "-10\n",
            "-10\n",
            "-10\n",
            "-10\n",
            "-10\n",
            "-10\n",
            "-10\n",
            "-10\n",
            "-10\n",
            "-10\n",
            "-10\n",
            "-10\n",
            "-10\n",
            "-10\n",
            "-10\n",
            "-10\n",
            "-10\n",
            "-10\n",
            "-10\n",
            "-10\n",
            "-10\n",
            "-10\n",
            "-10\n",
            "-10\n",
            "-10\n",
            "-10\n",
            "-10\n",
            "-10\n",
            "-10\n",
            "-10\n",
            "-10\n",
            "-10\n",
            "-10\n",
            "-10\n",
            "-10\n",
            "-10\n",
            "-10\n",
            "-10\n",
            "-10\n",
            "-10\n",
            "-10\n",
            "-10\n",
            "-10\n",
            "-10\n",
            "-10\n",
            "-10\n",
            "-10\n",
            "-10\n",
            "-10\n",
            "-10\n",
            "-10\n",
            "-10\n",
            "-10\n",
            "-10\n",
            "-10\n",
            "-10\n",
            "-10\n",
            "-10\n",
            "-10\n",
            "-10\n",
            "-10\n",
            "-10\n",
            "-10\n",
            "-10\n",
            "-10\n",
            "-10\n",
            "-10\n",
            "-10\n",
            "-10\n",
            "-10\n",
            "-10\n",
            "-10\n",
            "-10\n",
            "-10\n",
            "-10\n",
            "-10\n",
            "-10\n",
            "-10\n",
            "-10\n",
            "-10\n",
            "-10\n",
            "-10\n",
            "-10\n",
            "-10\n",
            "-10\n",
            "-10\n",
            "-10\n",
            "-10\n",
            "-10\n",
            "-10\n",
            "-10\n",
            "-10\n",
            "-10\n",
            "-10\n",
            "-10\n",
            "-10\n",
            "-10\n",
            "-10\n",
            "-10\n",
            "-10\n",
            "-10\n",
            "-10\n",
            "-10\n",
            "-10\n",
            "-10\n",
            "-10\n",
            "-10\n",
            "-10\n",
            "-10\n",
            "-10\n",
            "-10\n",
            "-10\n",
            "-10\n",
            "-10\n",
            "-10\n",
            "-10\n",
            "-10\n",
            "-10\n",
            "-10\n",
            "-10\n",
            "-10\n",
            "-10\n",
            "-10\n",
            "-10\n",
            "-10\n",
            "-10\n",
            "-10\n",
            "-10\n",
            "-10\n",
            "-10\n",
            "-10\n",
            "-10\n",
            "-10\n",
            "-10\n",
            "-10\n",
            "-10\n",
            "-10\n",
            "-10\n",
            "-10\n",
            "-10\n",
            "-10\n",
            "-10\n",
            "-10\n",
            "-10\n",
            "-10\n",
            "-10\n",
            "-10\n",
            "-10\n",
            "-10\n",
            "-10\n",
            "-10\n",
            "-10\n",
            "-10\n",
            "-10\n",
            "-10\n",
            "-10\n",
            "-10\n",
            "-10\n",
            "-10\n",
            "-10\n",
            "-10\n",
            "-10\n",
            "-10\n",
            "-10\n",
            "-10\n",
            "-10\n",
            "-10\n",
            "-10\n",
            "-10\n",
            "-10\n",
            "-10\n",
            "-10\n",
            "-10\n",
            "-10\n",
            "-10\n",
            "-10\n",
            "-10\n",
            "-10\n",
            "-10\n",
            "-10\n",
            "-10\n",
            "-10\n",
            "-10\n",
            "-10\n",
            "-10\n",
            "-10\n",
            "-10\n",
            "-10\n",
            "-10\n",
            "-10\n",
            "-10\n",
            "-10\n",
            "-10\n",
            "-10\n",
            "-10\n",
            "-10\n",
            "-10\n",
            "-10\n",
            "-10\n",
            "-10\n",
            "-10\n",
            "-10\n",
            "-10\n",
            "-10\n",
            "-10\n",
            "-10\n",
            "-10\n",
            "-10\n",
            "-10\n",
            "-10\n",
            "-10\n",
            "-10\n",
            "-10\n",
            "-10\n",
            "-10\n",
            "-10\n",
            "-10\n",
            "-10\n",
            "-10\n",
            "-10\n",
            "-10\n",
            "-10\n",
            "-10\n",
            "-10\n",
            "-10\n",
            "-10\n",
            "-10\n",
            "-10\n",
            "-10\n",
            "-10\n",
            "-10\n",
            "-10\n",
            "-10\n",
            "-10\n",
            "-10\n",
            "-10\n",
            "-10\n",
            "-10\n",
            "-10\n",
            "-10\n",
            "-10\n",
            "-10\n",
            "-10\n",
            "-10\n",
            "-10\n",
            "-10\n",
            "-10\n",
            "-10\n",
            "-10\n",
            "-10\n",
            "-10\n",
            "-10\n",
            "-10\n",
            "-10\n",
            "-10\n",
            "-10\n",
            "-10\n",
            "-10\n",
            "-10\n",
            "-10\n",
            "-10\n",
            "-10\n",
            "-10\n",
            "-10\n",
            "-10\n",
            "-10\n",
            "-10\n",
            "-10\n",
            "-10\n",
            "-10\n",
            "-10\n",
            "-10\n",
            "-10\n",
            "-10\n",
            "-10\n",
            "-10\n",
            "-10\n",
            "-10\n",
            "-10\n",
            "-10\n",
            "-10\n",
            "-10\n",
            "-10\n",
            "-10\n",
            "-10\n",
            "-10\n",
            "-10\n",
            "-10\n",
            "-10\n",
            "-10\n",
            "-10\n",
            "-10\n",
            "-10\n",
            "-10\n",
            "-10\n",
            "-10\n",
            "-10\n",
            "-10\n",
            "-10\n",
            "-10\n",
            "-10\n",
            "-10\n",
            "-10\n",
            "-10\n",
            "-10\n",
            "-10\n",
            "-10\n",
            "-10\n",
            "-10\n",
            "-10\n",
            "-10\n",
            "-10\n",
            "-10\n",
            "-10\n",
            "-10\n",
            "-10\n",
            "-10\n",
            "-10\n",
            "-10\n",
            "-10\n",
            "-10\n",
            "-10\n",
            "-10\n",
            "-10\n",
            "-10\n",
            "-10\n",
            "-10\n",
            "-10\n",
            "-10\n",
            "-10\n",
            "-10\n",
            "-10\n",
            "-10\n",
            "-10\n",
            "-10\n",
            "-10\n",
            "-10\n",
            "-10\n",
            "-10\n",
            "-10\n",
            "-10\n",
            "-10\n",
            "-10\n",
            "-10\n",
            "-10\n",
            "-10\n",
            "-10\n",
            "-10\n",
            "-10\n",
            "-10\n",
            "-10\n",
            "-10\n",
            "-10\n",
            "-10\n",
            "-10\n",
            "-10\n",
            "-10\n",
            "-10\n",
            "-10\n",
            "-10\n",
            "-10\n",
            "-10\n",
            "-10\n",
            "-10\n",
            "-10\n",
            "-10\n",
            "-10\n",
            "-10\n",
            "-10\n",
            "-10\n",
            "-10\n",
            "-10\n",
            "-10\n",
            "-10\n",
            "-10\n",
            "-10\n",
            "-10\n",
            "-10\n",
            "-10\n",
            "-10\n",
            "-10\n",
            "-10\n",
            "-10\n",
            "-10\n",
            "-10\n",
            "-10\n",
            "-10\n",
            "-10\n",
            "-10\n",
            "-10\n",
            "-10\n",
            "-10\n",
            "-10\n",
            "-10\n",
            "-10\n",
            "-10\n",
            "-10\n",
            "-10\n",
            "-10\n",
            "-10\n",
            "-10\n",
            "-10\n",
            "-10\n",
            "-10\n",
            "-10\n",
            "-10\n",
            "-10\n",
            "-10\n",
            "-10\n",
            "-10\n",
            "-10\n",
            "-10\n",
            "-10\n",
            "-10\n",
            "-10\n",
            "-10\n",
            "-10\n",
            "-10\n",
            "-10\n",
            "-10\n",
            "-10\n",
            "-10\n",
            "-10\n",
            "-10\n",
            "-10\n",
            "-10\n",
            "-10\n",
            "-10\n",
            "-10\n",
            "-10\n",
            "-10\n",
            "-10\n",
            "-10\n",
            "-10\n",
            "-10\n",
            "-10\n",
            "-10\n",
            "-10\n",
            "-10\n",
            "-10\n",
            "-10\n",
            "-10\n",
            "-10\n",
            "-10\n",
            "-10\n",
            "-10\n",
            "-10\n",
            "-10\n",
            "-10\n",
            "-10\n",
            "-10\n",
            "-10\n",
            "-10\n",
            "-10\n",
            "-10\n",
            "-10\n",
            "-10\n",
            "-10\n",
            "-10\n",
            "-10\n",
            "-10\n",
            "-10\n",
            "-10\n",
            "-10\n",
            "-10\n",
            "-10\n",
            "-10\n",
            "-10\n",
            "-10\n",
            "-10\n",
            "-10\n",
            "-10\n",
            "-10\n",
            "-10\n",
            "-10\n",
            "-10\n",
            "-10\n",
            "-10\n",
            "-10\n",
            "-10\n",
            "-10\n",
            "-10\n",
            "-10\n",
            "-10\n",
            "-10\n",
            "-10\n",
            "-10\n",
            "-10\n",
            "-10\n",
            "-10\n",
            "-10\n",
            "-10\n",
            "-10\n",
            "-10\n",
            "-10\n",
            "-10\n",
            "-10\n",
            "-10\n",
            "-10\n",
            "-10\n",
            "-10\n",
            "-10\n",
            "-10\n",
            "-10\n",
            "-10\n",
            "-10\n",
            "-10\n",
            "-10\n",
            "-10\n",
            "-10\n",
            "-10\n",
            "-10\n",
            "-10\n",
            "-10\n",
            "-10\n",
            "-10\n",
            "-10\n",
            "-10\n",
            "-10\n",
            "-10\n",
            "-10\n",
            "-10\n",
            "-10\n",
            "-10\n",
            "-10\n",
            "-10\n",
            "-10\n",
            "-10\n",
            "-10\n",
            "-10\n",
            "-10\n",
            "-10\n",
            "-10\n",
            "-10\n",
            "-10\n",
            "-10\n",
            "-10\n",
            "-10\n",
            "-10\n",
            "-10\n",
            "-10\n",
            "-10\n",
            "-10\n",
            "-10\n",
            "-10\n",
            "-10\n",
            "-10\n",
            "-10\n",
            "-10\n",
            "-10\n",
            "-10\n",
            "-10\n",
            "-10\n",
            "-10\n",
            "-10\n",
            "-10\n",
            "-10\n",
            "-10\n",
            "-10\n",
            "-10\n",
            "-10\n",
            "-10\n",
            "-10\n",
            "-10\n",
            "-10\n",
            "-10\n",
            "-10\n",
            "-10\n",
            "-10\n",
            "-10\n",
            "-10\n",
            "-10\n",
            "-10\n",
            "-10\n",
            "-10\n",
            "-10\n",
            "-10\n",
            "-10\n",
            "-10\n",
            "-10\n",
            "-10\n",
            "-10\n",
            "-10\n",
            "-10\n",
            "-10\n",
            "-10\n",
            "-10\n",
            "-10\n",
            "-10\n",
            "-10\n",
            "-10\n",
            "-10\n",
            "-10\n",
            "-10\n",
            "-10\n",
            "-10\n",
            "-10\n",
            "-10\n",
            "-10\n",
            "-10\n",
            "-10\n",
            "-10\n",
            "-10\n",
            "-10\n",
            "-10\n",
            "-10\n",
            "-10\n",
            "-10\n",
            "-10\n",
            "-10\n",
            "-10\n",
            "-10\n",
            "-10\n",
            "-10\n",
            "-10\n",
            "-10\n",
            "-10\n",
            "-10\n",
            "-10\n",
            "-10\n",
            "-10\n",
            "-10\n",
            "-10\n",
            "-10\n",
            "-10\n",
            "-10\n",
            "-10\n",
            "-10\n",
            "-10\n",
            "-10\n",
            "-10\n",
            "-10\n",
            "-10\n",
            "-10\n",
            "-10\n",
            "-10\n",
            "-10\n",
            "-10\n",
            "-10\n",
            "-10\n",
            "-10\n",
            "-10\n",
            "-10\n",
            "-10\n",
            "-10\n",
            "-10\n",
            "-10\n",
            "-10\n",
            "-10\n",
            "-10\n",
            "-10\n",
            "-10\n",
            "-10\n",
            "-10\n",
            "-10\n",
            "-10\n",
            "-10\n",
            "-10\n",
            "-10\n",
            "-10\n",
            "-10\n",
            "-10\n",
            "-10\n",
            "-10\n",
            "-10\n",
            "-10\n",
            "-10\n",
            "-10\n",
            "-10\n",
            "-10\n",
            "-10\n",
            "-10\n",
            "-10\n",
            "-10\n",
            "-10\n",
            "-10\n",
            "-10\n",
            "-10\n",
            "-10\n",
            "-10\n",
            "-10\n",
            "-10\n",
            "-10\n",
            "-10\n",
            "-10\n",
            "-10\n",
            "-10\n",
            "-10\n",
            "-10\n",
            "-10\n",
            "-10\n",
            "-10\n",
            "-10\n",
            "-10\n",
            "-10\n",
            "-10\n",
            "-10\n",
            "-10\n",
            "-10\n",
            "-10\n",
            "-10\n",
            "-10\n",
            "-10\n",
            "-10\n",
            "-10\n",
            "-10\n",
            "-10\n",
            "-10\n",
            "-10\n",
            "-10\n",
            "-10\n",
            "-10\n",
            "-10\n",
            "-10\n",
            "-10\n",
            "-10\n",
            "-10\n",
            "-10\n",
            "-10\n",
            "-10\n",
            "-10\n",
            "-10\n",
            "-10\n",
            "-10\n",
            "-10\n",
            "-10\n",
            "-10\n",
            "-10\n",
            "-10\n",
            "-10\n",
            "-10\n",
            "-10\n",
            "-10\n",
            "-10\n",
            "-10\n",
            "-10\n",
            "-10\n",
            "-10\n",
            "-10\n",
            "-10\n",
            "-10\n",
            "-10\n",
            "-10\n",
            "-10\n",
            "-10\n",
            "-10\n",
            "-10\n",
            "-10\n",
            "-10\n",
            "-10\n",
            "-10\n",
            "-10\n",
            "-10\n",
            "-10\n",
            "-10\n",
            "-10\n",
            "-10\n",
            "-10\n",
            "-10\n",
            "-10\n",
            "-10\n",
            "-10\n",
            "-10\n",
            "-10\n",
            "-10\n",
            "-10\n",
            "-10\n",
            "-10\n",
            "-10\n",
            "-10\n",
            "-10\n",
            "-10\n",
            "-10\n",
            "-10\n",
            "-10\n",
            "-10\n",
            "-10\n",
            "-10\n",
            "-10\n",
            "-10\n",
            "-10\n",
            "-10\n",
            "-10\n",
            "-10\n",
            "-10\n",
            "-10\n",
            "-10\n",
            "-10\n",
            "-10\n",
            "-10\n",
            "-10\n",
            "-10\n",
            "-10\n",
            "-10\n",
            "-10\n",
            "-10\n",
            "-10\n",
            "-10\n",
            "-10\n",
            "-10\n",
            "-10\n",
            "-10\n",
            "-10\n",
            "-10\n",
            "-10\n",
            "-10\n",
            "-10\n",
            "-10\n",
            "-10\n",
            "-10\n",
            "-10\n",
            "-10\n",
            "-10\n",
            "-10\n",
            "-10\n",
            "-10\n",
            "-10\n",
            "-10\n",
            "-10\n",
            "-10\n",
            "-10\n",
            "-10\n",
            "-10\n",
            "-10\n",
            "-10\n",
            "-10\n",
            "-10\n",
            "-10\n",
            "-10"
          ]
        },
        {
          "output_type": "stream",
          "name": "stderr",
          "text": [
            "ERROR:root:Internal Python error in the inspect module.\n",
            "Below is the traceback from this internal error.\n",
            "\n"
          ]
        },
        {
          "output_type": "stream",
          "name": "stdout",
          "text": [
            "Traceback (most recent call last):\n",
            "  File \"/usr/local/lib/python3.10/dist-packages/IPython/core/interactiveshell.py\", line 3553, in run_code\n",
            "    exec(code_obj, self.user_global_ns, self.user_ns)\n",
            "  File \"<ipython-input-1-f2a47a07aa60>\", line 20, in <cell line: 15>\n",
            "    subt(A,B)\n",
            "  File \"<ipython-input-1-f2a47a07aa60>\", line 4, in subt\n",
            "    print(X-Y)\n",
            "  File \"/usr/local/lib/python3.10/dist-packages/ipykernel/iostream.py\", line 402, in write\n",
            "    self.pub_thread.schedule(lambda : self._buffer.write(string))\n",
            "  File \"/usr/local/lib/python3.10/dist-packages/ipykernel/iostream.py\", line 203, in schedule\n",
            "    self._event_pipe.send(b'')\n",
            "  File \"/usr/local/lib/python3.10/dist-packages/zmq/sugar/socket.py\", line 620, in send\n",
            "    return super().send(data, flags=flags, copy=copy, track=track)\n",
            "  File \"zmq/backend/cython/socket.pyx\", line 746, in zmq.backend.cython.socket.Socket.send\n",
            "  File \"zmq/backend/cython/socket.pyx\", line 793, in zmq.backend.cython.socket.Socket.send\n",
            "  File \"zmq/backend/cython/socket.pyx\", line 250, in zmq.backend.cython.socket._send_copy\n",
            "  File \"zmq/backend/cython/checkrc.pxd\", line 13, in zmq.backend.cython.checkrc._check_rc\n",
            "KeyboardInterrupt\n",
            "\n",
            "During handling of the above exception, another exception occurred:\n",
            "\n",
            "Traceback (most recent call last):\n",
            "  File \"/usr/local/lib/python3.10/dist-packages/IPython/core/interactiveshell.py\", line 2099, in showtraceback\n",
            "    stb = value._render_traceback_()\n",
            "AttributeError: 'KeyboardInterrupt' object has no attribute '_render_traceback_'\n",
            "\n",
            "During handling of the above exception, another exception occurred:\n",
            "\n",
            "Traceback (most recent call last):\n",
            "  File \"/usr/local/lib/python3.10/dist-packages/IPython/core/ultratb.py\", line 1101, in get_records\n",
            "    return _fixed_getinnerframes(etb, number_of_lines_of_context, tb_offset)\n",
            "  File \"/usr/local/lib/python3.10/dist-packages/IPython/core/ultratb.py\", line 248, in wrapped\n",
            "    return f(*args, **kwargs)\n",
            "  File \"/usr/local/lib/python3.10/dist-packages/IPython/core/ultratb.py\", line 281, in _fixed_getinnerframes\n",
            "    records = fix_frame_records_filenames(inspect.getinnerframes(etb, context))\n",
            "  File \"/usr/lib/python3.10/inspect.py\", line 1662, in getinnerframes\n",
            "    frameinfo = (tb.tb_frame,) + getframeinfo(tb, context)\n",
            "  File \"/usr/lib/python3.10/inspect.py\", line 1620, in getframeinfo\n",
            "    filename = getsourcefile(frame) or getfile(frame)\n",
            "  File \"/usr/lib/python3.10/inspect.py\", line 829, in getsourcefile\n",
            "    module = getmodule(object, filename)\n",
            "  File \"/usr/lib/python3.10/inspect.py\", line 875, in getmodule\n",
            "    f = getabsfile(module)\n",
            "  File \"/usr/lib/python3.10/inspect.py\", line 844, in getabsfile\n",
            "    _filename = getsourcefile(object) or getfile(object)\n",
            "  File \"/usr/lib/python3.10/inspect.py\", line 826, in getsourcefile\n",
            "    if os.path.exists(filename):\n",
            "  File \"/usr/lib/python3.10/genericpath.py\", line 19, in exists\n",
            "    os.stat(path)\n",
            "KeyboardInterrupt\n"
          ]
        },
        {
          "output_type": "error",
          "ename": "TypeError",
          "evalue": "object of type 'NoneType' has no len()",
          "traceback": [
            "\u001b[0;31m---------------------------------------------------------------------------\u001b[0m",
            "\u001b[0;31mKeyboardInterrupt\u001b[0m                         Traceback (most recent call last)",
            "    \u001b[0;31m[... skipping hidden 1 frame]\u001b[0m\n",
            "\u001b[0;32m<ipython-input-1-f2a47a07aa60>\u001b[0m in \u001b[0;36m<cell line: 15>\u001b[0;34m()\u001b[0m\n\u001b[1;32m     19\u001b[0m   \u001b[0;32melif\u001b[0m \u001b[0mchoice\u001b[0m \u001b[0;34m==\u001b[0m \u001b[0;36m2\u001b[0m\u001b[0;34m:\u001b[0m\u001b[0;34m\u001b[0m\u001b[0;34m\u001b[0m\u001b[0m\n\u001b[0;32m---> 20\u001b[0;31m     \u001b[0msubt\u001b[0m\u001b[0;34m(\u001b[0m\u001b[0mA\u001b[0m\u001b[0;34m,\u001b[0m\u001b[0mB\u001b[0m\u001b[0;34m)\u001b[0m\u001b[0;34m\u001b[0m\u001b[0;34m\u001b[0m\u001b[0m\n\u001b[0m\u001b[1;32m     21\u001b[0m   \u001b[0;32melif\u001b[0m \u001b[0mchoice\u001b[0m \u001b[0;34m==\u001b[0m \u001b[0;36m3\u001b[0m\u001b[0;34m:\u001b[0m\u001b[0;34m\u001b[0m\u001b[0;34m\u001b[0m\u001b[0m\n",
            "\u001b[0;32m<ipython-input-1-f2a47a07aa60>\u001b[0m in \u001b[0;36msubt\u001b[0;34m(X, Y)\u001b[0m\n\u001b[1;32m      3\u001b[0m \u001b[0;32mdef\u001b[0m \u001b[0msubt\u001b[0m\u001b[0;34m(\u001b[0m\u001b[0mX\u001b[0m\u001b[0;34m,\u001b[0m\u001b[0mY\u001b[0m\u001b[0;34m)\u001b[0m\u001b[0;34m:\u001b[0m\u001b[0;34m\u001b[0m\u001b[0;34m\u001b[0m\u001b[0m\n\u001b[0;32m----> 4\u001b[0;31m   \u001b[0mprint\u001b[0m\u001b[0;34m(\u001b[0m\u001b[0mX\u001b[0m\u001b[0;34m-\u001b[0m\u001b[0mY\u001b[0m\u001b[0;34m)\u001b[0m\u001b[0;34m\u001b[0m\u001b[0;34m\u001b[0m\u001b[0m\n\u001b[0m\u001b[1;32m      5\u001b[0m \u001b[0;32mdef\u001b[0m \u001b[0mmult\u001b[0m\u001b[0;34m(\u001b[0m\u001b[0mX\u001b[0m\u001b[0;34m,\u001b[0m\u001b[0mY\u001b[0m\u001b[0;34m)\u001b[0m\u001b[0;34m:\u001b[0m\u001b[0;34m\u001b[0m\u001b[0;34m\u001b[0m\u001b[0m\n",
            "\u001b[0;32m/usr/local/lib/python3.10/dist-packages/ipykernel/iostream.py\u001b[0m in \u001b[0;36mwrite\u001b[0;34m(self, string)\u001b[0m\n\u001b[1;32m    401\u001b[0m             \u001b[0;31m# only touch the buffer in the IO thread to avoid races\u001b[0m\u001b[0;34m\u001b[0m\u001b[0;34m\u001b[0m\u001b[0m\n\u001b[0;32m--> 402\u001b[0;31m             \u001b[0mself\u001b[0m\u001b[0;34m.\u001b[0m\u001b[0mpub_thread\u001b[0m\u001b[0;34m.\u001b[0m\u001b[0mschedule\u001b[0m\u001b[0;34m(\u001b[0m\u001b[0;32mlambda\u001b[0m \u001b[0;34m:\u001b[0m \u001b[0mself\u001b[0m\u001b[0;34m.\u001b[0m\u001b[0m_buffer\u001b[0m\u001b[0;34m.\u001b[0m\u001b[0mwrite\u001b[0m\u001b[0;34m(\u001b[0m\u001b[0mstring\u001b[0m\u001b[0;34m)\u001b[0m\u001b[0;34m)\u001b[0m\u001b[0;34m\u001b[0m\u001b[0;34m\u001b[0m\u001b[0m\n\u001b[0m\u001b[1;32m    403\u001b[0m             \u001b[0;32mif\u001b[0m \u001b[0mis_child\u001b[0m\u001b[0;34m:\u001b[0m\u001b[0;34m\u001b[0m\u001b[0;34m\u001b[0m\u001b[0m\n",
            "\u001b[0;32m/usr/local/lib/python3.10/dist-packages/ipykernel/iostream.py\u001b[0m in \u001b[0;36mschedule\u001b[0;34m(self, f)\u001b[0m\n\u001b[1;32m    202\u001b[0m             \u001b[0;31m# wake event thread (message content is ignored)\u001b[0m\u001b[0;34m\u001b[0m\u001b[0;34m\u001b[0m\u001b[0m\n\u001b[0;32m--> 203\u001b[0;31m             \u001b[0mself\u001b[0m\u001b[0;34m.\u001b[0m\u001b[0m_event_pipe\u001b[0m\u001b[0;34m.\u001b[0m\u001b[0msend\u001b[0m\u001b[0;34m(\u001b[0m\u001b[0;34mb''\u001b[0m\u001b[0;34m)\u001b[0m\u001b[0;34m\u001b[0m\u001b[0;34m\u001b[0m\u001b[0m\n\u001b[0m\u001b[1;32m    204\u001b[0m         \u001b[0;32melse\u001b[0m\u001b[0;34m:\u001b[0m\u001b[0;34m\u001b[0m\u001b[0;34m\u001b[0m\u001b[0m\n",
            "\u001b[0;32m/usr/local/lib/python3.10/dist-packages/zmq/sugar/socket.py\u001b[0m in \u001b[0;36msend\u001b[0;34m(self, data, flags, copy, track, routing_id, group)\u001b[0m\n\u001b[1;32m    619\u001b[0m             \u001b[0mdata\u001b[0m\u001b[0;34m.\u001b[0m\u001b[0mgroup\u001b[0m \u001b[0;34m=\u001b[0m \u001b[0mgroup\u001b[0m\u001b[0;34m\u001b[0m\u001b[0;34m\u001b[0m\u001b[0m\n\u001b[0;32m--> 620\u001b[0;31m         \u001b[0;32mreturn\u001b[0m \u001b[0msuper\u001b[0m\u001b[0;34m(\u001b[0m\u001b[0;34m)\u001b[0m\u001b[0;34m.\u001b[0m\u001b[0msend\u001b[0m\u001b[0;34m(\u001b[0m\u001b[0mdata\u001b[0m\u001b[0;34m,\u001b[0m \u001b[0mflags\u001b[0m\u001b[0;34m=\u001b[0m\u001b[0mflags\u001b[0m\u001b[0;34m,\u001b[0m \u001b[0mcopy\u001b[0m\u001b[0;34m=\u001b[0m\u001b[0mcopy\u001b[0m\u001b[0;34m,\u001b[0m \u001b[0mtrack\u001b[0m\u001b[0;34m=\u001b[0m\u001b[0mtrack\u001b[0m\u001b[0;34m)\u001b[0m\u001b[0;34m\u001b[0m\u001b[0;34m\u001b[0m\u001b[0m\n\u001b[0m\u001b[1;32m    621\u001b[0m \u001b[0;34m\u001b[0m\u001b[0m\n",
            "\u001b[0;32mzmq/backend/cython/socket.pyx\u001b[0m in \u001b[0;36mzmq.backend.cython.socket.Socket.send\u001b[0;34m()\u001b[0m\n",
            "\u001b[0;32mzmq/backend/cython/socket.pyx\u001b[0m in \u001b[0;36mzmq.backend.cython.socket.Socket.send\u001b[0;34m()\u001b[0m\n",
            "\u001b[0;32mzmq/backend/cython/socket.pyx\u001b[0m in \u001b[0;36mzmq.backend.cython.socket._send_copy\u001b[0;34m()\u001b[0m\n",
            "\u001b[0;32m/usr/local/lib/python3.10/dist-packages/zmq/backend/cython/checkrc.pxd\u001b[0m in \u001b[0;36mzmq.backend.cython.checkrc._check_rc\u001b[0;34m()\u001b[0m\n",
            "\u001b[0;31mKeyboardInterrupt\u001b[0m: ",
            "\nDuring handling of the above exception, another exception occurred:\n",
            "\u001b[0;31mAttributeError\u001b[0m                            Traceback (most recent call last)",
            "\u001b[0;32m/usr/local/lib/python3.10/dist-packages/IPython/core/interactiveshell.py\u001b[0m in \u001b[0;36mshowtraceback\u001b[0;34m(self, exc_tuple, filename, tb_offset, exception_only, running_compiled_code)\u001b[0m\n\u001b[1;32m   2098\u001b[0m                         \u001b[0;31m# in the engines. This should return a list of strings.\u001b[0m\u001b[0;34m\u001b[0m\u001b[0;34m\u001b[0m\u001b[0m\n\u001b[0;32m-> 2099\u001b[0;31m                         \u001b[0mstb\u001b[0m \u001b[0;34m=\u001b[0m \u001b[0mvalue\u001b[0m\u001b[0;34m.\u001b[0m\u001b[0m_render_traceback_\u001b[0m\u001b[0;34m(\u001b[0m\u001b[0;34m)\u001b[0m\u001b[0;34m\u001b[0m\u001b[0;34m\u001b[0m\u001b[0m\n\u001b[0m\u001b[1;32m   2100\u001b[0m                     \u001b[0;32mexcept\u001b[0m \u001b[0mException\u001b[0m\u001b[0;34m:\u001b[0m\u001b[0;34m\u001b[0m\u001b[0;34m\u001b[0m\u001b[0m\n",
            "\u001b[0;31mAttributeError\u001b[0m: 'KeyboardInterrupt' object has no attribute '_render_traceback_'",
            "\nDuring handling of the above exception, another exception occurred:\n",
            "\u001b[0;31mTypeError\u001b[0m                                 Traceback (most recent call last)",
            "    \u001b[0;31m[... skipping hidden 1 frame]\u001b[0m\n",
            "\u001b[0;32m/usr/local/lib/python3.10/dist-packages/IPython/core/interactiveshell.py\u001b[0m in \u001b[0;36mshowtraceback\u001b[0;34m(self, exc_tuple, filename, tb_offset, exception_only, running_compiled_code)\u001b[0m\n\u001b[1;32m   2099\u001b[0m                         \u001b[0mstb\u001b[0m \u001b[0;34m=\u001b[0m \u001b[0mvalue\u001b[0m\u001b[0;34m.\u001b[0m\u001b[0m_render_traceback_\u001b[0m\u001b[0;34m(\u001b[0m\u001b[0;34m)\u001b[0m\u001b[0;34m\u001b[0m\u001b[0;34m\u001b[0m\u001b[0m\n\u001b[1;32m   2100\u001b[0m                     \u001b[0;32mexcept\u001b[0m \u001b[0mException\u001b[0m\u001b[0;34m:\u001b[0m\u001b[0;34m\u001b[0m\u001b[0;34m\u001b[0m\u001b[0m\n\u001b[0;32m-> 2101\u001b[0;31m                         stb = self.InteractiveTB.structured_traceback(etype,\n\u001b[0m\u001b[1;32m   2102\u001b[0m                                             value, tb, tb_offset=tb_offset)\n\u001b[1;32m   2103\u001b[0m \u001b[0;34m\u001b[0m\u001b[0m\n",
            "\u001b[0;32m/usr/local/lib/python3.10/dist-packages/IPython/core/ultratb.py\u001b[0m in \u001b[0;36mstructured_traceback\u001b[0;34m(self, etype, value, tb, tb_offset, number_of_lines_of_context)\u001b[0m\n\u001b[1;32m   1365\u001b[0m         \u001b[0;32melse\u001b[0m\u001b[0;34m:\u001b[0m\u001b[0;34m\u001b[0m\u001b[0;34m\u001b[0m\u001b[0m\n\u001b[1;32m   1366\u001b[0m             \u001b[0mself\u001b[0m\u001b[0;34m.\u001b[0m\u001b[0mtb\u001b[0m \u001b[0;34m=\u001b[0m \u001b[0mtb\u001b[0m\u001b[0;34m\u001b[0m\u001b[0;34m\u001b[0m\u001b[0m\n\u001b[0;32m-> 1367\u001b[0;31m         return FormattedTB.structured_traceback(\n\u001b[0m\u001b[1;32m   1368\u001b[0m             self, etype, value, tb, tb_offset, number_of_lines_of_context)\n\u001b[1;32m   1369\u001b[0m \u001b[0;34m\u001b[0m\u001b[0m\n",
            "\u001b[0;32m/usr/local/lib/python3.10/dist-packages/IPython/core/ultratb.py\u001b[0m in \u001b[0;36mstructured_traceback\u001b[0;34m(self, etype, value, tb, tb_offset, number_of_lines_of_context)\u001b[0m\n\u001b[1;32m   1265\u001b[0m         \u001b[0;32mif\u001b[0m \u001b[0mmode\u001b[0m \u001b[0;32min\u001b[0m \u001b[0mself\u001b[0m\u001b[0;34m.\u001b[0m\u001b[0mverbose_modes\u001b[0m\u001b[0;34m:\u001b[0m\u001b[0;34m\u001b[0m\u001b[0;34m\u001b[0m\u001b[0m\n\u001b[1;32m   1266\u001b[0m             \u001b[0;31m# Verbose modes need a full traceback\u001b[0m\u001b[0;34m\u001b[0m\u001b[0;34m\u001b[0m\u001b[0m\n\u001b[0;32m-> 1267\u001b[0;31m             return VerboseTB.structured_traceback(\n\u001b[0m\u001b[1;32m   1268\u001b[0m                 \u001b[0mself\u001b[0m\u001b[0;34m,\u001b[0m \u001b[0metype\u001b[0m\u001b[0;34m,\u001b[0m \u001b[0mvalue\u001b[0m\u001b[0;34m,\u001b[0m \u001b[0mtb\u001b[0m\u001b[0;34m,\u001b[0m \u001b[0mtb_offset\u001b[0m\u001b[0;34m,\u001b[0m \u001b[0mnumber_of_lines_of_context\u001b[0m\u001b[0;34m\u001b[0m\u001b[0;34m\u001b[0m\u001b[0m\n\u001b[1;32m   1269\u001b[0m             )\n",
            "\u001b[0;32m/usr/local/lib/python3.10/dist-packages/IPython/core/ultratb.py\u001b[0m in \u001b[0;36mstructured_traceback\u001b[0;34m(self, etype, evalue, etb, tb_offset, number_of_lines_of_context)\u001b[0m\n\u001b[1;32m   1122\u001b[0m         \u001b[0;34m\"\"\"Return a nice text document describing the traceback.\"\"\"\u001b[0m\u001b[0;34m\u001b[0m\u001b[0;34m\u001b[0m\u001b[0m\n\u001b[1;32m   1123\u001b[0m \u001b[0;34m\u001b[0m\u001b[0m\n\u001b[0;32m-> 1124\u001b[0;31m         formatted_exception = self.format_exception_as_a_whole(etype, evalue, etb, number_of_lines_of_context,\n\u001b[0m\u001b[1;32m   1125\u001b[0m                                                                tb_offset)\n\u001b[1;32m   1126\u001b[0m \u001b[0;34m\u001b[0m\u001b[0m\n",
            "\u001b[0;32m/usr/local/lib/python3.10/dist-packages/IPython/core/ultratb.py\u001b[0m in \u001b[0;36mformat_exception_as_a_whole\u001b[0;34m(self, etype, evalue, etb, number_of_lines_of_context, tb_offset)\u001b[0m\n\u001b[1;32m   1080\u001b[0m \u001b[0;34m\u001b[0m\u001b[0m\n\u001b[1;32m   1081\u001b[0m \u001b[0;34m\u001b[0m\u001b[0m\n\u001b[0;32m-> 1082\u001b[0;31m         \u001b[0mlast_unique\u001b[0m\u001b[0;34m,\u001b[0m \u001b[0mrecursion_repeat\u001b[0m \u001b[0;34m=\u001b[0m \u001b[0mfind_recursion\u001b[0m\u001b[0;34m(\u001b[0m\u001b[0morig_etype\u001b[0m\u001b[0;34m,\u001b[0m \u001b[0mevalue\u001b[0m\u001b[0;34m,\u001b[0m \u001b[0mrecords\u001b[0m\u001b[0;34m)\u001b[0m\u001b[0;34m\u001b[0m\u001b[0;34m\u001b[0m\u001b[0m\n\u001b[0m\u001b[1;32m   1083\u001b[0m \u001b[0;34m\u001b[0m\u001b[0m\n\u001b[1;32m   1084\u001b[0m         \u001b[0mframes\u001b[0m \u001b[0;34m=\u001b[0m \u001b[0mself\u001b[0m\u001b[0;34m.\u001b[0m\u001b[0mformat_records\u001b[0m\u001b[0;34m(\u001b[0m\u001b[0mrecords\u001b[0m\u001b[0;34m,\u001b[0m \u001b[0mlast_unique\u001b[0m\u001b[0;34m,\u001b[0m \u001b[0mrecursion_repeat\u001b[0m\u001b[0;34m)\u001b[0m\u001b[0;34m\u001b[0m\u001b[0;34m\u001b[0m\u001b[0m\n",
            "\u001b[0;32m/usr/local/lib/python3.10/dist-packages/IPython/core/ultratb.py\u001b[0m in \u001b[0;36mfind_recursion\u001b[0;34m(etype, value, records)\u001b[0m\n\u001b[1;32m    380\u001b[0m     \u001b[0;31m# first frame (from in to out) that looks different.\u001b[0m\u001b[0;34m\u001b[0m\u001b[0;34m\u001b[0m\u001b[0m\n\u001b[1;32m    381\u001b[0m     \u001b[0;32mif\u001b[0m \u001b[0;32mnot\u001b[0m \u001b[0mis_recursion_error\u001b[0m\u001b[0;34m(\u001b[0m\u001b[0metype\u001b[0m\u001b[0;34m,\u001b[0m \u001b[0mvalue\u001b[0m\u001b[0;34m,\u001b[0m \u001b[0mrecords\u001b[0m\u001b[0;34m)\u001b[0m\u001b[0;34m:\u001b[0m\u001b[0;34m\u001b[0m\u001b[0;34m\u001b[0m\u001b[0m\n\u001b[0;32m--> 382\u001b[0;31m         \u001b[0;32mreturn\u001b[0m \u001b[0mlen\u001b[0m\u001b[0;34m(\u001b[0m\u001b[0mrecords\u001b[0m\u001b[0;34m)\u001b[0m\u001b[0;34m,\u001b[0m \u001b[0;36m0\u001b[0m\u001b[0;34m\u001b[0m\u001b[0;34m\u001b[0m\u001b[0m\n\u001b[0m\u001b[1;32m    383\u001b[0m \u001b[0;34m\u001b[0m\u001b[0m\n\u001b[1;32m    384\u001b[0m     \u001b[0;31m# Select filename, lineno, func_name to track frames with\u001b[0m\u001b[0;34m\u001b[0m\u001b[0;34m\u001b[0m\u001b[0m\n",
            "\u001b[0;31mTypeError\u001b[0m: object of type 'NoneType' has no len()"
          ]
        }
      ]
    },
    {
      "cell_type": "code",
      "source": [],
      "metadata": {
        "id": "rMidX7SiVZUq"
      },
      "execution_count": null,
      "outputs": []
    },
    {
      "cell_type": "code",
      "source": [
        "BMI = []\n",
        "Height = [1.10 , 1.12 , 1.14 , 1.16 , 1.18 , 1.20 , 1.22 , 1.24 , 1.26 , 1.28]\n",
        "Weight = [ 50 , 60 , 50 , 80 , 95 , 54 , 75 , 65 , 45 , 85 ]\n",
        "#BMI = (Height/Weight)^2\n",
        "\n",
        "for H,W in zip(Height , Weight):\n",
        "  BMI_CAL = (W/H**2)\n",
        "  BMI.append(BMI_CAL)\n",
        "  print(BMI)\n",
        "\n"
      ],
      "metadata": {
        "id": "NmXy59UJfZKD",
        "colab": {
          "base_uri": "https://localhost:8080/"
        },
        "outputId": "afa22a71-540f-4c8f-837b-5b6f5b895104"
      },
      "execution_count": null,
      "outputs": [
        {
          "output_type": "stream",
          "name": "stdout",
          "text": [
            "[41.32231404958677]\n",
            "[41.32231404958677, 47.83163265306122]\n",
            "[41.32231404958677, 47.83163265306122, 38.473376423514935]\n",
            "[41.32231404958677, 47.83163265306122, 38.473376423514935, 59.45303210463734]\n",
            "[41.32231404958677, 47.83163265306122, 38.473376423514935, 59.45303210463734, 68.22752082734847]\n",
            "[41.32231404958677, 47.83163265306122, 38.473376423514935, 59.45303210463734, 68.22752082734847, 37.5]\n",
            "[41.32231404958677, 47.83163265306122, 38.473376423514935, 59.45303210463734, 68.22752082734847, 37.5, 50.389680193496375]\n",
            "[41.32231404958677, 47.83163265306122, 38.473376423514935, 59.45303210463734, 68.22752082734847, 37.5, 50.389680193496375, 42.27367325702393]\n",
            "[41.32231404958677, 47.83163265306122, 38.473376423514935, 59.45303210463734, 68.22752082734847, 37.5, 50.389680193496375, 42.27367325702393, 28.344671201814055]\n",
            "[41.32231404958677, 47.83163265306122, 38.473376423514935, 59.45303210463734, 68.22752082734847, 37.5, 50.389680193496375, 42.27367325702393, 28.344671201814055, 51.8798828125]\n"
          ]
        }
      ]
    },
    {
      "cell_type": "code",
      "source": [
        "import numpy as np"
      ],
      "metadata": {
        "id": "8t5Fton6_AdL"
      },
      "execution_count": null,
      "outputs": []
    },
    {
      "cell_type": "code",
      "source": [
        " height_arr = numpy.array(Height)"
      ],
      "metadata": {
        "id": "FJ_Imr5ACqyT"
      },
      "execution_count": null,
      "outputs": []
    },
    {
      "cell_type": "code",
      "source": [
        "weight_arr = numpy.array(Weight)"
      ],
      "metadata": {
        "id": "Km5q1r8MEWVe"
      },
      "execution_count": null,
      "outputs": []
    },
    {
      "cell_type": "code",
      "source": [
        "arr_2d = np.array([[4 , 5 , 6 , 7],\n",
        "                   [1 , 2 , 3 , 4]])"
      ],
      "metadata": {
        "id": "oePWZkhgEcp2"
      },
      "execution_count": null,
      "outputs": []
    },
    {
      "cell_type": "code",
      "source": [
        "arr_2d.ndim"
      ],
      "metadata": {
        "colab": {
          "base_uri": "https://localhost:8080/"
        },
        "id": "PaQOQvcnFz06",
        "outputId": "fe7ad8a9-2ef6-4bfb-916e-d346862b3f1c"
      },
      "execution_count": null,
      "outputs": [
        {
          "output_type": "execute_result",
          "data": {
            "text/plain": [
              "2"
            ]
          },
          "metadata": {},
          "execution_count": 19
        }
      ]
    },
    {
      "cell_type": "code",
      "source": [
        "arr_2d.shape"
      ],
      "metadata": {
        "colab": {
          "base_uri": "https://localhost:8080/"
        },
        "id": "XhwJfbbDGj0D",
        "outputId": "38796411-f447-41c4-feb2-b57334238233"
      },
      "execution_count": null,
      "outputs": [
        {
          "output_type": "execute_result",
          "data": {
            "text/plain": [
              "(2, 4)"
            ]
          },
          "metadata": {},
          "execution_count": 20
        }
      ]
    },
    {
      "cell_type": "code",
      "source": [
        "ran_arr = np.arange(3,40)"
      ],
      "metadata": {
        "id": "uvgVYXBQHMI0"
      },
      "execution_count": null,
      "outputs": []
    },
    {
      "cell_type": "code",
      "source": [
        "ran_arr"
      ],
      "metadata": {
        "colab": {
          "base_uri": "https://localhost:8080/"
        },
        "id": "wJa2gpJAHxJc",
        "outputId": "36c9a110-8330-4ffe-d9fd-e406a6794754"
      },
      "execution_count": null,
      "outputs": [
        {
          "output_type": "execute_result",
          "data": {
            "text/plain": [
              "array([ 3,  4,  5,  6,  7,  8,  9, 10, 11, 12, 13, 14, 15, 16, 17, 18, 19,\n",
              "       20, 21, 22, 23, 24, 25, 26, 27, 28, 29, 30, 31, 32, 33, 34, 35, 36,\n",
              "       37, 38, 39])"
            ]
          },
          "metadata": {},
          "execution_count": 22
        }
      ]
    },
    {
      "cell_type": "code",
      "source": [
        "ran_arr = np.arange(0,16)\n"
      ],
      "metadata": {
        "id": "golf5uxpJY5P"
      },
      "execution_count": null,
      "outputs": []
    },
    {
      "cell_type": "code",
      "source": [
        "ran_arr\n"
      ],
      "metadata": {
        "colab": {
          "base_uri": "https://localhost:8080/"
        },
        "id": "eh8OZq_CHzrT",
        "outputId": "1ecff5f8-7e94-4d4d-a735-9fffdbe595a3"
      },
      "execution_count": null,
      "outputs": [
        {
          "output_type": "execute_result",
          "data": {
            "text/plain": [
              "array([ 0,  1,  2,  3,  4,  5,  6,  7,  8,  9, 10, 11, 12, 13, 14, 15])"
            ]
          },
          "metadata": {},
          "execution_count": 50
        }
      ]
    },
    {
      "cell_type": "code",
      "source": [
        "\n",
        "ran_arr.reshape(4,4)"
      ],
      "metadata": {
        "colab": {
          "base_uri": "https://localhost:8080/"
        },
        "id": "jgrnfxZGJX3t",
        "outputId": "bcd8c94f-a802-444b-b4af-7c2effe985ce"
      },
      "execution_count": null,
      "outputs": [
        {
          "output_type": "execute_result",
          "data": {
            "text/plain": [
              "array([[ 0,  1,  2,  3],\n",
              "       [ 4,  5,  6,  7],\n",
              "       [ 8,  9, 10, 11],\n",
              "       [12, 13, 14, 15]])"
            ]
          },
          "metadata": {},
          "execution_count": 51
        }
      ]
    },
    {
      "cell_type": "code",
      "source": [
        "ran_arr.max()"
      ],
      "metadata": {
        "colab": {
          "base_uri": "https://localhost:8080/"
        },
        "id": "aoYSEszyI_yr",
        "outputId": "8081dde8-c17c-4dff-c121-172802a64d45"
      },
      "execution_count": null,
      "outputs": [
        {
          "output_type": "execute_result",
          "data": {
            "text/plain": [
              "15"
            ]
          },
          "metadata": {},
          "execution_count": 43
        }
      ]
    },
    {
      "cell_type": "code",
      "source": [
        "ran_arr.mean()"
      ],
      "metadata": {
        "colab": {
          "base_uri": "https://localhost:8080/"
        },
        "id": "bPihsv8gJPe8",
        "outputId": "f2c2f17c-4dce-4c5b-cfc3-8f577de9217e"
      },
      "execution_count": null,
      "outputs": [
        {
          "output_type": "execute_result",
          "data": {
            "text/plain": [
              "7.5"
            ]
          },
          "metadata": {},
          "execution_count": 34
        }
      ]
    },
    {
      "cell_type": "code",
      "source": [
        "ran_arr.min()"
      ],
      "metadata": {
        "colab": {
          "base_uri": "https://localhost:8080/"
        },
        "id": "IT7hDm4fKFk7",
        "outputId": "f4c765dd-b1c4-4ad1-dc26-05f97a14985f"
      },
      "execution_count": null,
      "outputs": [
        {
          "output_type": "execute_result",
          "data": {
            "text/plain": [
              "0"
            ]
          },
          "metadata": {},
          "execution_count": 35
        }
      ]
    },
    {
      "cell_type": "code",
      "source": [
        "zer_arr = np.zeros((4,4))"
      ],
      "metadata": {
        "id": "FmBjfkafKMni"
      },
      "execution_count": null,
      "outputs": []
    },
    {
      "cell_type": "code",
      "source": [
        "zer_arr"
      ],
      "metadata": {
        "colab": {
          "base_uri": "https://localhost:8080/"
        },
        "id": "L3mTICEJKca1",
        "outputId": "9e79b690-1f8a-4fcc-a70d-9e24bf4543c8"
      },
      "execution_count": null,
      "outputs": [
        {
          "output_type": "execute_result",
          "data": {
            "text/plain": [
              "array([[0., 0., 0., 0.],\n",
              "       [0., 0., 0., 0.],\n",
              "       [0., 0., 0., 0.],\n",
              "       [0., 0., 0., 0.]])"
            ]
          },
          "metadata": {},
          "execution_count": 48
        }
      ]
    },
    {
      "cell_type": "code",
      "source": [
        "np.ones((4,4))"
      ],
      "metadata": {
        "colab": {
          "base_uri": "https://localhost:8080/"
        },
        "id": "Csa9kbHHKehl",
        "outputId": "0935c76b-f18e-48c2-a5b2-6076cb38c8e3"
      },
      "execution_count": null,
      "outputs": [
        {
          "output_type": "execute_result",
          "data": {
            "text/plain": [
              "array([[1., 1., 1., 1.],\n",
              "       [1., 1., 1., 1.],\n",
              "       [1., 1., 1., 1.],\n",
              "       [1., 1., 1., 1.]])"
            ]
          },
          "metadata": {},
          "execution_count": 52
        }
      ]
    },
    {
      "cell_type": "code",
      "source": [
        "np.eye(4)"
      ],
      "metadata": {
        "colab": {
          "base_uri": "https://localhost:8080/"
        },
        "id": "z5yhXX1ULQgc",
        "outputId": "645b0597-9536-461b-e64f-e8b1717a5a76"
      },
      "execution_count": null,
      "outputs": [
        {
          "output_type": "execute_result",
          "data": {
            "text/plain": [
              "array([[1., 0., 0., 0.],\n",
              "       [0., 1., 0., 0.],\n",
              "       [0., 0., 1., 0.],\n",
              "       [0., 0., 0., 1.]])"
            ]
          },
          "metadata": {},
          "execution_count": 53
        }
      ]
    },
    {
      "cell_type": "code",
      "source": [
        "np.identity((4))"
      ],
      "metadata": {
        "colab": {
          "base_uri": "https://localhost:8080/"
        },
        "id": "_dmGfbpZLvWU",
        "outputId": "9c02eb45-661d-47ea-ec93-8e362e4eba92"
      },
      "execution_count": null,
      "outputs": [
        {
          "output_type": "execute_result",
          "data": {
            "text/plain": [
              "array([[1., 0., 0., 0.],\n",
              "       [0., 1., 0., 0.],\n",
              "       [0., 0., 1., 0.],\n",
              "       [0., 0., 0., 1.]])"
            ]
          },
          "metadata": {},
          "execution_count": 55
        }
      ]
    },
    {
      "cell_type": "code",
      "source": [
        "arr_uni = np.random.rand(5)"
      ],
      "metadata": {
        "id": "ikPORmK7L2bT"
      },
      "execution_count": null,
      "outputs": []
    },
    {
      "cell_type": "code",
      "source": [
        "arr_uni"
      ],
      "metadata": {
        "colab": {
          "base_uri": "https://localhost:8080/"
        },
        "id": "_NwMF-36M-Gb",
        "outputId": "f9082c18-7fcd-4791-f590-d960a8c060f2"
      },
      "execution_count": null,
      "outputs": [
        {
          "output_type": "execute_result",
          "data": {
            "text/plain": [
              "array([0.39797931, 0.9984043 , 0.5911469 , 0.68640199, 0.02044941])"
            ]
          },
          "metadata": {},
          "execution_count": 57
        }
      ]
    },
    {
      "cell_type": "code",
      "source": [
        "from numpy import random"
      ],
      "metadata": {
        "id": "3cUE89htM_80"
      },
      "execution_count": null,
      "outputs": []
    },
    {
      "cell_type": "code",
      "source": [
        "testarr = np.arange(0,16,2)"
      ],
      "metadata": {
        "id": "LEfqKbErNSYF"
      },
      "execution_count": null,
      "outputs": []
    },
    {
      "cell_type": "code",
      "source": [
        "testarr"
      ],
      "metadata": {
        "colab": {
          "base_uri": "https://localhost:8080/"
        },
        "id": "8sDcFJpwOb4T",
        "outputId": "8a591419-90ba-4b67-beb6-4590cc21c09a"
      },
      "execution_count": null,
      "outputs": [
        {
          "output_type": "execute_result",
          "data": {
            "text/plain": [
              "array([ 0,  2,  4,  6,  8, 10, 12, 14])"
            ]
          },
          "metadata": {},
          "execution_count": 74
        }
      ]
    },
    {
      "cell_type": "code",
      "source": [
        "testarr1 = testarr>10\n"
      ],
      "metadata": {
        "id": "0UDpBKg3OdHq"
      },
      "execution_count": null,
      "outputs": []
    },
    {
      "cell_type": "code",
      "source": [
        "testarr[testarr1]"
      ],
      "metadata": {
        "colab": {
          "base_uri": "https://localhost:8080/"
        },
        "id": "I0KeJE89TL4v",
        "outputId": "b8865310-d852-4ed8-d801-0753cdda0528"
      },
      "execution_count": null,
      "outputs": [
        {
          "output_type": "execute_result",
          "data": {
            "text/plain": [
              "array([12, 14])"
            ]
          },
          "metadata": {},
          "execution_count": 78
        }
      ]
    },
    {
      "cell_type": "code",
      "source": [],
      "metadata": {
        "id": "7uHVpkiCWLMh"
      },
      "execution_count": null,
      "outputs": []
    },
    {
      "cell_type": "markdown",
      "source": [
        "#PANDAS#"
      ],
      "metadata": {
        "id": "C37Pl5v3XEly"
      }
    },
    {
      "cell_type": "code",
      "source": [
        "import pandas as pd"
      ],
      "metadata": {
        "id": "-eTJsTu5XIKc"
      },
      "execution_count": null,
      "outputs": []
    },
    {
      "cell_type": "code",
      "source": [
        "\n",
        "randnum = pd.Series([1 , 2 , 3 , -45])"
      ],
      "metadata": {
        "id": "1oQJL8zdX7fj"
      },
      "execution_count": null,
      "outputs": []
    },
    {
      "cell_type": "code",
      "source": [
        "randnum"
      ],
      "metadata": {
        "colab": {
          "base_uri": "https://localhost:8080/",
          "height": 210
        },
        "id": "JG4jmGn2ZMkk",
        "outputId": "bef9e3bd-7b35-4bc4-8277-9333150fba72"
      },
      "execution_count": null,
      "outputs": [
        {
          "output_type": "execute_result",
          "data": {
            "text/plain": [
              "0     1\n",
              "1     2\n",
              "2     3\n",
              "3   -45\n",
              "dtype: int64"
            ],
            "text/html": [
              "<div>\n",
              "<style scoped>\n",
              "    .dataframe tbody tr th:only-of-type {\n",
              "        vertical-align: middle;\n",
              "    }\n",
              "\n",
              "    .dataframe tbody tr th {\n",
              "        vertical-align: top;\n",
              "    }\n",
              "\n",
              "    .dataframe thead th {\n",
              "        text-align: right;\n",
              "    }\n",
              "</style>\n",
              "<table border=\"1\" class=\"dataframe\">\n",
              "  <thead>\n",
              "    <tr style=\"text-align: right;\">\n",
              "      <th></th>\n",
              "      <th>0</th>\n",
              "    </tr>\n",
              "  </thead>\n",
              "  <tbody>\n",
              "    <tr>\n",
              "      <th>0</th>\n",
              "      <td>1</td>\n",
              "    </tr>\n",
              "    <tr>\n",
              "      <th>1</th>\n",
              "      <td>2</td>\n",
              "    </tr>\n",
              "    <tr>\n",
              "      <th>2</th>\n",
              "      <td>3</td>\n",
              "    </tr>\n",
              "    <tr>\n",
              "      <th>3</th>\n",
              "      <td>-45</td>\n",
              "    </tr>\n",
              "  </tbody>\n",
              "</table>\n",
              "</div><br><label><b>dtype:</b> int64</label>"
            ]
          },
          "metadata": {},
          "execution_count": 83
        }
      ]
    },
    {
      "cell_type": "code",
      "source": [
        "randnum.values"
      ],
      "metadata": {
        "colab": {
          "base_uri": "https://localhost:8080/"
        },
        "id": "qJTxK_DSZOHz",
        "outputId": "20383f1e-1469-42fa-c42f-c4f895fd57fd"
      },
      "execution_count": null,
      "outputs": [
        {
          "output_type": "execute_result",
          "data": {
            "text/plain": [
              "array([  1,   2,   3, -45])"
            ]
          },
          "metadata": {},
          "execution_count": 84
        }
      ]
    },
    {
      "cell_type": "code",
      "source": [
        "randnum.index"
      ],
      "metadata": {
        "colab": {
          "base_uri": "https://localhost:8080/"
        },
        "id": "GYVjR3DqZrFV",
        "outputId": "f490eade-ad41-4051-fccb-ed0a1c1ddea2"
      },
      "execution_count": null,
      "outputs": [
        {
          "output_type": "execute_result",
          "data": {
            "text/plain": [
              "RangeIndex(start=0, stop=4, step=1)"
            ]
          },
          "metadata": {},
          "execution_count": 85
        }
      ]
    },
    {
      "cell_type": "code",
      "source": [
        "randseries = pd.Series([34,56,78,90],index = ['a' , 'b' , 'c' , 'd'])"
      ],
      "metadata": {
        "id": "QcMPQf72aDcj"
      },
      "execution_count": null,
      "outputs": []
    },
    {
      "cell_type": "code",
      "source": [
        "\n",
        "randseries\n"
      ],
      "metadata": {
        "colab": {
          "base_uri": "https://localhost:8080/",
          "height": 210
        },
        "id": "Msk-xVr-a8tE",
        "outputId": "ba3fceb0-013c-466f-f519-93d54e0bf1f9"
      },
      "execution_count": null,
      "outputs": [
        {
          "output_type": "execute_result",
          "data": {
            "text/plain": [
              "a    34\n",
              "b    56\n",
              "c    78\n",
              "d    90\n",
              "dtype: int64"
            ],
            "text/html": [
              "<div>\n",
              "<style scoped>\n",
              "    .dataframe tbody tr th:only-of-type {\n",
              "        vertical-align: middle;\n",
              "    }\n",
              "\n",
              "    .dataframe tbody tr th {\n",
              "        vertical-align: top;\n",
              "    }\n",
              "\n",
              "    .dataframe thead th {\n",
              "        text-align: right;\n",
              "    }\n",
              "</style>\n",
              "<table border=\"1\" class=\"dataframe\">\n",
              "  <thead>\n",
              "    <tr style=\"text-align: right;\">\n",
              "      <th></th>\n",
              "      <th>0</th>\n",
              "    </tr>\n",
              "  </thead>\n",
              "  <tbody>\n",
              "    <tr>\n",
              "      <th>a</th>\n",
              "      <td>34</td>\n",
              "    </tr>\n",
              "    <tr>\n",
              "      <th>b</th>\n",
              "      <td>56</td>\n",
              "    </tr>\n",
              "    <tr>\n",
              "      <th>c</th>\n",
              "      <td>78</td>\n",
              "    </tr>\n",
              "    <tr>\n",
              "      <th>d</th>\n",
              "      <td>90</td>\n",
              "    </tr>\n",
              "  </tbody>\n",
              "</table>\n",
              "</div><br><label><b>dtype:</b> int64</label>"
            ]
          },
          "metadata": {},
          "execution_count": 97
        }
      ]
    },
    {
      "cell_type": "code",
      "source": [
        "data = {\"India\":500, \"France\":400, \"England\": 799}"
      ],
      "metadata": {
        "id": "Pl6whSQucHP6"
      },
      "execution_count": null,
      "outputs": []
    },
    {
      "cell_type": "code",
      "source": [
        "pd.Series(data)"
      ],
      "metadata": {
        "colab": {
          "base_uri": "https://localhost:8080/",
          "height": 178
        },
        "id": "O8nGanGucvh8",
        "outputId": "ea558efb-bb16-45be-94d5-c1dd39b3b8d8"
      },
      "execution_count": null,
      "outputs": [
        {
          "output_type": "execute_result",
          "data": {
            "text/plain": [
              "India      500\n",
              "France     400\n",
              "England    799\n",
              "dtype: int64"
            ],
            "text/html": [
              "<div>\n",
              "<style scoped>\n",
              "    .dataframe tbody tr th:only-of-type {\n",
              "        vertical-align: middle;\n",
              "    }\n",
              "\n",
              "    .dataframe tbody tr th {\n",
              "        vertical-align: top;\n",
              "    }\n",
              "\n",
              "    .dataframe thead th {\n",
              "        text-align: right;\n",
              "    }\n",
              "</style>\n",
              "<table border=\"1\" class=\"dataframe\">\n",
              "  <thead>\n",
              "    <tr style=\"text-align: right;\">\n",
              "      <th></th>\n",
              "      <th>0</th>\n",
              "    </tr>\n",
              "  </thead>\n",
              "  <tbody>\n",
              "    <tr>\n",
              "      <th>India</th>\n",
              "      <td>500</td>\n",
              "    </tr>\n",
              "    <tr>\n",
              "      <th>France</th>\n",
              "      <td>400</td>\n",
              "    </tr>\n",
              "    <tr>\n",
              "      <th>England</th>\n",
              "      <td>799</td>\n",
              "    </tr>\n",
              "  </tbody>\n",
              "</table>\n",
              "</div><br><label><b>dtype:</b> int64</label>"
            ]
          },
          "metadata": {},
          "execution_count": 106
        }
      ]
    },
    {
      "cell_type": "code",
      "source": [
        "city2  = pd.Series([12,-6,8,-3], index=[\"day1\",\"day2\",\"day3\",\"day4\"])"
      ],
      "metadata": {
        "id": "VwhXDat7c-i8"
      },
      "execution_count": null,
      "outputs": []
    },
    {
      "cell_type": "code",
      "source": [
        "city2\n"
      ],
      "metadata": {
        "colab": {
          "base_uri": "https://localhost:8080/",
          "height": 210
        },
        "id": "nIE3jdlZc_-T",
        "outputId": "fcaa758d-3bdf-4e4b-f2b0-4e917879d4d4"
      },
      "execution_count": null,
      "outputs": [
        {
          "output_type": "execute_result",
          "data": {
            "text/plain": [
              "day1    12\n",
              "day2    -6\n",
              "day3     8\n",
              "day4    -3\n",
              "dtype: int64"
            ],
            "text/html": [
              "<div>\n",
              "<style scoped>\n",
              "    .dataframe tbody tr th:only-of-type {\n",
              "        vertical-align: middle;\n",
              "    }\n",
              "\n",
              "    .dataframe tbody tr th {\n",
              "        vertical-align: top;\n",
              "    }\n",
              "\n",
              "    .dataframe thead th {\n",
              "        text-align: right;\n",
              "    }\n",
              "</style>\n",
              "<table border=\"1\" class=\"dataframe\">\n",
              "  <thead>\n",
              "    <tr style=\"text-align: right;\">\n",
              "      <th></th>\n",
              "      <th>0</th>\n",
              "    </tr>\n",
              "  </thead>\n",
              "  <tbody>\n",
              "    <tr>\n",
              "      <th>day1</th>\n",
              "      <td>12</td>\n",
              "    </tr>\n",
              "    <tr>\n",
              "      <th>day2</th>\n",
              "      <td>-6</td>\n",
              "    </tr>\n",
              "    <tr>\n",
              "      <th>day3</th>\n",
              "      <td>8</td>\n",
              "    </tr>\n",
              "    <tr>\n",
              "      <th>day4</th>\n",
              "      <td>-3</td>\n",
              "    </tr>\n",
              "  </tbody>\n",
              "</table>\n",
              "</div><br><label><b>dtype:</b> int64</label>"
            ]
          },
          "metadata": {},
          "execution_count": 110
        }
      ]
    },
    {
      "cell_type": "code",
      "source": [
        "city2[[\"day1\",\"day2\"]]"
      ],
      "metadata": {
        "colab": {
          "base_uri": "https://localhost:8080/",
          "height": 147
        },
        "id": "17cFUAg-eRrK",
        "outputId": "97766eb2-8659-4a93-a573-dad503e3e9ae"
      },
      "execution_count": null,
      "outputs": [
        {
          "output_type": "execute_result",
          "data": {
            "text/plain": [
              "day1    12\n",
              "day2    -6\n",
              "dtype: int64"
            ],
            "text/html": [
              "<div>\n",
              "<style scoped>\n",
              "    .dataframe tbody tr th:only-of-type {\n",
              "        vertical-align: middle;\n",
              "    }\n",
              "\n",
              "    .dataframe tbody tr th {\n",
              "        vertical-align: top;\n",
              "    }\n",
              "\n",
              "    .dataframe thead th {\n",
              "        text-align: right;\n",
              "    }\n",
              "</style>\n",
              "<table border=\"1\" class=\"dataframe\">\n",
              "  <thead>\n",
              "    <tr style=\"text-align: right;\">\n",
              "      <th></th>\n",
              "      <th>0</th>\n",
              "    </tr>\n",
              "  </thead>\n",
              "  <tbody>\n",
              "    <tr>\n",
              "      <th>day1</th>\n",
              "      <td>12</td>\n",
              "    </tr>\n",
              "    <tr>\n",
              "      <th>day2</th>\n",
              "      <td>-6</td>\n",
              "    </tr>\n",
              "  </tbody>\n",
              "</table>\n",
              "</div><br><label><b>dtype:</b> int64</label>"
            ]
          },
          "metadata": {},
          "execution_count": 111
        }
      ]
    },
    {
      "cell_type": "code",
      "source": [
        "city2>0"
      ],
      "metadata": {
        "colab": {
          "base_uri": "https://localhost:8080/",
          "height": 210
        },
        "id": "Sgv4USz2epZd",
        "outputId": "e9365ef6-a97e-4b9a-ef05-287b1da65598"
      },
      "execution_count": null,
      "outputs": [
        {
          "output_type": "execute_result",
          "data": {
            "text/plain": [
              "day1     True\n",
              "day2    False\n",
              "day3     True\n",
              "day4    False\n",
              "dtype: bool"
            ],
            "text/html": [
              "<div>\n",
              "<style scoped>\n",
              "    .dataframe tbody tr th:only-of-type {\n",
              "        vertical-align: middle;\n",
              "    }\n",
              "\n",
              "    .dataframe tbody tr th {\n",
              "        vertical-align: top;\n",
              "    }\n",
              "\n",
              "    .dataframe thead th {\n",
              "        text-align: right;\n",
              "    }\n",
              "</style>\n",
              "<table border=\"1\" class=\"dataframe\">\n",
              "  <thead>\n",
              "    <tr style=\"text-align: right;\">\n",
              "      <th></th>\n",
              "      <th>0</th>\n",
              "    </tr>\n",
              "  </thead>\n",
              "  <tbody>\n",
              "    <tr>\n",
              "      <th>day1</th>\n",
              "      <td>True</td>\n",
              "    </tr>\n",
              "    <tr>\n",
              "      <th>day2</th>\n",
              "      <td>False</td>\n",
              "    </tr>\n",
              "    <tr>\n",
              "      <th>day3</th>\n",
              "      <td>True</td>\n",
              "    </tr>\n",
              "    <tr>\n",
              "      <th>day4</th>\n",
              "      <td>False</td>\n",
              "    </tr>\n",
              "  </tbody>\n",
              "</table>\n",
              "</div><br><label><b>dtype:</b> bool</label>"
            ]
          },
          "metadata": {},
          "execution_count": 114
        }
      ]
    },
    {
      "cell_type": "code",
      "source": [
        "city2[city2>0]"
      ],
      "metadata": {
        "colab": {
          "base_uri": "https://localhost:8080/",
          "height": 147
        },
        "id": "CnbXi9V1eu5U",
        "outputId": "ee5ff832-a368-46fb-aff5-71832c41afb9"
      },
      "execution_count": null,
      "outputs": [
        {
          "output_type": "execute_result",
          "data": {
            "text/plain": [
              "day1    12\n",
              "day3     8\n",
              "dtype: int64"
            ],
            "text/html": [
              "<div>\n",
              "<style scoped>\n",
              "    .dataframe tbody tr th:only-of-type {\n",
              "        vertical-align: middle;\n",
              "    }\n",
              "\n",
              "    .dataframe tbody tr th {\n",
              "        vertical-align: top;\n",
              "    }\n",
              "\n",
              "    .dataframe thead th {\n",
              "        text-align: right;\n",
              "    }\n",
              "</style>\n",
              "<table border=\"1\" class=\"dataframe\">\n",
              "  <thead>\n",
              "    <tr style=\"text-align: right;\">\n",
              "      <th></th>\n",
              "      <th>0</th>\n",
              "    </tr>\n",
              "  </thead>\n",
              "  <tbody>\n",
              "    <tr>\n",
              "      <th>day1</th>\n",
              "      <td>12</td>\n",
              "    </tr>\n",
              "    <tr>\n",
              "      <th>day3</th>\n",
              "      <td>8</td>\n",
              "    </tr>\n",
              "  </tbody>\n",
              "</table>\n",
              "</div><br><label><b>dtype:</b> int64</label>"
            ]
          },
          "metadata": {},
          "execution_count": 115
        }
      ]
    },
    {
      "cell_type": "code",
      "source": [
        "data = {\"India\":950, \"France\":400, \"England\": 800, \"China\":900, \"Japan\":200}"
      ],
      "metadata": {
        "id": "qgpFYTazfR9T"
      },
      "execution_count": null,
      "outputs": []
    },
    {
      "cell_type": "code",
      "source": [
        "data = {\"India\": 950, \"France\": 400, \"England\": 800, \"China\": 900, \"Japan\": 200}\n",
        "\n",
        "for country, value in data.items():\n",
        "  print(value)\n",
        "\n",
        "  if value > 200 and value < 400:\n",
        "    print(f\"{country}: {value}\")"
      ],
      "metadata": {
        "colab": {
          "base_uri": "https://localhost:8080/"
        },
        "id": "c8Y9v65SijHL",
        "outputId": "845b7ece-5982-438e-d272-1443552af87a"
      },
      "execution_count": null,
      "outputs": [
        {
          "output_type": "stream",
          "name": "stdout",
          "text": [
            "950\n",
            "400\n",
            "800\n",
            "900\n",
            "200\n"
          ]
        }
      ]
    },
    {
      "cell_type": "code",
      "source": [],
      "metadata": {
        "colab": {
          "base_uri": "https://localhost:8080/"
        },
        "id": "dr_ERepQgOb-",
        "outputId": "071d58aa-e658-4012-abf8-65efead7e5d1"
      },
      "execution_count": null,
      "outputs": [
        {
          "output_type": "execute_result",
          "data": {
            "text/plain": [
              "200"
            ]
          },
          "metadata": {},
          "execution_count": 142
        }
      ]
    },
    {
      "cell_type": "code",
      "source": [
        "states = [\"Andhra\", \"delhi\",\"tn\",\"mp\",\"kerala\",\"karnataka\"]"
      ],
      "metadata": {
        "id": "qElOS5BmgHM9"
      },
      "execution_count": null,
      "outputs": []
    },
    {
      "cell_type": "code",
      "source": [
        "data = {\"year\": 2000,2001,2002,2004,2005,2006}\n",
        "\"states\":[\"Andhra\", \"delhi\",\"tn\",\"mp\",\"kerala\",\"karnataka\"]\n",
        "pop"
      ],
      "metadata": {
        "id": "yOFoePFpiX0E",
        "outputId": "fccec326-421c-4d10-f05a-8a5ec4965735",
        "colab": {
          "base_uri": "https://localhost:8080/",
          "height": 106
        }
      },
      "execution_count": null,
      "outputs": [
        {
          "output_type": "error",
          "ename": "SyntaxError",
          "evalue": "':' expected after dictionary key (<ipython-input-1-052a2133cfb1>, line 1)",
          "traceback": [
            "\u001b[0;36m  File \u001b[0;32m\"<ipython-input-1-052a2133cfb1>\"\u001b[0;36m, line \u001b[0;32m1\u001b[0m\n\u001b[0;31m    data = {\"year\": 2000,2001,2002,2004,2005,2006}\u001b[0m\n\u001b[0m                            ^\u001b[0m\n\u001b[0;31mSyntaxError\u001b[0m\u001b[0;31m:\u001b[0m ':' expected after dictionary key\n"
          ]
        }
      ]
    },
    {
      "cell_type": "code",
      "source": [],
      "metadata": {
        "id": "rz8mgSNsX-FF"
      },
      "execution_count": null,
      "outputs": []
    }
  ]
}