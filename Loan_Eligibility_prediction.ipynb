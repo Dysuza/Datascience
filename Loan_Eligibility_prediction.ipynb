{
  "nbformat": 4,
  "nbformat_minor": 0,
  "metadata": {
    "colab": {
      "provenance": [],
      "include_colab_link": true
    },
    "kernelspec": {
      "name": "python3",
      "display_name": "Python 3"
    },
    "language_info": {
      "name": "python"
    }
  },
  "cells": [
    {
      "cell_type": "markdown",
      "metadata": {
        "id": "view-in-github",
        "colab_type": "text"
      },
      "source": [
        "<a href=\"https://colab.research.google.com/github/Dysuza/Datascience/blob/main/Loan_Eligibility_prediction.ipynb\" target=\"_parent\"><img src=\"https://colab.research.google.com/assets/colab-badge.svg\" alt=\"Open In Colab\"/></a>"
      ]
    },
    {
      "cell_type": "code",
      "execution_count": 1,
      "metadata": {
        "id": "pWX76N-8idFp"
      },
      "outputs": [],
      "source": [
        "import pandas as pd\n",
        "from sklearn.model_selection import train_test_split, GridSearchCV\n",
        "from sklearn.preprocessing import LabelEncoder, StandardScaler\n",
        "from sklearn.impute import SimpleImputer\n",
        "from sklearn.linear_model import LogisticRegression\n",
        "from sklearn.metrics import accuracy_score, confusion_matrix\n",
        "from sklearn.ensemble import RandomForestClassifier\n",
        "from sklearn.pipeline import Pipeline\n",
        "from sklearn.feature_selection import SelectKBest, f_classif"
      ]
    },
    {
      "cell_type": "code",
      "source": [
        "train_data = pd.read_csv('train_ctrUa4K.csv')\n",
        "test_data = pd.read_csv('test_lAUu6dG.csv')\n"
      ],
      "metadata": {
        "id": "dYTDS98cjZyW"
      },
      "execution_count": 32,
      "outputs": []
    },
    {
      "cell_type": "code",
      "source": [
        "X = train_data.drop(columns=['Loan_ID', 'Loan_Status'])\n",
        "y = train_data['Loan_Status']"
      ],
      "metadata": {
        "id": "hAD_iqd-jdTG"
      },
      "execution_count": 33,
      "outputs": []
    },
    {
      "cell_type": "code",
      "source": [
        "test_ids = test_data['Loan_ID']\n",
        "combined_data = pd.concat([X, test_data.drop(columns=['Loan_ID'])], axis=0)\n",
        "\n",
        "imputer = SimpleImputer(strategy='mean')"
      ],
      "metadata": {
        "id": "7s-Y0QF1jiQ8"
      },
      "execution_count": 34,
      "outputs": []
    },
    {
      "cell_type": "code",
      "source": [
        "combined_data['LoanAmount'] = imputer.fit_transform(combined_data[['LoanAmount']])\n",
        "combined_data['Loan_Amount_Term'] = imputer.fit_transform(combined_data[['Loan_Amount_Term']])\n",
        "combined_data['Credit_History'] = imputer.fit_transform(combined_data[['Credit_History']])"
      ],
      "metadata": {
        "id": "aFotsiKTjpEe"
      },
      "execution_count": 35,
      "outputs": []
    },
    {
      "cell_type": "code",
      "source": [
        "categorical_columns = ['Gender', 'Married', 'Dependents', 'Self_Employed', 'Property_Area', 'Education']\n",
        "combined_data[categorical_columns] = combined_data[categorical_columns].fillna(combined_data[categorical_columns].mode().iloc[0])"
      ],
      "metadata": {
        "id": "eEFDIQEljr2j"
      },
      "execution_count": 36,
      "outputs": []
    },
    {
      "cell_type": "code",
      "source": [
        "encoder = LabelEncoder()\n",
        "for column in categorical_columns:\n",
        "  combined_data[column] = encoder.fit_transform(combined_data[column])"
      ],
      "metadata": {
        "id": "6vUSHQ4GjuQi"
      },
      "execution_count": 37,
      "outputs": []
    },
    {
      "cell_type": "code",
      "source": [
        "train_processed = combined_data[:len(train_data)]\n",
        "test_processed = combined_data[len(train_data):]"
      ],
      "metadata": {
        "id": "bKubpGJJj9Gk"
      },
      "execution_count": 38,
      "outputs": []
    },
    {
      "cell_type": "code",
      "source": [
        "scaler = StandardScaler()\n",
        "numerical_columns = ['ApplicantIncome', 'CoapplicantIncome', 'LoanAmount', 'Loan_Amount_Term']\n",
        "train_processed[numerical_columns] = scaler.fit_transform(train_processed[numerical_columns])\n",
        "test_processed[numerical_columns] = scaler.transform(test_processed[numerical_columns])\n",
        "\n",
        "y = y.map({'Y': 1, 'N': 0})"
      ],
      "metadata": {
        "colab": {
          "base_uri": "https://localhost:8080/"
        },
        "id": "RN67ZWsiivrd",
        "outputId": "edd87a15-b88a-4a06-cdc4-fade8c1a7173"
      },
      "execution_count": 39,
      "outputs": [
        {
          "output_type": "stream",
          "name": "stderr",
          "text": [
            "<ipython-input-39-b87226b1b28f>:3: SettingWithCopyWarning: \n",
            "A value is trying to be set on a copy of a slice from a DataFrame.\n",
            "Try using .loc[row_indexer,col_indexer] = value instead\n",
            "\n",
            "See the caveats in the documentation: https://pandas.pydata.org/pandas-docs/stable/user_guide/indexing.html#returning-a-view-versus-a-copy\n",
            "  train_processed[numerical_columns] = scaler.fit_transform(train_processed[numerical_columns])\n",
            "<ipython-input-39-b87226b1b28f>:4: SettingWithCopyWarning: \n",
            "A value is trying to be set on a copy of a slice from a DataFrame.\n",
            "Try using .loc[row_indexer,col_indexer] = value instead\n",
            "\n",
            "See the caveats in the documentation: https://pandas.pydata.org/pandas-docs/stable/user_guide/indexing.html#returning-a-view-versus-a-copy\n",
            "  test_processed[numerical_columns] = scaler.transform(test_processed[numerical_columns])\n"
          ]
        }
      ]
    },
    {
      "cell_type": "code",
      "source": [
        "X_train, X_val, y_train, y_val = train_test_split(train_processed, y, test_size=0.2, random_state=42)"
      ],
      "metadata": {
        "id": "LYoqZCQRj5OX"
      },
      "execution_count": 40,
      "outputs": []
    },
    {
      "cell_type": "code",
      "source": [
        "selector = SelectKBest(f_classif, k='all')\n",
        "X_train_selected = selector.fit_transform(X_train, y_train)\n",
        "X_val_selected = selector.transform(X_val)"
      ],
      "metadata": {
        "id": "eldyeNZ7j79_"
      },
      "execution_count": 41,
      "outputs": []
    },
    {
      "cell_type": "code",
      "source": [
        "log_reg = LogisticRegression(max_iter=1000)\n",
        "param_grid = {\n",
        "    'C': [0.1, 1, 10, 100],\n",
        "    'penalty': ['l1', 'l2'],\n",
        "    'solver': ['liblinear']\n",
        "}\n",
        "\n",
        "grid_search = GridSearchCV(log_reg, param_grid, cv=5, scoring='accuracy')\n",
        "grid_search.fit(X_train_selected, y_train)\n",
        "\n",
        "best_model = grid_search.best_estimator_\n",
        "print(\"Best Parameters: \", grid_search.best_params_)"
      ],
      "metadata": {
        "colab": {
          "base_uri": "https://localhost:8080/"
        },
        "id": "buDz9BzLjVTi",
        "outputId": "fcb2e7c2-f2cc-4ce9-b54b-3c92d480c0f3"
      },
      "execution_count": 42,
      "outputs": [
        {
          "output_type": "stream",
          "name": "stdout",
          "text": [
            "Best Parameters:  {'C': 0.1, 'penalty': 'l1', 'solver': 'liblinear'}\n"
          ]
        }
      ]
    },
    {
      "cell_type": "code",
      "source": [
        "y_val_pred = best_model.predict(X_val_selected)\n",
        "accuracy = accuracy_score(y_val, y_val_pred)\n",
        "print(f'Vallidation Accuracy: {accuracy * 100:.2f}%')\n",
        "\n"
      ],
      "metadata": {
        "colab": {
          "base_uri": "https://localhost:8080/"
        },
        "id": "6TUO3_dbjHw5",
        "outputId": "78f2a2ff-963c-4e9c-cea7-04eb9a78c320"
      },
      "execution_count": 48,
      "outputs": [
        {
          "output_type": "stream",
          "name": "stdout",
          "text": [
            "Vallidation Accuracy: 78.86%\n"
          ]
        }
      ]
    },
    {
      "cell_type": "code",
      "source": [
        "conf_matrix = confusion_matrix(y_val, y_val_pred)\n",
        "print(\" Matrix:\\n\", conf_matrix)"
      ],
      "metadata": {
        "colab": {
          "base_uri": "https://localhost:8080/"
        },
        "id": "84W3M33NjQ_r",
        "outputId": "83b76341-81df-4d99-88e5-c6991a4c36bc"
      },
      "execution_count": 49,
      "outputs": [
        {
          "output_type": "stream",
          "name": "stdout",
          "text": [
            " Matrix:\n",
            " [[18 25]\n",
            " [ 1 79]]\n"
          ]
        }
      ]
    },
    {
      "cell_type": "code",
      "source": [
        "train_processed_selected = selector.fit_transform(train_processed, y)\n",
        "test_processed_selected = selector.transform(test_processed)\n",
        "best_model.fit(train_processed_selected, y)\n",
        "\n",
        "test_predictions = best_model.predict(test_processed_selected)"
      ],
      "metadata": {
        "id": "1Jz6OrEjjKD3"
      },
      "execution_count": 50,
      "outputs": []
    },
    {
      "cell_type": "code",
      "source": [
        "submission = pd.DataFrame({'Loan_ID': test_ids, 'Loan_Status': ['Y' if pred == 1 else 'N' for pred in test_predictions]})\n",
        "submission.to_csv('output.csv', index=False)\n",
        "print('Save submission file as output.csv')"
      ],
      "metadata": {
        "colab": {
          "base_uri": "https://localhost:8080/"
        },
        "id": "dNl5xDAijMTZ",
        "outputId": "8ce0e653-be6d-4fe4-b8df-da46bc265fa2"
      },
      "execution_count": 47,
      "outputs": [
        {
          "output_type": "stream",
          "name": "stdout",
          "text": [
            "Save submission file as output.csv\n"
          ]
        }
      ]
    },
    {
      "cell_type": "code",
      "source": [],
      "metadata": {
        "id": "AT-tmtPMPd40"
      },
      "execution_count": null,
      "outputs": []
    }
  ]
}